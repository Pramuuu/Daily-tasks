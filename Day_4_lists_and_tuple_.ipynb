{
  "nbformat": 4,
  "nbformat_minor": 0,
  "metadata": {
    "colab": {
      "provenance": [],
      "authorship_tag": "ABX9TyObjzABZ5U91AIWoY09SNPu",
      "include_colab_link": true
    },
    "kernelspec": {
      "name": "python3",
      "display_name": "Python 3"
    },
    "language_info": {
      "name": "python"
    }
  },
  "cells": [
    {
      "cell_type": "markdown",
      "metadata": {
        "id": "view-in-github",
        "colab_type": "text"
      },
      "source": [
        "<a href=\"https://colab.research.google.com/github/Pramuuu/Daily-tasks/blob/main/Day_4_lists_and_tuple_.ipynb\" target=\"_parent\"><img src=\"https://colab.research.google.com/assets/colab-badge.svg\" alt=\"Open In Colab\"/></a>"
      ]
    },
    {
      "cell_type": "code",
      "execution_count": null,
      "metadata": {
        "id": "nUi6k7pYCmks",
        "colab": {
          "base_uri": "https://localhost:8080/"
        },
        "outputId": "72353c29-a204-4ddc-8ded-117122298a54"
      },
      "outputs": [
        {
          "output_type": "stream",
          "name": "stdout",
          "text": [
            "13\n"
          ]
        }
      ],
      "source": [
        "#count the lowercase letters,list of words\n",
        "def test(text):\n",
        "  return sum(map(str.islower, str(text)))\n",
        "a = [\"Red\", \"Green\", \"Blue\", \"White\"]\n",
        "print(test(a))"
      ]
    },
    {
      "cell_type": "code",
      "source": [
        "#append\n",
        "items = ['apple', 42, 3.14]\n",
        "print(\"Original list:\", items)\n",
        "items.append(True)\n",
        "print(\"List after adding a boolean:\", items)\n",
        "items.append({\"key\": \"value\"})\n",
        "print(\"List after adding a dictionary:\", items)"
      ],
      "metadata": {
        "id": "flD4FP2wMTRR"
      },
      "execution_count": null,
      "outputs": []
    },
    {
      "cell_type": "code",
      "source": [
        "def add_elements(lst, elements):\n",
        "    for elem in elements:\n",
        "        lst.append(elem)\n",
        "    return lst\n",
        "original_list = ['Python', 'is']\n",
        "new_elements = ['fun', 'and', 'powerful']\n",
        "updated_list = add_elements(original_list, new_elements)\n",
        "print(\"updated_list : \",updated_list)"
      ],
      "metadata": {
        "colab": {
          "base_uri": "https://localhost:8080/"
        },
        "id": "64KPF6sJVTaH",
        "outputId": "62bf3511-c547-4f5f-ebc0-84c7b0047cf2"
      },
      "execution_count": null,
      "outputs": [
        {
          "output_type": "stream",
          "name": "stdout",
          "text": [
            "updated_list :  ['Python', 'is', 'fun', 'and', 'powerful']\n"
          ]
        }
      ]
    },
    {
      "cell_type": "code",
      "source": [
        "fruits = ['apple', 'banana', 'cherry']\n",
        "print(\"Original list:\")\n",
        "print(fruits)\n",
        "fruits.insert(1, 'orange')\n",
        "print(\"List after inserting 'orange' at the second position:\")\n",
        "print(fruits)"
      ],
      "metadata": {
        "colab": {
          "base_uri": "https://localhost:8080/"
        },
        "id": "icM51Nj-VrVc",
        "outputId": "eac5e82d-acb7-4181-ec69-1d104afb8e04"
      },
      "execution_count": null,
      "outputs": [
        {
          "output_type": "stream",
          "name": "stdout",
          "text": [
            "Original list:\n",
            "['apple', 'banana', 'cherry']\n",
            "List after inserting 'orange' at the second position:\n",
            "['apple', 'orange', 'banana', 'cherry']\n"
          ]
        }
      ]
    },
    {
      "cell_type": "code",
      "source": [
        "nested_list = [[1, 2], [3, 4], [1, 2], [5, 6]]\n",
        "print(nested_list)\n",
        "nested_list.remove([1, 2])\n",
        "print(nested_list)\n"
      ],
      "metadata": {
        "colab": {
          "base_uri": "https://localhost:8080/"
        },
        "id": "971DFwfwYA9T",
        "outputId": "4365c9e0-ffc6-4743-8540-a6211f505e97"
      },
      "execution_count": null,
      "outputs": [
        {
          "output_type": "stream",
          "name": "stdout",
          "text": [
            "[[1, 2], [3, 4], [1, 2], [5, 6]]\n",
            "[[3, 4], [1, 2], [5, 6]]\n"
          ]
        }
      ]
    },
    {
      "cell_type": "code",
      "source": [
        "#deep copy\n",
        "import copy\n",
        "nested_list = [['Red', 'Green'], ['Black']]\n",
        "print(\"Original nested list:\")\n",
        "print(nested_list)\n",
        "deep_copied_list = copy.deepcopy(nested_list)\n",
        "print(\"Deep copied nested list:\")\n",
        "print(deep_copied_list)\n",
        "deep_copied_list[0].append('White')\n",
        "print(\"Deep copied list after adding an element:\")\n",
        "print(deep_copied_list)\n",
        "print(nested_list)"
      ],
      "metadata": {
        "colab": {
          "base_uri": "https://localhost:8080/"
        },
        "id": "-uwNBOgkYLBF",
        "outputId": "ac7b5313-3e2a-420b-c373-39c06f7b905f"
      },
      "execution_count": null,
      "outputs": [
        {
          "output_type": "stream",
          "name": "stdout",
          "text": [
            "Original nested list:\n",
            "[['Red', 'Green'], ['Black']]\n",
            "Deep copied nested list:\n",
            "[['Red', 'Green'], ['Black']]\n",
            "Deep copied list after adding an element:\n",
            "[['Red', 'Green', 'White'], ['Black']]\n",
            "[['Red', 'Green'], ['Black']]\n"
          ]
        }
      ]
    },
    {
      "cell_type": "code",
      "source": [
        "numbers = [1, 2, 3]\n",
        "print(\"Original list:\")\n",
        "print(numbers)\n",
        "num_set = {4, 5, 6}\n",
        "print(\"Set to add:\")\n",
        "print(num_set)\n",
        "numbers.extend(num_set)\n",
        "print(\"List after extending:\")\n",
        "print(numbers)"
      ],
      "metadata": {
        "colab": {
          "base_uri": "https://localhost:8080/"
        },
        "id": "dZoYwQd1YfQS",
        "outputId": "2682a324-2a44-4f1f-8800-efb098b044b7"
      },
      "execution_count": null,
      "outputs": [
        {
          "output_type": "stream",
          "name": "stdout",
          "text": [
            "Original list:\n",
            "[1, 2, 3]\n",
            "Set to add:\n",
            "{4, 5, 6}\n",
            "List after extending:\n",
            "[1, 2, 3, 4, 5, 6]\n"
          ]
        }
      ]
    },
    {
      "cell_type": "code",
      "source": [
        "fruits = ['orange', 'apple', 'pear', 'banana', 'kiwi', 'apple', 'banana']\n",
        "print(\"Original list:\")\n",
        "print(fruits)\n",
        "try:\n",
        "    index_nonexistent = fruits.index('apple', 2, 3)\n",
        "    print(\"Position of 'apple' within the specified range:\")\n",
        "    print(index_nonexistent)\n",
        "except ValueError as e:\n",
        "    print(\"Error:\", e)"
      ],
      "metadata": {
        "colab": {
          "base_uri": "https://localhost:8080/"
        },
        "id": "rxYbnvqTd3hv",
        "outputId": "85422604-a69e-4dd2-d543-f48f1f45568c"
      },
      "execution_count": null,
      "outputs": [
        {
          "output_type": "stream",
          "name": "stdout",
          "text": [
            "Original list:\n",
            "['orange', 'apple', 'pear', 'banana', 'kiwi', 'apple', 'banana']\n",
            "Error: 'apple' is not in list\n"
          ]
        }
      ]
    },
    {
      "cell_type": "code",
      "source": [
        "students = [\n",
        "    {'name': 'Jenny', 'grade': 'A', 'age': 16},\n",
        "    {'name': 'Tom', 'grade': 'B', 'age': 17},\n",
        "    {'name': 'Sue', 'grade': 'A', 'age': 15},\n",
        "    {'name': 'Mike', 'grade': 'B', 'age': 16},\n",
        "]\n",
        "students.sort(key=lambda x: (x['grade'], x['age']))\n",
        "print(\"\\nSorted list of students by grade and age:\")\n",
        "print(students)"
      ],
      "metadata": {
        "colab": {
          "base_uri": "https://localhost:8080/"
        },
        "id": "169zJDpfeeeK",
        "outputId": "127942b2-4f73-4c8b-862e-35c1cc23ddf6"
      },
      "execution_count": null,
      "outputs": [
        {
          "output_type": "stream",
          "name": "stdout",
          "text": [
            "\n",
            "Sorted list of students by grade and age:\n",
            "[{'name': 'Sue', 'grade': 'A', 'age': 15}, {'name': 'Jenny', 'grade': 'A', 'age': 16}, {'name': 'Mike', 'grade': 'B', 'age': 16}, {'name': 'Tom', 'grade': 'B', 'age': 17}]\n"
          ]
        }
      ]
    },
    {
      "cell_type": "code",
      "source": [
        "numbers = [1, 2, 3, 4, 5]\n",
        "print(\"Original List:\")\n",
        "print(numbers)\n",
        "numbers.reverse()\n",
        "print(\"Updated List:\")\n",
        "print(numbers)"
      ],
      "metadata": {
        "colab": {
          "base_uri": "https://localhost:8080/"
        },
        "id": "kf4W-Ud9euNR",
        "outputId": "7067878c-e8b0-4b62-f52a-66cd79c24ffc"
      },
      "execution_count": null,
      "outputs": [
        {
          "output_type": "stream",
          "name": "stdout",
          "text": [
            "Original List:\n",
            "[1, 2, 3, 4, 5]\n",
            "Updated List:\n",
            "[5, 4, 3, 2, 1]\n"
          ]
        }
      ]
    },
    {
      "cell_type": "code",
      "source": [
        "list_of_lists = [[1, 2], [3, 4], [5, 6]]\n",
        "print(\"Original List:\")\n",
        "print(list_of_lists)\n",
        "list_of_lists.reverse()\n",
        "print(\"Updated List:\")\n",
        "print(list_of_lists)"
      ],
      "metadata": {
        "colab": {
          "base_uri": "https://localhost:8080/"
        },
        "id": "zDZ9nnwMgh4r",
        "outputId": "30b7d491-6807-421d-fab9-2b5dc578529a"
      },
      "execution_count": null,
      "outputs": [
        {
          "output_type": "stream",
          "name": "stdout",
          "text": [
            "Original List:\n",
            "[[1, 2], [3, 4], [5, 6]]\n",
            "Updated List:\n",
            "[[5, 6], [3, 4], [1, 2]]\n"
          ]
        }
      ]
    },
    {
      "cell_type": "code",
      "source": [
        "colors = ['Red', 'Green', 'Black']\n",
        "print(\"Original list:\")\n",
        "print(colors)\n",
        "colors *= 0\n",
        "print(\"Clearing the said list using *= 0:\")\n",
        "print(\"New list:\", colors)"
      ],
      "metadata": {
        "colab": {
          "base_uri": "https://localhost:8080/"
        },
        "id": "ViI08VBPhs-A",
        "outputId": "aee2d7ad-4220-4592-b3ba-623984335fa1"
      },
      "execution_count": null,
      "outputs": [
        {
          "output_type": "stream",
          "name": "stdout",
          "text": [
            "Original list:\n",
            "['Red', 'Green', 'Black']\n",
            "Clearing the said list using *= 0:\n",
            "New list: []\n"
          ]
        }
      ]
    },
    {
      "cell_type": "code",
      "source": [
        "colors = ['Red', 'Green', 'Black']\n",
        "temp = colors\n",
        "colors.clear()\n",
        "print(\"Cleared list:\", colors)\n",
        "print(\"Reference to original list remains unchanged:\", temp)"
      ],
      "metadata": {
        "colab": {
          "base_uri": "https://localhost:8080/"
        },
        "id": "erhTOk6piOOI",
        "outputId": "2b700caa-dd58-46a5-97f9-ec2c16d619d9"
      },
      "execution_count": null,
      "outputs": [
        {
          "output_type": "stream",
          "name": "stdout",
          "text": [
            "Cleared list: []\n",
            "Reference to original list remains unchanged: []\n"
          ]
        }
      ]
    },
    {
      "cell_type": "code",
      "source": [
        "colors = ['Red', 'Green', 'Orange', 'Pink']\n",
        "print(\"Original List:\")\n",
        "print(colors)\n",
        "return_item_last = colors.pop(-1)\n",
        "print(\"Removed last item:\", return_item_last)\n",
        "print(\"Updated List:\", colors)\n",
        "colors = ['Red', 'Green', 'Orange', 'Pink']\n",
        "print(\"\\nOriginal List:\")\n",
        "print(colors)\n",
        "return_item_second_last = colors.pop(-2)\n",
        "print(\"Removed second last item:\", return_item_second_last)\n",
        "print(\"Updated List:\", colors)"
      ],
      "metadata": {
        "colab": {
          "base_uri": "https://localhost:8080/"
        },
        "id": "eqHPVi3jiS0O",
        "outputId": "a660f3c9-bed3-408f-b446-ebf1a0b424eb"
      },
      "execution_count": null,
      "outputs": [
        {
          "output_type": "stream",
          "name": "stdout",
          "text": [
            "Original List:\n",
            "['Red', 'Green', 'Orange', 'Pink']\n",
            "Removed last item: Pink\n",
            "Updated List: ['Red', 'Green', 'Orange']\n",
            "\n",
            "Original List:\n",
            "['Red', 'Green', 'Orange', 'Pink']\n",
            "Removed second last item: Orange\n",
            "Updated List: ['Red', 'Green', 'Pink']\n"
          ]
        }
      ]
    },
    {
      "cell_type": "code",
      "source": [
        "#indexing\n",
        "color_list = [\"Red\", \"Blue\", \"Green\", \"Black\"]\n",
        "print(color_list[0])\n",
        "print(color_list[3])\n",
        "print(color_list[-1])\n",
        "try:\n",
        "    print(color_list[4])\n",
        "except IndexError as e:\n",
        "    print(f\"IndexError: {e}\")\n"
      ],
      "metadata": {
        "colab": {
          "base_uri": "https://localhost:8080/"
        },
        "id": "Ul71mjyVS1NM",
        "outputId": "b4e20106-8bfd-4591-da29-ef31ac9f7c92"
      },
      "execution_count": 2,
      "outputs": [
        {
          "output_type": "stream",
          "name": "stdout",
          "text": [
            "Red\n",
            "Black\n",
            "Black\n",
            "IndexError: list index out of range\n"
          ]
        }
      ]
    },
    {
      "cell_type": "code",
      "source": [
        "#adding at end\n",
        "color_list=[\"Red\", \"Blue\", \"Green\", \"Black\"]\n",
        "print(color_list)\n",
        "['Red', 'Blue', 'Green', 'Black']\n",
        "color_list.append(\"Yellow\")\n",
        "print(color_list)\n",
        "['Red', 'Blue', 'Green', 'Black', 'Yellow']"
      ],
      "metadata": {
        "colab": {
          "base_uri": "https://localhost:8080/"
        },
        "id": "M9MYZcvHTztZ",
        "outputId": "cf04b3b2-b422-4fe2-921e-986a97a96d3c"
      },
      "execution_count": 3,
      "outputs": [
        {
          "output_type": "stream",
          "name": "stdout",
          "text": [
            "['Red', 'Blue', 'Green', 'Black']\n",
            "['Red', 'Blue', 'Green', 'Black', 'Yellow']\n"
          ]
        },
        {
          "output_type": "execute_result",
          "data": {
            "text/plain": [
              "['Red', 'Blue', 'Green', 'Black', 'Yellow']"
            ]
          },
          "metadata": {},
          "execution_count": 3
        }
      ]
    },
    {
      "cell_type": "code",
      "source": [
        "color_list=[\"Red\", \"Blue\", \"Green\", \"Black\"]\n",
        "print(color_list)\n",
        "['Red', 'Blue', 'Green', 'Black']\n",
        "color_list.insert(2, \"White\")\n",
        "print(color_list)\n",
        "['Red', 'Blue', 'White', 'Green', 'Black']"
      ],
      "metadata": {
        "colab": {
          "base_uri": "https://localhost:8080/"
        },
        "id": "uE90I7XjVQzm",
        "outputId": "5e9b1e26-924c-4deb-88bb-2c70adf5040a"
      },
      "execution_count": 4,
      "outputs": [
        {
          "output_type": "stream",
          "name": "stdout",
          "text": [
            "['Red', 'Blue', 'Green', 'Black']\n",
            "['Red', 'Blue', 'White', 'Green', 'Black']\n"
          ]
        },
        {
          "output_type": "execute_result",
          "data": {
            "text/plain": [
              "['Red', 'Blue', 'White', 'Green', 'Black']"
            ]
          },
          "metadata": {},
          "execution_count": 4
        }
      ]
    },
    {
      "cell_type": "code",
      "source": [
        "color_list=[\"Red\", \"Blue\", \"Green\", \"Black\"]\n",
        "print(color_list)\n",
        "['Red', 'Blue', 'Green', 'Black']\n",
        "color_list[2]=\"Yellow\"\n",
        "print(color_list)\n",
        "['Red', 'Blue', 'Yellow', 'Black']"
      ],
      "metadata": {
        "colab": {
          "base_uri": "https://localhost:8080/"
        },
        "id": "d5mrsVazW7Py",
        "outputId": "8973850e-c3c6-491c-b8e2-de067d720e39"
      },
      "execution_count": 5,
      "outputs": [
        {
          "output_type": "stream",
          "name": "stdout",
          "text": [
            "['Red', 'Blue', 'Green', 'Black']\n",
            "['Red', 'Blue', 'Yellow', 'Black']\n"
          ]
        },
        {
          "output_type": "execute_result",
          "data": {
            "text/plain": [
              "['Red', 'Blue', 'Yellow', 'Black']"
            ]
          },
          "metadata": {},
          "execution_count": 5
        }
      ]
    },
    {
      "cell_type": "code",
      "source": [
        "color_list=[\"Red\", \"Blue\", \"Green\", \"Black\"]\n",
        "print(color_list)\n",
        "['Red', 'Blue', 'Green', 'Black']\n",
        "color_list.remove(\"Black\")\n",
        "print(color_list)\n",
        "['Red', 'Blue', 'Green']"
      ],
      "metadata": {
        "colab": {
          "base_uri": "https://localhost:8080/"
        },
        "id": "meyT_mK8XGlD",
        "outputId": "5c71264a-37f1-4720-abd1-e2a7270842c3"
      },
      "execution_count": 6,
      "outputs": [
        {
          "output_type": "stream",
          "name": "stdout",
          "text": [
            "['Red', 'Blue', 'Green', 'Black']\n",
            "['Red', 'Blue', 'Green']\n"
          ]
        },
        {
          "output_type": "execute_result",
          "data": {
            "text/plain": [
              "['Red', 'Blue', 'Green']"
            ]
          },
          "metadata": {},
          "execution_count": 6
        }
      ]
    },
    {
      "cell_type": "code",
      "source": [
        "#List Slices\n",
        "tuplex = ()\n",
        "print (tuplex)\n",
        "tuplex = ('tuple', False, 3.2, 1)\n",
        "print (tuplex)\n",
        "('tuple', False, 3.2, 1)\n",
        "tuplex = 4, 7, 3, 8, 1\n",
        "print (tuplex)\n",
        "(4, 7, 3, 8, 1)\n",
        "tuplex = 4,\n",
        "print (tuplex)\n",
        "(4,)\n",
        "tuplex = tuple()\n",
        "print (tuplex)\n",
        "tuplex = tuple([True, False])\n",
        "print (tuplex)\n",
        "(True, False)"
      ],
      "metadata": {
        "colab": {
          "base_uri": "https://localhost:8080/"
        },
        "id": "jlz-9FGcXS32",
        "outputId": "dfed1b64-dadd-4d8e-b423-d6d7e442eccc"
      },
      "execution_count": 8,
      "outputs": [
        {
          "output_type": "stream",
          "name": "stdout",
          "text": [
            "()\n",
            "('tuple', False, 3.2, 1)\n",
            "(4, 7, 3, 8, 1)\n",
            "(4,)\n",
            "()\n",
            "(True, False)\n"
          ]
        },
        {
          "output_type": "execute_result",
          "data": {
            "text/plain": [
              "(True, False)"
            ]
          },
          "metadata": {},
          "execution_count": 8
        }
      ]
    },
    {
      "cell_type": "code",
      "source": [],
      "metadata": {
        "id": "QtqSxBOOq0et"
      },
      "execution_count": null,
      "outputs": []
    }
  ]
}