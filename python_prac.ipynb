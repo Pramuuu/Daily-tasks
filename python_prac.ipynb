{
  "nbformat": 4,
  "nbformat_minor": 0,
  "metadata": {
    "colab": {
      "provenance": [],
      "authorship_tag": "ABX9TyM8RY8z8z87C3Mf45YfDw3z",
      "include_colab_link": true
    },
    "kernelspec": {
      "name": "python3",
      "display_name": "Python 3"
    },
    "language_info": {
      "name": "python"
    }
  },
  "cells": [
    {
      "cell_type": "markdown",
      "metadata": {
        "id": "view-in-github",
        "colab_type": "text"
      },
      "source": [
        "<a href=\"https://colab.research.google.com/github/Pramuuu/Daily-tasks/blob/main/python_prac.ipynb\" target=\"_parent\"><img src=\"https://colab.research.google.com/assets/colab-badge.svg\" alt=\"Open In Colab\"/></a>"
      ]
    },
    {
      "cell_type": "code",
      "source": [
        "n=int(input(\"Enter a number: \"))\n",
        "if n%2==0:\n",
        "  print(n,\"is an even number.\")\n",
        "else:\n",
        "  print(n,\"is an odd number.\")\n"
      ],
      "metadata": {
        "colab": {
          "base_uri": "https://localhost:8080/"
        },
        "id": "jYrdkSVg_ffX",
        "outputId": "b4a15656-e345-42e3-e227-a70b07bb2ace"
      },
      "execution_count": null,
      "outputs": [
        {
          "output_type": "stream",
          "name": "stdout",
          "text": [
            "Enter a number: 5\n",
            "5 is an odd number.\n"
          ]
        }
      ]
    },
    {
      "cell_type": "code",
      "source": [
        "n=int(input(\"Enter a number: \"))\n",
        "if n&1:\n",
        "  print(n,\"is an odd number.\")\n",
        "else:\n",
        "  print(n,\"is an even number.\")"
      ],
      "metadata": {
        "colab": {
          "base_uri": "https://localhost:8080/"
        },
        "id": "zLUoa4fLJU0v",
        "outputId": "b65ce086-9616-440e-8581-775f5927b80f"
      },
      "execution_count": null,
      "outputs": [
        {
          "output_type": "stream",
          "name": "stdout",
          "text": [
            "Enter a number: 5\n",
            "5 is an odd number.\n"
          ]
        }
      ]
    },
    {
      "cell_type": "code",
      "source": [
        "def check(n):\n",
        "  if(n<2):\n",
        "    return (n%2==0)\n",
        "  return (check(n-2))\n",
        "n=int(input(\"Enter number: \"))\n",
        "if(check(n)==True):\n",
        "  print(\"Number is even!\")\n",
        "else:\n",
        "  print(\"Number is odd!\")"
      ],
      "metadata": {
        "colab": {
          "base_uri": "https://localhost:8080/"
        },
        "id": "NohHrQNgPT7D",
        "outputId": "3fdc0cda-990d-43b9-9f2c-d116c71d4cef"
      },
      "execution_count": null,
      "outputs": [
        {
          "output_type": "stream",
          "name": "stdout",
          "text": [
            "Enter number: 45\n",
            "Number is odd!\n"
          ]
        }
      ]
    },
    {
      "cell_type": "code",
      "source": [
        "check_number = lambda num: \"even\" if num % 2 ==0 else \"odd\"\n",
        "number = int(input(\"Enter a number: \"))\n",
        "result = check_number(number)\n",
        "print(number,\"is an\",result,\"number.\")"
      ],
      "metadata": {
        "colab": {
          "base_uri": "https://localhost:8080/"
        },
        "id": "WWKQiQnNb7Wa",
        "outputId": "7ec94a8a-26d5-4e7b-b9dd-796e7b1d4539"
      },
      "execution_count": null,
      "outputs": [
        {
          "output_type": "stream",
          "name": "stdout",
          "text": [
            "Enter a number: 45\n",
            "45 is an odd number.\n"
          ]
        }
      ]
    },
    {
      "cell_type": "code",
      "source": [
        "a=int(input(\"enter a value: \"))\n",
        "if(a>0):\n",
        "  print(\"it is a positive value\")\n",
        "else:\n",
        "  print(\"it is a negative integer \")"
      ],
      "metadata": {
        "colab": {
          "base_uri": "https://localhost:8080/"
        },
        "id": "Hz5Y9l83g7mm",
        "outputId": "6af964d2-e340-425e-fa4b-4a6b879e1668"
      },
      "execution_count": null,
      "outputs": [
        {
          "output_type": "stream",
          "name": "stdout",
          "text": [
            "enter a value: -2\n",
            "it is a negative integer \n"
          ]
        }
      ]
    },
    {
      "cell_type": "code",
      "source": [
        "a=int(input(\"enter a variable: \"))\n",
        "b=int(input(\"enter a lower varaible: \"))\n",
        "for i in range(a,b+1):\n",
        "  if(i%2!=0):\n",
        "    print(i)"
      ],
      "metadata": {
        "colab": {
          "base_uri": "https://localhost:8080/"
        },
        "id": "HPAuz6GOmKnJ",
        "outputId": "a99d3444-62a7-40ee-d885-e0be1d5d3cb7"
      },
      "execution_count": null,
      "outputs": [
        {
          "output_type": "stream",
          "name": "stdout",
          "text": [
            "enter a variable: 4\n",
            "enter a lower varaible: 6\n",
            "5\n"
          ]
        }
      ]
    },
    {
      "cell_type": "code",
      "source": [
        "n=int(input(\"enter a number: \"))\n",
        "temp=n\n",
        "rev=0\n",
        "while(n>0):\n",
        "  dig=n%10\n",
        "  rev=rev*10+dig\n",
        "  n=n//10\n",
        "if(temp==rev):\n",
        "  print(\"The number is a palindrome\")\n",
        "else:\n",
        "  print(\"the number isn't a palindrome\")\n",
        "\n"
      ],
      "metadata": {
        "id": "p67gmX7TmxZA",
        "colab": {
          "base_uri": "https://localhost:8080/"
        },
        "outputId": "9b6738d5-2b03-4957-8cf5-1002a36ced9d"
      },
      "execution_count": null,
      "outputs": [
        {
          "output_type": "stream",
          "name": "stdout",
          "text": [
            "enter a number: 12345\n",
            "the number isn't a palindrome\n"
          ]
        }
      ]
    },
    {
      "cell_type": "code",
      "source": [
        "#built in functions#\n",
        "def is_palindrome(n):\n",
        "  return str(n)==''.join(reversed(str(n)))\n",
        "n=int(input(\"Enter number: \"))\n",
        "if is_palindrome(n):\n",
        "  print(\"the number is a palindrome\")\n",
        "else:\n",
        "  print(\"the number is not a palindrome\")\n",
        "\n",
        "\n"
      ],
      "metadata": {
        "colab": {
          "base_uri": "https://localhost:8080/"
        },
        "id": "QDyIvz2wb9AY",
        "outputId": "ccb2bd69-c5c0-45fb-a51a-a68eec37d3a9"
      },
      "execution_count": null,
      "outputs": [
        {
          "output_type": "stream",
          "name": "stdout",
          "text": [
            "Enter number: 12345\n",
            "the number is not a palindrome\n"
          ]
        }
      ]
    },
    {
      "cell_type": "code",
      "source": [
        "def is_palindrome(n,temp,rev=0):\n",
        "  if n==0:\n",
        "    if temp==rev:\n",
        "      return (\"the number is a palindrome\")\n",
        "    else:\n",
        "      return(\"the number is not a palindrome\")\n",
        "  else:\n",
        "    dig=n%10\n",
        "    rev=rev*10+dig\n",
        "    n=n//10\n",
        "    return is_palindrome(n,temp,rev)\n",
        "n=int(input(\"enter number\"))\n",
        "result=is_palindrome(n,n)\n",
        "print(result)"
      ],
      "metadata": {
        "colab": {
          "base_uri": "https://localhost:8080/"
        },
        "id": "YgFFKcfXlwA6",
        "outputId": "55d2d328-6547-4732-a5d5-638807049999"
      },
      "execution_count": null,
      "outputs": [
        {
          "output_type": "stream",
          "name": "stdout",
          "text": [
            "enter number12345\n",
            "the number is not a palindrome\n"
          ]
        }
      ]
    },
    {
      "cell_type": "code",
      "source": [
        "def is_palindrome(n):\n",
        "  num_str = str(n)\n",
        "  reversed_str = num_str"
      ],
      "metadata": {
        "id": "aAbFxcm-t1fk"
      },
      "execution_count": null,
      "outputs": []
    },
    {
      "cell_type": "code",
      "source": [
        "n=int(input(\"Enter a number: \"))\n",
        "temp=str(n)\n",
        "t1=temp+temp\n",
        "t2=temp+temp+temp\n",
        "comp=n+int(t1)+int(t2)\n",
        "print(\"The value is:\",comp)"
      ],
      "metadata": {
        "colab": {
          "base_uri": "https://localhost:8080/"
        },
        "id": "oHp3y6CQQSWq",
        "outputId": "2d970541-120f-4e39-e81e-10064a62a22a"
      },
      "execution_count": null,
      "outputs": [
        {
          "output_type": "stream",
          "name": "stdout",
          "text": [
            "Enter a number: 3\n",
            "The value is: 369\n"
          ]
        }
      ]
    },
    {
      "cell_type": "code",
      "source": [
        "cm=int(input(\"enter the height in cm: \"))\n",
        "inches=0.394*cm\n",
        "feet=0.0328*cm\n",
        "print(\"the length in inches\",round(inches,2))\n",
        "print(\"the length in feet\",round(feet,2))\n"
      ],
      "metadata": {
        "colab": {
          "base_uri": "https://localhost:8080/"
        },
        "id": "US9h1kdtTCok",
        "outputId": "ed81b5d4-34e9-4a6e-b24b-b1e0a3823c31"
      },
      "execution_count": null,
      "outputs": [
        {
          "output_type": "stream",
          "name": "stdout",
          "text": [
            "enter the height in cm: 172\n",
            "the length in inches 67.77\n",
            "the length in feet 5.64\n"
          ]
        }
      ]
    },
    {
      "cell_type": "code",
      "source": [
        "a=int(input(\"enter the number: \"))\n",
        "if (a % 4==0 and a%100!=0 or a%400==0):\n",
        "  print(\"the year is a leap year!\")\n",
        "else:\n",
        "  print(\"the year isn't a leap year!\")"
      ],
      "metadata": {
        "colab": {
          "base_uri": "https://localhost:8080/"
        },
        "id": "q5NS7JIAUYj9",
        "outputId": "db33514e-8769-4602-8493-700191e86d75"
      },
      "execution_count": null,
      "outputs": [
        {
          "output_type": "stream",
          "name": "stdout",
          "text": [
            "enter the number: 4\n",
            "the year is a leap year!\n"
          ]
        }
      ]
    },
    {
      "cell_type": "code",
      "source": [
        "year=int(input(\"enter the number: \"))\n",
        "if year%4==0:\n",
        "  if year%100==0:\n",
        "    if year%400==0:\n",
        "      print(\"the year is a leap year!\")\n",
        "    else:\n",
        "      print(\"the year is not a leap year\")\n",
        "  else:\n",
        "    print(\"the year is a leap year\")\n",
        "else:\n",
        "  print(\"the year is not a leap year\")"
      ],
      "metadata": {
        "colab": {
          "base_uri": "https://localhost:8080/"
        },
        "id": "GG5d-e6_VioS",
        "outputId": "713117fe-96f7-4c85-f09d-f35697091c60"
      },
      "execution_count": null,
      "outputs": [
        {
          "output_type": "stream",
          "name": "stdout",
          "text": [
            "enter the number: 29\n",
            "the year is not a leap year\n"
          ]
        }
      ]
    },
    {
      "cell_type": "code",
      "source": [
        "a=input(\"enter date: \")\n",
        "dd,mm,yy=date.split('/')\n",
        "dd=int(dd)\n",
        "mm=int(mm)\n",
        "yy=int(yy)\n",
        "if(mm==1 or mm==3 or mm==5 or mm==7 or mm==8 or mm==10 or mm==12):\n",
        "  max1=31\n",
        "elif(mm==4 or mm==6 or mm==9 or mm==11):\n",
        "  max1=30\n",
        "elif(yy%4==0 and yy%100!=0 or yy%400==0):\n",
        "  max1=29\n",
        "else:\n",
        "  max1=28\n",
        "if(mm<1 or mm>12):\n",
        "  print(\"Date is invalid\")\n",
        "elif(dd<1 or dd>max1):\n"
      ],
      "metadata": {
        "id": "XTrWYCKyDEtl"
      },
      "execution_count": null,
      "outputs": []
    },
    {
      "cell_type": "code",
      "source": [
        "n=int(input(\"enter a number: \"))\n",
        "if n%2 ==0:\n",
        "  print(n,\"is an even number\")\n",
        "else:\n",
        "  print(n,\"is an odd number\")\n"
      ],
      "metadata": {
        "colab": {
          "base_uri": "https://localhost:8080/"
        },
        "id": "vinFJ-T3MfY7",
        "outputId": "e236d9f3-05a0-449b-a2d6-45cf3c5dbb81"
      },
      "execution_count": null,
      "outputs": [
        {
          "output_type": "stream",
          "name": "stdout",
          "text": [
            "enter a number: 4\n",
            "4 is an even number\n"
          ]
        }
      ]
    },
    {
      "cell_type": "code",
      "source": [
        "n=int(input(\"enter the number :\"))\n",
        "if n&1:\n",
        "  print(n,\"is an odd number\")\n",
        "else:\n",
        "  print(n,\"is an even number\")"
      ],
      "metadata": {
        "colab": {
          "base_uri": "https://localhost:8080/"
        },
        "id": "Qx5KY1LnNrhy",
        "outputId": "b2f4f3ed-ba69-4f62-dbce-dd03f6097044"
      },
      "execution_count": null,
      "outputs": [
        {
          "output_type": "stream",
          "name": "stdout",
          "text": [
            "enter the number :5\n",
            "5 is an odd number\n"
          ]
        }
      ]
    },
    {
      "cell_type": "code",
      "source": [
        "def check(n):\n",
        "  if(n<2):\n",
        "    return (n%2==0)\n",
        "  return (check(n-2))\n",
        "n=int(input(\"enter a number:\"))\n",
        "if(check(n)==True):\n",
        "  print(\"Number is even\")\n",
        "else:\n",
        "  print(\"Number is odd\")"
      ],
      "metadata": {
        "colab": {
          "base_uri": "https://localhost:8080/"
        },
        "id": "jRWhHDoqOCN3",
        "outputId": "e328a462-529e-4e4c-cfc6-2d8226ba87a9"
      },
      "execution_count": null,
      "outputs": [
        {
          "output_type": "stream",
          "name": "stdout",
          "text": [
            "enter a number:6\n",
            "Number is even\n"
          ]
        }
      ]
    },
    {
      "cell_type": "code",
      "source": [
        "a=[]\n",
        "n=int(input(\"Enter a number:\"))\n",
        "for i in range(1,n+1):\n",
        "  b=int(input(\"Enter element:\"))\n",
        "  a.append(b)\n",
        "a.sort()\n",
        "print(\"Largest element is:\",a[n-1])"
      ],
      "metadata": {
        "colab": {
          "base_uri": "https://localhost:8080/"
        },
        "id": "X12kuhN1OXH_",
        "outputId": "fd488337-5526-4957-aa71-346513fac05b"
      },
      "execution_count": null,
      "outputs": [
        {
          "output_type": "stream",
          "name": "stdout",
          "text": [
            "Enter a number:1\n",
            "Enter element:2\n",
            "Largest element is: 2\n"
          ]
        }
      ]
    },
    {
      "cell_type": "code",
      "source": [
        "a=[]#to store the values\n",
        "n=int(input(\"enter number of elements\")) #takes the input no of elements\n",
        "for i in range(1,n+1):\n",
        "  b=int(input(\"enter a number:\"))\n",
        "  a.append(b)\n",
        "a.sort()\n",
        "print(\"the largest number is\",a[n-1])"
      ],
      "metadata": {
        "colab": {
          "base_uri": "https://localhost:8080/"
        },
        "id": "oE9Qw6CGXblY",
        "outputId": "32a66d94-83a1-4183-8463-1f6e67b2103f"
      },
      "execution_count": null,
      "outputs": [
        {
          "output_type": "stream",
          "name": "stdout",
          "text": [
            "enter number of elements2\n",
            "enter a number:1\n",
            "enter a number:2\n",
            "the largest number is 2\n"
          ]
        }
      ]
    },
    {
      "cell_type": "code",
      "source": [
        "a=int(input(\"enter no of elements: \"))\n",
        "n=[]\n",
        "for i in range(1,a+1):\n",
        "  b=int(input(\"enter a number: \"))\n",
        "  n.append(b)\n",
        "n.sort()\n",
        "print(\"second largest element is:\",n[a-2])"
      ],
      "metadata": {
        "colab": {
          "base_uri": "https://localhost:8080/"
        },
        "id": "brKOe_jvYu7D",
        "outputId": "1021d312-90cd-4136-b5cd-cd235ac3bd60"
      },
      "execution_count": null,
      "outputs": [
        {
          "output_type": "stream",
          "name": "stdout",
          "text": [
            "enter no of elements: 2\n",
            "enter a number: 1\n",
            "enter a number: 2\n",
            "second largest element is: 1\n"
          ]
        }
      ]
    },
    {
      "cell_type": "code",
      "source": [
        "a=[]#to store the values\n",
        "n=int(input(\"enter number of elements\")) #takes the input no of elements\n",
        "for i in range(1,n+1):\n",
        "  b=int(input(\"enter a number:\"))\n",
        "  a.append(b)\n",
        "a.sort(reverse=True)\n",
        "print(\"the largest number is\",a[0])"
      ],
      "metadata": {
        "colab": {
          "base_uri": "https://localhost:8080/"
        },
        "id": "XuvImkFLZ12a",
        "outputId": "8eb896c5-f5c4-4698-a03d-2a333c7fc214"
      },
      "execution_count": null,
      "outputs": [
        {
          "output_type": "stream",
          "name": "stdout",
          "text": [
            "enter number of elements2\n",
            "enter a number:1\n",
            "enter a number:2\n",
            "the largest number is 2\n"
          ]
        }
      ]
    },
    {
      "cell_type": "code",
      "source": [
        "from typing import Counter\n",
        "#according to the solution description\n",
        "a=[]\n",
        "n=int(input(\"enter the number of elements: \"))\n",
        "for i in range(1,n+1):\n",
        "  b=int(input(\"enter a number: \"))\n",
        "  a.append(b)\n",
        "c=[]\n",
        "d=[]\n",
        "for i in a:\n",
        "  if(i%2==0):\n",
        "    c.append(i)\n",
        "  else:\n",
        "    d.append(i)\n",
        "c.sort()\n",
        "d.sort()\n",
        "count1=0\n",
        "count2=0\n",
        "for k in c:\n",
        "  count1=count1+1\n",
        "for j in d:\n",
        "  count2=count2+1\n",
        "print(\"Largest even number: \",c[count1-1])\n",
        "print(\"Largest odd number: \",d[count2-1])"
      ],
      "metadata": {
        "colab": {
          "base_uri": "https://localhost:8080/"
        },
        "id": "6g3L2JP4afnr",
        "outputId": "a74ef4c0-d6b1-457e-ff08-0e042cdc703c"
      },
      "execution_count": null,
      "outputs": [
        {
          "output_type": "stream",
          "name": "stdout",
          "text": [
            "enter the number of elements: 3\n",
            "enter a number: 1\n",
            "enter a number: 2\n",
            "enter a number: 3\n",
            "Largest even number:  2\n",
            "Largest odd number:  3\n"
          ]
        }
      ]
    },
    {
      "cell_type": "code",
      "source": [
        "a=[]\n",
        "n=int(input(\"enter number of elelments: \"))\n",
        "for i in range(1,n+1):\n",
        "  b=int(input(\"enter element: \"))\n",
        "  a.append(b)\n",
        "a.sort()\n",
        "print(\"largest element is: \",a[n-1])"
      ],
      "metadata": {
        "colab": {
          "base_uri": "https://localhost:8080/"
        },
        "id": "VIOpQWKAr0q7",
        "outputId": "b259a953-633f-44d0-df1e-0fd3068c135c"
      },
      "execution_count": null,
      "outputs": [
        {
          "output_type": "stream",
          "name": "stdout",
          "text": [
            "enter number of elelments: 2\n",
            "enter element: 1\n",
            "enter element: 2\n",
            "largest element is:  2\n"
          ]
        }
      ]
    },
    {
      "cell_type": "code",
      "source": [
        "a=[]\n",
        "n=int(input(\"enter the no of elements:\"))\n",
        "for i in range(1,n+1):\n",
        "  b=int(input(\"enter element:\"))\n",
        "  a.append(b)\n",
        "a.sort()\n",
        "print(\"second largest element is:\",a[n-2])"
      ],
      "metadata": {
        "colab": {
          "base_uri": "https://localhost:8080/"
        },
        "id": "Aa0Ukd6usjHD",
        "outputId": "a6a9b393-8700-4a80-8a73-5eb2b9de4237"
      },
      "execution_count": null,
      "outputs": [
        {
          "output_type": "stream",
          "name": "stdout",
          "text": [
            "enter the no of elements:2\n",
            "enter element:2\n",
            "enter element:3\n",
            "second largest element is: 2\n"
          ]
        }
      ]
    },
    {
      "cell_type": "code",
      "source": [
        "n=int(input(\"enter the number of elements to be in the list:\"))\n",
        "b=[]\n",
        "for i in range(0,n):\n",
        "  a=int(input(\"element: \"))\n",
        "  b.append(a)\n",
        "c=[]\n",
        "d=[]\n",
        "for i in b:\n",
        "  if(i%2==0):\n",
        "    c.append(i)\n",
        "  else:\n",
        "    d.append(i)\n",
        "c.sort()\n",
        "d.sort()\n",
        "count1=0\n",
        "count2=0\n",
        "for k in c:\n",
        "  count1=count1+1\n",
        "for j in d:\n",
        "  count2=count2+1\n",
        "print(\"largest even number:\",c[count1-1])\n",
        "print(\"largest odd number\",d[count2-1])"
      ],
      "metadata": {
        "colab": {
          "base_uri": "https://localhost:8080/"
        },
        "id": "yEdULMPhtdQf",
        "outputId": "57d02dbe-23eb-4879-f35e-6cd10eb859d6"
      },
      "execution_count": null,
      "outputs": [
        {
          "output_type": "stream",
          "name": "stdout",
          "text": [
            "enter the number of elements to be in the list:2\n",
            "element: 1\n",
            "element: 2\n",
            "largest even number: 2\n",
            "largest odd number 1\n"
          ]
        }
      ]
    },
    {
      "cell_type": "code",
      "source": [
        "a=[]\n",
        "n=int(input(\"enter the number of elements:\"))\n",
        "for i in range(1,n+1):\n",
        "  b=int(input(\"enter the element:\"))\n",
        "  a.append(b)\n",
        "even=[]\n",
        "odd=[]\n",
        "for j in a:\n",
        "  if(j%2==0):\n",
        "    even.append(j)\n",
        "  else:\n",
        "    odd.append(j)\n",
        "print(\"the even list\",even)\n",
        "print(\"the odd list\",odd)\n"
      ],
      "metadata": {
        "colab": {
          "base_uri": "https://localhost:8080/"
        },
        "id": "UWRAx8s8u7Nh",
        "outputId": "c15e0751-c6f3-404f-d17d-b9223bfe2f0e"
      },
      "execution_count": null,
      "outputs": [
        {
          "output_type": "stream",
          "name": "stdout",
          "text": [
            "enter the number of elements:2\n",
            "enter the element:1\n",
            "enter the element:2\n",
            "the even list [2]\n",
            "the odd list [1]\n"
          ]
        }
      ]
    },
    {
      "cell_type": "code",
      "source": [
        "a=[]\n",
        "n=int(input(\"enter the no of elements:\"))\n",
        "for i in range(0,n):\n",
        "  elem=int(input(\"enter element: \"))\n",
        "  a.append(elem)\n",
        "avg=sum(a)/n\n",
        "print(\"average of elelments in the list\",round(avg,2))\n"
      ],
      "metadata": {
        "colab": {
          "base_uri": "https://localhost:8080/"
        },
        "id": "18Okv4KgzNCw",
        "outputId": "e3eb4c0f-7e40-445c-9a56-a33da992d282"
      },
      "execution_count": null,
      "outputs": [
        {
          "output_type": "stream",
          "name": "stdout",
          "text": [
            "enter the no of elements:2\n",
            "enter element: 1\n",
            "enter element: 2\n",
            "average of elelments in the list 1.5\n"
          ]
        }
      ]
    },
    {
      "cell_type": "code",
      "source": [
        "def factorial(n):\n",
        "  if n==0:\n",
        "    return 1\n",
        "  else:\n",
        "    return n*factorial(n-1)\n",
        "n=int(input(\"input a number to compute thr factorial: \"))\n",
        "print(factorial(n))\n"
      ],
      "metadata": {
        "id": "BSK0evEO4QsX",
        "colab": {
          "base_uri": "https://localhost:8080/"
        },
        "outputId": "f9669a2b-f278-46ca-808c-86bb04834fc7"
      },
      "execution_count": null,
      "outputs": [
        {
          "output_type": "stream",
          "name": "stdout",
          "text": [
            "input a number to compute thr factorial: 4\n",
            "24\n"
          ]
        }
      ]
    },
    {
      "cell_type": "code",
      "source": [
        "def function(n):\n",
        "  if not ((n >=0) and (n%1==0)):\n",
        "    return (\"Number can't be negative or floating number\")\n",
        "  return 1 if n==0 else n* factorial(n-1)\n",
        "print(\"\\nFactorial of 5: \", factorial(5))\n",
        "print(\"\\nFactorial of -12: \",factorial(-12))\n",
        "print(\"\\nFactorial of 1.22: \",factorial(1.22))\n",
        "print(\"\\nFactorial of 100: \",factorial(100))"
      ],
      "metadata": {
        "colab": {
          "base_uri": "https://localhost:8080/",
          "height": 425
        },
        "id": "zc9-tGD6cWNy",
        "outputId": "92828132-2a1c-4826-9139-e4f4b864c925"
      },
      "execution_count": null,
      "outputs": [
        {
          "output_type": "stream",
          "name": "stdout",
          "text": [
            "\n",
            "Factorial of 5:  120\n"
          ]
        },
        {
          "output_type": "error",
          "ename": "RecursionError",
          "evalue": "maximum recursion depth exceeded in comparison",
          "traceback": [
            "\u001b[0;31m---------------------------------------------------------------------------\u001b[0m",
            "\u001b[0;31mRecursionError\u001b[0m                            Traceback (most recent call last)",
            "\u001b[0;32m<ipython-input-2-17b2698e4061>\u001b[0m in \u001b[0;36m<cell line: 6>\u001b[0;34m()\u001b[0m\n\u001b[1;32m      4\u001b[0m   \u001b[0;32mreturn\u001b[0m \u001b[0;36m1\u001b[0m \u001b[0;32mif\u001b[0m \u001b[0mn\u001b[0m\u001b[0;34m==\u001b[0m\u001b[0;36m0\u001b[0m \u001b[0;32melse\u001b[0m \u001b[0mn\u001b[0m\u001b[0;34m*\u001b[0m \u001b[0mfactorial\u001b[0m\u001b[0;34m(\u001b[0m\u001b[0mn\u001b[0m\u001b[0;34m-\u001b[0m\u001b[0;36m1\u001b[0m\u001b[0;34m)\u001b[0m\u001b[0;34m\u001b[0m\u001b[0;34m\u001b[0m\u001b[0m\n\u001b[1;32m      5\u001b[0m \u001b[0mprint\u001b[0m\u001b[0;34m(\u001b[0m\u001b[0;34m\"\\nFactorial of 5: \"\u001b[0m\u001b[0;34m,\u001b[0m \u001b[0mfactorial\u001b[0m\u001b[0;34m(\u001b[0m\u001b[0;36m5\u001b[0m\u001b[0;34m)\u001b[0m\u001b[0;34m)\u001b[0m\u001b[0;34m\u001b[0m\u001b[0;34m\u001b[0m\u001b[0m\n\u001b[0;32m----> 6\u001b[0;31m \u001b[0mprint\u001b[0m\u001b[0;34m(\u001b[0m\u001b[0;34m\"\\nFactorial of -12: \"\u001b[0m\u001b[0;34m,\u001b[0m\u001b[0mfactorial\u001b[0m\u001b[0;34m(\u001b[0m\u001b[0;34m-\u001b[0m\u001b[0;36m12\u001b[0m\u001b[0;34m)\u001b[0m\u001b[0;34m)\u001b[0m\u001b[0;34m\u001b[0m\u001b[0;34m\u001b[0m\u001b[0m\n\u001b[0m\u001b[1;32m      7\u001b[0m \u001b[0mprint\u001b[0m\u001b[0;34m(\u001b[0m\u001b[0;34m\"\\nFactorial of 1.22: \"\u001b[0m\u001b[0;34m,\u001b[0m\u001b[0mfactorial\u001b[0m\u001b[0;34m(\u001b[0m\u001b[0;36m1.22\u001b[0m\u001b[0;34m)\u001b[0m\u001b[0;34m)\u001b[0m\u001b[0;34m\u001b[0m\u001b[0;34m\u001b[0m\u001b[0m\n\u001b[1;32m      8\u001b[0m \u001b[0mprint\u001b[0m\u001b[0;34m(\u001b[0m\u001b[0;34m\"\\nFactorial of 100: \"\u001b[0m\u001b[0;34m,\u001b[0m\u001b[0mfactorial\u001b[0m\u001b[0;34m(\u001b[0m\u001b[0;36m100\u001b[0m\u001b[0;34m)\u001b[0m\u001b[0;34m)\u001b[0m\u001b[0;34m\u001b[0m\u001b[0;34m\u001b[0m\u001b[0m\n",
            "\u001b[0;32m<ipython-input-1-db7c9c8d632f>\u001b[0m in \u001b[0;36mfactorial\u001b[0;34m(n)\u001b[0m\n\u001b[1;32m      3\u001b[0m     \u001b[0;32mreturn\u001b[0m \u001b[0;36m1\u001b[0m\u001b[0;34m\u001b[0m\u001b[0;34m\u001b[0m\u001b[0m\n\u001b[1;32m      4\u001b[0m   \u001b[0;32melse\u001b[0m\u001b[0;34m:\u001b[0m\u001b[0;34m\u001b[0m\u001b[0;34m\u001b[0m\u001b[0m\n\u001b[0;32m----> 5\u001b[0;31m     \u001b[0;32mreturn\u001b[0m \u001b[0mn\u001b[0m\u001b[0;34m*\u001b[0m\u001b[0mfactorial\u001b[0m\u001b[0;34m(\u001b[0m\u001b[0mn\u001b[0m\u001b[0;34m-\u001b[0m\u001b[0;36m1\u001b[0m\u001b[0;34m)\u001b[0m\u001b[0;34m\u001b[0m\u001b[0;34m\u001b[0m\u001b[0m\n\u001b[0m\u001b[1;32m      6\u001b[0m \u001b[0mn\u001b[0m\u001b[0;34m=\u001b[0m\u001b[0mint\u001b[0m\u001b[0;34m(\u001b[0m\u001b[0minput\u001b[0m\u001b[0;34m(\u001b[0m\u001b[0;34m\"input a number to compute thr factorial: \"\u001b[0m\u001b[0;34m)\u001b[0m\u001b[0;34m)\u001b[0m\u001b[0;34m\u001b[0m\u001b[0;34m\u001b[0m\u001b[0m\n\u001b[1;32m      7\u001b[0m \u001b[0mprint\u001b[0m\u001b[0;34m(\u001b[0m\u001b[0mfactorial\u001b[0m\u001b[0;34m(\u001b[0m\u001b[0mn\u001b[0m\u001b[0;34m)\u001b[0m\u001b[0;34m)\u001b[0m\u001b[0;34m\u001b[0m\u001b[0;34m\u001b[0m\u001b[0m\n",
            "... last 1 frames repeated, from the frame below ...\n",
            "\u001b[0;32m<ipython-input-1-db7c9c8d632f>\u001b[0m in \u001b[0;36mfactorial\u001b[0;34m(n)\u001b[0m\n\u001b[1;32m      3\u001b[0m     \u001b[0;32mreturn\u001b[0m \u001b[0;36m1\u001b[0m\u001b[0;34m\u001b[0m\u001b[0;34m\u001b[0m\u001b[0m\n\u001b[1;32m      4\u001b[0m   \u001b[0;32melse\u001b[0m\u001b[0;34m:\u001b[0m\u001b[0;34m\u001b[0m\u001b[0;34m\u001b[0m\u001b[0m\n\u001b[0;32m----> 5\u001b[0;31m     \u001b[0;32mreturn\u001b[0m \u001b[0mn\u001b[0m\u001b[0;34m*\u001b[0m\u001b[0mfactorial\u001b[0m\u001b[0;34m(\u001b[0m\u001b[0mn\u001b[0m\u001b[0;34m-\u001b[0m\u001b[0;36m1\u001b[0m\u001b[0;34m)\u001b[0m\u001b[0;34m\u001b[0m\u001b[0;34m\u001b[0m\u001b[0m\n\u001b[0m\u001b[1;32m      6\u001b[0m \u001b[0mn\u001b[0m\u001b[0;34m=\u001b[0m\u001b[0mint\u001b[0m\u001b[0;34m(\u001b[0m\u001b[0minput\u001b[0m\u001b[0;34m(\u001b[0m\u001b[0;34m\"input a number to compute thr factorial: \"\u001b[0m\u001b[0;34m)\u001b[0m\u001b[0;34m)\u001b[0m\u001b[0;34m\u001b[0m\u001b[0;34m\u001b[0m\u001b[0m\n\u001b[1;32m      7\u001b[0m \u001b[0mprint\u001b[0m\u001b[0;34m(\u001b[0m\u001b[0mfactorial\u001b[0m\u001b[0;34m(\u001b[0m\u001b[0mn\u001b[0m\u001b[0;34m)\u001b[0m\u001b[0;34m)\u001b[0m\u001b[0;34m\u001b[0m\u001b[0;34m\u001b[0m\u001b[0m\n",
            "\u001b[0;31mRecursionError\u001b[0m: maximum recursion depth exceeded in comparison"
          ]
        }
      ]
    },
    {
      "cell_type": "code",
      "source": [
        "#gcd sums\n",
        "def gcd(x,y):\n",
        "  gcd=1\n",
        "  if x%y==0:\n",
        "    return y\n",
        "  for k in range(int(y/2),0,-1):\n",
        "    if x%k==0 and y%k==0:\n",
        "      gcd=k\n",
        "      break\n",
        "  return gcd\n",
        "print(\"GCD of 12 & 17 =\",gcd(12,17))\n",
        "print(\"GCD of 4 & 6=\",gcd(4,6))\n",
        "print(\"GCD of 336 & 360=\",gcd(336,360))\n"
      ],
      "metadata": {
        "colab": {
          "base_uri": "https://localhost:8080/"
        },
        "id": "Ql6Bg9CwxIg0",
        "outputId": "c24c41dc-befc-447b-99a0-77ab2d359675"
      },
      "execution_count": null,
      "outputs": [
        {
          "output_type": "stream",
          "name": "stdout",
          "text": [
            "GCD of 12 & 17 = 1\n",
            "GCD of 4 & 6= 2\n",
            "GCD of 336 & 360= 24\n"
          ]
        }
      ]
    },
    {
      "cell_type": "code",
      "source": [
        "def gcd(x,y):\n",
        "  z=x%y\n",
        "  while z:\n",
        "    x=y\n",
        "    y=z\n",
        "    z=x%y\n",
        "  return y\n",
        "print(\"GCD of 12 & 17=\", gcd(12,17))\n",
        "print(\"GCD of 4 & 6\",gcd(4,6))\n",
        "print(\"GCD of 336 & 360=\",gcd(336,360))"
      ],
      "metadata": {
        "colab": {
          "base_uri": "https://localhost:8080/"
        },
        "id": "jeWZsNu02WTf",
        "outputId": "70d87e54-f306-4fd2-ef26-0a218e0740f4"
      },
      "execution_count": null,
      "outputs": [
        {
          "output_type": "stream",
          "name": "stdout",
          "text": [
            "GCD of 12 & 17= 1\n",
            "GCD of 4 & 6 2\n",
            "GCD of 336 & 360= 24\n"
          ]
        }
      ]
    },
    {
      "cell_type": "code",
      "source": [
        "from functools import reduce\n",
        "from math import gcd as _gcd\n",
        "def gcd(nums):\n",
        "  return reduce(_gcd, nums)\n",
        "nums = [336,360]\n",
        "print(\"GCD OF\", ','.join(str(e) for e in nums))\n",
        "print(gcd(nums))\n",
        "nums = [12,17]\n",
        "print(\"GCD of\",','.join(str(e) for e in nums))\n",
        "print(gcd(nums))"
      ],
      "metadata": {
        "colab": {
          "base_uri": "https://localhost:8080/"
        },
        "id": "KkYdQ4VA3TDH",
        "outputId": "19752fa4-e1ee-4bee-c953-dcaa635473fa"
      },
      "execution_count": null,
      "outputs": [
        {
          "output_type": "stream",
          "name": "stdout",
          "text": [
            "GCD OF 336,360\n",
            "24\n",
            "GCD of 12,17\n",
            "1\n"
          ]
        }
      ]
    },
    {
      "cell_type": "code",
      "source": [
        "def geometric_sum(n):\n",
        "  if n==0:\n",
        "    return 1\n",
        "  else:\n",
        "    return 1/(pow(2,n)) + geometric_sum(n-1)\n",
        "print(geometric_sum(7))\n",
        "print(geometric_sum(4))"
      ],
      "metadata": {
        "colab": {
          "base_uri": "https://localhost:8080/"
        },
        "id": "W_KW7-AAh32o",
        "outputId": "bfba3704-a1b2-4d89-b2d3-8ba9f1c6da4a"
      },
      "execution_count": null,
      "outputs": [
        {
          "output_type": "stream",
          "name": "stdout",
          "text": [
            "1.9921875\n",
            "1.9375\n"
          ]
        }
      ]
    },
    {
      "cell_type": "code",
      "source": [
        "def geometric_sum(n):\n",
        "  if n==0:\n",
        "    return 1\n",
        "  else:\n",
        "    return 1/(pow(2,n)) + geometric_sum(n-1)\n",
        "print(geometric_sum(7))\n",
        "print(geometric_sum(4))"
      ],
      "metadata": {
        "colab": {
          "base_uri": "https://localhost:8080/"
        },
        "id": "72BvR0_lpGF8",
        "outputId": "6b345abb-407c-4fd0-b000-51908e905bd6"
      },
      "execution_count": null,
      "outputs": [
        {
          "output_type": "stream",
          "name": "stdout",
          "text": [
            "1.9921875\n",
            "1.9375\n"
          ]
        }
      ]
    },
    {
      "cell_type": "code",
      "source": [
        "class Student:\n",
        "  def __init__(self, name, age):\n",
        "    self.name=name\n",
        "    self.age=age\n",
        "class Cohort:\n",
        "  def __init__(self,students):\n",
        "    self.students = students\n",
        "  def students_of_age(self,target_age):\n",
        "    return [student for student in self.students if student.ag== target_age]\n",
        "if__name__==\"__main__\":\n",
        "  students =[\n",
        "      Student(\"Alice\",22),\n",
        "      Student(\"Bob\",24),\n",
        "      Student(\"Charlie\",22),\n",
        "      Student(\"David\",26)\n",
        "  ]\n",
        "  cohort = Cohort(students)\n",
        "  target_age = 22\n",
        "  students_of_target_age = cohort.students_of_age(target_age)\n",
        "  print(f\"students of \")"
      ],
      "metadata": {
        "id": "X6pNq1waUOBH"
      },
      "execution_count": null,
      "outputs": []
    },
    {
      "cell_type": "code",
      "source": [
        "def linear_search(alist,key):\n",
        "  for i in range(len(alist)):\n",
        "    if alist[i] == key:\n",
        "      return i\n",
        "  return -1\n",
        "alist = input(\"enter the list of numbers:\")\n",
        "alist = alist.split()\n",
        "alist = [int(x) for x in alist]\n",
        "key = int(input(\"the number to dearch for:\"))\n",
        "index = linear_search(alist,key)\n",
        "if index < 0:\n",
        "  print(\"{} was not found.\".format(key))\n",
        "else:\n",
        "  print(\"{} was found at index {}.\".format(key,index))"
      ],
      "metadata": {
        "colab": {
          "base_uri": "https://localhost:8080/"
        },
        "id": "vnAtTcKstuyX",
        "outputId": "301ef654-3493-415b-d74c-1163f9e6eb7a"
      },
      "execution_count": null,
      "outputs": [
        {
          "output_type": "stream",
          "name": "stdout",
          "text": [
            "enter the list of numbers:2\n",
            "the number to dearch for:3\n",
            "3 was not found.\n"
          ]
        }
      ]
    },
    {
      "cell_type": "code",
      "source": [
        "fname=input(\"enter the file name: \")\n",
        "file3=open(fname,\"a\")\n",
        "c=input(\"enter string to append: \\n\");\n",
        "file3.write(\"\\n\")\n",
        "file3.write(c)\n",
        "file3.close()\n",
        "print(\"contents of appended file:\");\n",
        "file4=open(fname,'r')\n",
        "line1=file4.readline()\n",
        "while(line1!=\"\"):\n",
        "  print(line1)\n",
        "  line1=file4.readline()\n",
        "file4.close()"
      ],
      "metadata": {
        "id": "lH9GX-lIuChc",
        "colab": {
          "base_uri": "https://localhost:8080/"
        },
        "outputId": "150636e7-88e2-4f0a-ffd5-d93a4e194762"
      },
      "execution_count": null,
      "outputs": [
        {
          "output_type": "stream",
          "name": "stdout",
          "text": [
            "enter the file name: test\n",
            "enter string to append: \n",
            "srt\n",
            "contents of appended file:\n",
            "\n",
            "\n",
            "srt\n"
          ]
        }
      ]
    },
    {
      "cell_type": "code",
      "source": [
        "file1=input(\"enter the file to be read from: \")\n",
        "name2=input(\"enter file to be appended to: \")\n",
        "fin = open(file1,\"r\")\n",
        "data2=fin.read()\n",
        "fin.close()\n",
        "fout = open(name2,\"a\")\n",
        "fout.write(data2)\n",
        "fout.close()"
      ],
      "metadata": {
        "colab": {
          "base_uri": "https://localhost:8080/",
          "height": 245
        },
        "id": "HnIFXUsTYTWi",
        "outputId": "b2246f4a-b016-48d9-c4f2-3041a886c32b"
      },
      "execution_count": null,
      "outputs": [
        {
          "name": "stdout",
          "output_type": "stream",
          "text": [
            "enter the file to be read from: y\n",
            "enter file to be appended to: u\n"
          ]
        },
        {
          "output_type": "error",
          "ename": "FileNotFoundError",
          "evalue": "[Errno 2] No such file or directory: 'y'",
          "traceback": [
            "\u001b[0;31m---------------------------------------------------------------------------\u001b[0m",
            "\u001b[0;31mFileNotFoundError\u001b[0m                         Traceback (most recent call last)",
            "\u001b[0;32m<ipython-input-3-0b3dcd8798e5>\u001b[0m in \u001b[0;36m<cell line: 3>\u001b[0;34m()\u001b[0m\n\u001b[1;32m      1\u001b[0m \u001b[0mfile1\u001b[0m\u001b[0;34m=\u001b[0m\u001b[0minput\u001b[0m\u001b[0;34m(\u001b[0m\u001b[0;34m\"enter the file to be read from: \"\u001b[0m\u001b[0;34m)\u001b[0m\u001b[0;34m\u001b[0m\u001b[0;34m\u001b[0m\u001b[0m\n\u001b[1;32m      2\u001b[0m \u001b[0mname2\u001b[0m\u001b[0;34m=\u001b[0m\u001b[0minput\u001b[0m\u001b[0;34m(\u001b[0m\u001b[0;34m\"enter file to be appended to: \"\u001b[0m\u001b[0;34m)\u001b[0m\u001b[0;34m\u001b[0m\u001b[0;34m\u001b[0m\u001b[0m\n\u001b[0;32m----> 3\u001b[0;31m \u001b[0mfin\u001b[0m \u001b[0;34m=\u001b[0m \u001b[0mopen\u001b[0m\u001b[0;34m(\u001b[0m\u001b[0mfile1\u001b[0m\u001b[0;34m,\u001b[0m\u001b[0;34m\"r\"\u001b[0m\u001b[0;34m)\u001b[0m\u001b[0;34m\u001b[0m\u001b[0;34m\u001b[0m\u001b[0m\n\u001b[0m\u001b[1;32m      4\u001b[0m \u001b[0mdata2\u001b[0m\u001b[0;34m=\u001b[0m\u001b[0mfin\u001b[0m\u001b[0;34m.\u001b[0m\u001b[0mread\u001b[0m\u001b[0;34m(\u001b[0m\u001b[0;34m)\u001b[0m\u001b[0;34m\u001b[0m\u001b[0;34m\u001b[0m\u001b[0m\n\u001b[1;32m      5\u001b[0m \u001b[0mfin\u001b[0m\u001b[0;34m.\u001b[0m\u001b[0mclose\u001b[0m\u001b[0;34m(\u001b[0m\u001b[0;34m)\u001b[0m\u001b[0;34m\u001b[0m\u001b[0;34m\u001b[0m\u001b[0m\n",
            "\u001b[0;31mFileNotFoundError\u001b[0m: [Errno 2] No such file or directory: 'y'"
          ]
        }
      ]
    },
    {
      "cell_type": "code",
      "source": [
        "filename=input(\"enter the filename: \")\n",
        "with open(filename,'r') as file:\n",
        "  for line in reversed(list(file)):\n",
        "    print(line.rstrip())"
      ],
      "metadata": {
        "id": "IREEuHDqgtOW"
      },
      "execution_count": null,
      "outputs": []
    },
    {
      "cell_type": "code",
      "source": [
        "import array\n",
        "for name in array.__dict__:\n",
        "  print(name)"
      ],
      "metadata": {
        "colab": {
          "base_uri": "https://localhost:8080/"
        },
        "id": "ax-O0J5Z8j9M",
        "outputId": "d4e0fff3-1640-460e-fd26-e6e228bfd1b8"
      },
      "execution_count": null,
      "outputs": [
        {
          "output_type": "stream",
          "name": "stdout",
          "text": [
            "__name__\n",
            "__doc__\n",
            "__package__\n",
            "__loader__\n",
            "__spec__\n",
            "_array_reconstructor\n",
            "ArrayType\n",
            "array\n",
            "typecodes\n"
          ]
        }
      ]
    },
    {
      "cell_type": "code",
      "source": [
        "#area of rectangle using class\n",
        "class cal:\n",
        "  def __init__(self,a,b):\n",
        "    self.a=a\n",
        "    self.b=b\n",
        "    def add(self):\n",
        "  return self.a+self.b\n",
        " def sub(self):\n",
        "  return self.a-self.b\n",
        " def mul(self):\n",
        "  return self.a*self.b\n",
        " def div(self):\n",
        "  return self.a/self.b\n",
        "a=int(input(\"enter first number: \"))\n",
        "b=int(input(\"enter second number: \"))\n",
        "obj = cal(a,b)\n",
        "choice =1\n",
        "while choice!=0:\n",
        "  print(\"0.exit\")\n",
        "  print(\"1.Add\")\n",
        "  print(\"3.multiplication\")\n",
        "  print(\"2.subtraction\")\n",
        "  print(\"4.division\")\n",
        "  choice=int(input(\"enter choice:\"))\n",
        "  if choice==1:\n",
        "    print(\"Result: \",obj.add())\n",
        "  elif choice==2:\n",
        "    print(\"Result: \",obj.sub())\n",
        "  elif choice==3:\n",
        "    print(\"Result: \",obj.mul())\n",
        "  elif choice==4:\n",
        "    print(\"Result: \",round(obj.div(),2))\n",
        "  elif choice==0:\n",
        "    print(\"existing\")\n",
        "  else:\n",
        "    print(\"invalid choice\")"
      ],
      "metadata": {
        "id": "dlPhmPdW83tF",
        "colab": {
          "base_uri": "https://localhost:8080/",
          "height": 106
        },
        "outputId": "2821674d-88f5-4156-e2d2-03f51cd6124f"
      },
      "execution_count": null,
      "outputs": [
        {
          "output_type": "error",
          "ename": "IndentationError",
          "evalue": "expected an indented block after class definition on line 2 (<ipython-input-2-473414a19cb8>, line 3)",
          "traceback": [
            "\u001b[0;36m  File \u001b[0;32m\"<ipython-input-2-473414a19cb8>\"\u001b[0;36m, line \u001b[0;32m3\u001b[0m\n\u001b[0;31m    def __init__(self,a,b):\u001b[0m\n\u001b[0m    ^\u001b[0m\n\u001b[0;31mIndentationError\u001b[0m\u001b[0;31m:\u001b[0m expected an indented block after class definition on line 2\n"
          ]
        }
      ]
    },
    {
      "cell_type": "code",
      "source": [
        "class listing():\n",
        "  def __init__(self):\n",
        "    self.n=[]\n",
        "  def add(self,a):\n",
        "    return self.n.append(a)\n",
        "  def remove(self,b):\n",
        "    self.n.remove(b)\n",
        "  def dis(self):\n",
        "    return (self.n)\n",
        "obj=check()\n",
        "choice=1\n",
        "while choice!=0:\n",
        "  print(\"0,Exit\")\n"
      ],
      "metadata": {
        "id": "otp7vBIiqvth"
      },
      "execution_count": null,
      "outputs": []
    },
    {
      "cell_type": "code",
      "source": [
        "class Restaurant:\n",
        "  def __init__(self):\n",
        "    self.menu_items = {}\n",
        "    self.book_table=[]\n",
        "    self.customer_orders=[]\n",
        "  def add_item_to_menu(self,item,price):\n",
        "    self.menu_items[item]=price\n",
        "  def book_tables(self,table_number):\n",
        "    self.book_table.append(table_number)\n",
        "  def print_menu_items(self):\n",
        "    for item,price in self.menu_items.items():\n",
        "      print(\"{}: {}\".format(item,price))\n",
        "  def print_table_reservations(self):\n",
        "    for table in self.book_table:\n",
        "      print(\"Table {}: {}\".format(order['table_number'],order['order']))\n",
        "restaurant = Restaurant()\n",
        "restaurant.add_item_to_menu\n"
      ],
      "metadata": {
        "id": "yjZ5dusBVzg_"
      },
      "execution_count": null,
      "outputs": []
    },
    {
      "cell_type": "code",
      "source": [
        "class BankAccount:\n",
        "  def __init__(self,account_number,date_of_opening,balance,customer_name):\n",
        "    self.account_number = account_number\n",
        "    self.date_of_opening = date_of_opening\n",
        "    self.balance = balance\n",
        "    self.customer_name = customer_name\n",
        "  def deposit(self,amount):\n",
        "    self.balance+= amount\n",
        "    print(f\"$({amount})\")\n",
        "  def withdraw(self,amount):\n",
        "    if amount>self.balance:\n",
        "      print(\"Insuffcient balance\")\n",
        "    else:\n",
        "      self.balance-=amount\n",
        "      print(f\"${amount}\")\n",
        "  def print_customer_details(self)\n",
        "\n",
        "  ac_no_4.deposit(1000)\n",
        "  ac_no_4.check balance()\n"
      ],
      "metadata": {
        "id": "lO0rWGnXZD9V"
      },
      "execution_count": null,
      "outputs": []
    },
    {
      "cell_type": "code",
      "source": [
        "def test_list_operation(nums):\n",
        "  try:\n",
        "    r=len(nums)\n",
        "    print(\"length of the line:\",r)\n",
        "  except AttributeError:\n",
        "    print(\"\")"
      ],
      "metadata": {
        "id": "WgPIV5M-eBzX"
      },
      "execution_count": null,
      "outputs": []
    },
    {
      "cell_type": "code",
      "source": [
        "def divide_numbers(x,y):\n",
        "  try:\n",
        "    result = x/y\n",
        "    print(\"Result: \",result)\n",
        "  except ZeroDivisionError:\n",
        "    print(\"the division by zero operation is not allowed\")\n",
        "numerator = 100\n",
        "denominator = 0\n",
        "divide_numbers(numerator,denominator)"
      ],
      "metadata": {
        "colab": {
          "base_uri": "https://localhost:8080/"
        },
        "id": "7Q5TS9USgozj",
        "outputId": "0d161d8f-5f9e-4c06-ac87-9b6472010feb"
      },
      "execution_count": null,
      "outputs": [
        {
          "output_type": "stream",
          "name": "stdout",
          "text": [
            "the division by zero operation is not allowed\n"
          ]
        }
      ]
    },
    {
      "cell_type": "code",
      "source": [
        "def open_file(filename):\n",
        "  try:\n",
        "    file=open(filename,'r')\n",
        "    contents = file.read()\n",
        "    print(\"File contents:\")\n",
        "    print(contents)\n",
        "    file.close()\n",
        "  except FileNotFoundError:\n",
        "    print(\"error: file not found\")\n",
        "file_name=input(\"\")\n",
        "open_file(file_name)"
      ],
      "metadata": {
        "colab": {
          "base_uri": "https://localhost:8080/"
        },
        "id": "_kXBA15xgtae",
        "outputId": "3d416a5f-a1dd-4496-914e-b2ade63a6558"
      },
      "execution_count": null,
      "outputs": [
        {
          "output_type": "stream",
          "name": "stdout",
          "text": [
            "test.txt\n",
            "error: file not found\n"
          ]
        }
      ]
    },
    {
      "cell_type": "code",
      "source": [
        "n1=[]\n",
        "for x in range(1500,2701):\n",
        "  if(x%7 ==0) and (x%5==0):\n",
        "    n1.append(str(x))\n",
        "print(','.join(n1))"
      ],
      "metadata": {
        "id": "TRpIYu1Di2IG",
        "colab": {
          "base_uri": "https://localhost:8080/"
        },
        "outputId": "79a4ff8b-4469-41e8-a53c-f1e8e3196493"
      },
      "execution_count": null,
      "outputs": [
        {
          "output_type": "stream",
          "name": "stdout",
          "text": [
            "1505,1540,1575,1610,1645,1680,1715,1750,1785,1820,1855,1890,1925,1960,1995,2030,2065,2100,2135,2170,2205,2240,2275,2310,2345,2380,2415,2450,2485,2520,2555,2590,2625,2660,2695\n"
          ]
        }
      ]
    },
    {
      "cell_type": "code",
      "source": [
        "print(\"input some integers for count,sum,.and the first number \")\n",
        "count = 0\n",
        "sum = 0.0\n",
        "number = 1\n",
        "while number !=0:\n",
        "  number = int(input(''))\n",
        "  sum=sum+number\n",
        "  count+=1\n",
        "if count ==0:\n",
        "  print(\"Input some numbers\")\n",
        "else:\n",
        "  print(\"avearage and sum of the above numbers are:\",sum/(count-1),sum1)"
      ],
      "metadata": {
        "colab": {
          "base_uri": "https://localhost:8080/",
          "height": 384
        },
        "id": "kZEOlv3NthPV",
        "outputId": "4fe265f9-caa0-4251-eb87-7adafe0acc3f"
      },
      "execution_count": null,
      "outputs": [
        {
          "name": "stdout",
          "output_type": "stream",
          "text": [
            "input some integers for count,sum,.and the first number \n",
            "4\n",
            "5\n",
            "1\n",
            "2\n",
            "1\n",
            "1\n",
            "1\n",
            "1\n",
            "\n"
          ]
        },
        {
          "output_type": "error",
          "ename": "ValueError",
          "evalue": "invalid literal for int() with base 10: ''",
          "traceback": [
            "\u001b[0;31m---------------------------------------------------------------------------\u001b[0m",
            "\u001b[0;31mValueError\u001b[0m                                Traceback (most recent call last)",
            "\u001b[0;32m<ipython-input-2-142192cd5dbe>\u001b[0m in \u001b[0;36m<cell line: 5>\u001b[0;34m()\u001b[0m\n\u001b[1;32m      4\u001b[0m \u001b[0mnumber\u001b[0m \u001b[0;34m=\u001b[0m \u001b[0;36m1\u001b[0m\u001b[0;34m\u001b[0m\u001b[0;34m\u001b[0m\u001b[0m\n\u001b[1;32m      5\u001b[0m \u001b[0;32mwhile\u001b[0m \u001b[0mnumber\u001b[0m \u001b[0;34m!=\u001b[0m\u001b[0;36m0\u001b[0m\u001b[0;34m:\u001b[0m\u001b[0;34m\u001b[0m\u001b[0;34m\u001b[0m\u001b[0m\n\u001b[0;32m----> 6\u001b[0;31m   \u001b[0mnumber\u001b[0m \u001b[0;34m=\u001b[0m \u001b[0mint\u001b[0m\u001b[0;34m(\u001b[0m\u001b[0minput\u001b[0m\u001b[0;34m(\u001b[0m\u001b[0;34m''\u001b[0m\u001b[0;34m)\u001b[0m\u001b[0;34m)\u001b[0m\u001b[0;34m\u001b[0m\u001b[0;34m\u001b[0m\u001b[0m\n\u001b[0m\u001b[1;32m      7\u001b[0m   \u001b[0msum\u001b[0m\u001b[0;34m=\u001b[0m\u001b[0msum\u001b[0m\u001b[0;34m+\u001b[0m\u001b[0mnumber\u001b[0m\u001b[0;34m\u001b[0m\u001b[0;34m\u001b[0m\u001b[0m\n\u001b[1;32m      8\u001b[0m   \u001b[0mcount\u001b[0m\u001b[0;34m+=\u001b[0m\u001b[0;36m1\u001b[0m\u001b[0;34m\u001b[0m\u001b[0;34m\u001b[0m\u001b[0m\n",
            "\u001b[0;31mValueError\u001b[0m: invalid literal for int() with base 10: ''"
          ]
        }
      ]
    },
    {
      "cell_type": "code",
      "source": [
        "class Node:\n",
        "  def __init__(self,data):\n",
        "    self.data=data\n",
        "    self.next=None\n",
        "class LinkedList:\n",
        "  def __init__(self):\n",
        "    self.head=None\n",
        "def get_node(self,index):\n",
        "  current = self.head\n",
        "  for i in range(index):\n",
        "    if current is None:\n",
        "      return None\n",
        "    current = current.next\n",
        "  return current\n",
        "def get_prev_node(self,ref_node):\n"
      ],
      "metadata": {
        "id": "5FjLHuWrCIc_"
      },
      "execution_count": null,
      "outputs": []
    },
    {
      "cell_type": "code",
      "source": [
        "#score of a String\n",
        "class Solution:\n",
        "  def scoreOfString(self,s: str)-> int:\n",
        "    score = 0\n",
        "    for i in range(len(s)-1):\n",
        "      score += abs(ord(s[i])- ord(s[i+1]))\n",
        "    return score\n",
        "solution = Solution()\n",
        "s1 = \"hello\"\n",
        "print(solution.scoreOfString(s1))\n",
        "s2=\"zaz\"\n",
        "print(solution.scoreOfString(s2))"
      ],
      "metadata": {
        "colab": {
          "base_uri": "https://localhost:8080/"
        },
        "id": "srMm-wylagVv",
        "outputId": "bdb130bc-8d8c-4b42-c1fb-d0914b472c20"
      },
      "execution_count": null,
      "outputs": [
        {
          "output_type": "stream",
          "name": "stdout",
          "text": [
            "13\n",
            "50\n"
          ]
        }
      ]
    },
    {
      "cell_type": "code",
      "source": [
        "import random\n",
        "matrix = [[random.randint(0,100) for _ in range(4)] for _ in range(3)]\n",
        "thresold=75\n",
        "matrix = [[min(x,thresold) for x in row ] for row in matrix]\n",
        "print(matrix)"
      ],
      "metadata": {
        "colab": {
          "base_uri": "https://localhost:8080/"
        },
        "id": "Jh4Kq4Uz7TwA",
        "outputId": "4d769cdd-b1e3-4115-db00-9305e921b0f0"
      },
      "execution_count": null,
      "outputs": [
        {
          "output_type": "stream",
          "name": "stdout",
          "text": [
            "[[54, 39, 61, 13], [47, 4, 75, 4], [15, 41, 75, 23]]\n"
          ]
        }
      ]
    },
    {
      "cell_type": "code",
      "source": [
        "l=[1,2,3,4,5]\n",
        "any_nonzero = any(l)\n",
        "print(any_nonzero)"
      ],
      "metadata": {
        "colab": {
          "base_uri": "https://localhost:8080/"
        },
        "id": "Wih2p8lSAMeu",
        "outputId": "bec33cff-ed1b-4080-b2a9-6da132285fc3"
      },
      "execution_count": null,
      "outputs": [
        {
          "output_type": "stream",
          "name": "stdout",
          "text": [
            "True\n"
          ]
        }
      ]
    },
    {
      "cell_type": "code",
      "source": [
        "import random\n",
        "matrix = [[random.random() for _ in range(4) for _ in range(3)]]\n",
        "cumulative_sum_axis1 = [[sum(row[:i+1]) for i in range(len(row))] for row in matrix]\n",
        "print(cumulative_sum_axis1)"
      ],
      "metadata": {
        "colab": {
          "base_uri": "https://localhost:8080/"
        },
        "id": "TieQejn0A7qF",
        "outputId": "6d557557-54dc-4404-ebfd-d8bf46029810"
      },
      "execution_count": null,
      "outputs": [
        {
          "output_type": "stream",
          "name": "stdout",
          "text": [
            "[[0.25196530310186216, 0.8541876915915261, 1.228413562937603, 1.6040975354194371, 1.9409129793637785, 2.655821167011286, 3.335076468951139, 3.976397638594058, 4.201907793139771, 4.994150297200191, 5.387877860228415, 5.457939642088884]]\n"
          ]
        }
      ]
    },
    {
      "cell_type": "code",
      "source": [
        "import random\n",
        "matric = [[random.random() for _ in range(3)] for _ in range(3)]\n",
        "min_cool = [min(row[i] for row in matrix) for i in range(3)]\n",
        "max_cool = [max(row[i] for row in matrix) for i in range(3)]\n",
        "normalized_matrix = [[(row[i] - min_cool[i]) / (max_cool[i] - min_cool[i]) != 0 else 0 for i in range(3)] for row in matrix]\n",
        "print(normalized_matrix)"
      ],
      "metadata": {
        "colab": {
          "base_uri": "https://localhost:8080/",
          "height": 141
        },
        "id": "9wX6XcplB2U-",
        "outputId": "31dc9f77-18cc-4289-f228-5b58aaaa7e2d"
      },
      "execution_count": null,
      "outputs": [
        {
          "output_type": "error",
          "ename": "SyntaxError",
          "evalue": "invalid syntax (<ipython-input-7-450759829b9c>, line 5)",
          "traceback": [
            "\u001b[0;36m  File \u001b[0;32m\"<ipython-input-7-450759829b9c>\"\u001b[0;36m, line \u001b[0;32m5\u001b[0m\n\u001b[0;31m    normalized_matrix = [[(row[i] - min_cool[i]) / (max_cool[i] - min_cool[i]) != 0 else 0 for i in range(3)] for row in matrix]\u001b[0m\n\u001b[0m                                                                                    ^\u001b[0m\n\u001b[0;31mSyntaxError\u001b[0m\u001b[0;31m:\u001b[0m invalid syntax\n"
          ]
        }
      ]
    },
    {
      "cell_type": "code",
      "source": [
        "lst= [2,3,4,5,6,7,8,9]\n",
        "next_odd_lst = [x+1 if x%2==0 else x for x in lst]\n",
        "print(next_odd_lst)"
      ],
      "metadata": {
        "colab": {
          "base_uri": "https://localhost:8080/"
        },
        "id": "jXvEMgrEET4b",
        "outputId": "de0dfb9b-a532-4552-d00a-ae95aac95134"
      },
      "execution_count": null,
      "outputs": [
        {
          "output_type": "stream",
          "name": "stdout",
          "text": [
            "[3, 3, 5, 5, 7, 7, 9, 9]\n"
          ]
        }
      ]
    },
    {
      "cell_type": "code",
      "source": [
        "lst1= [1,2,3]\n",
        "lst2 = [4,5,6]\n",
        "squares_difference = [(x - y) ** 2 for x,y in zip(lst1, lst2)]\n",
        "print(squares_difference)"
      ],
      "metadata": {
        "colab": {
          "base_uri": "https://localhost:8080/"
        },
        "id": "UTavCbksFB70",
        "outputId": "915ad11b-159f-45ef-a5a3-7a9d006068e9"
      },
      "execution_count": null,
      "outputs": [
        {
          "output_type": "stream",
          "name": "stdout",
          "text": [
            "[9, 9, 9]\n"
          ]
        }
      ]
    },
    {
      "cell_type": "code",
      "source": [
        "lst = [10,20,30,40]\n",
        "percentile_25th = sorted(lst)[int(len(lst) * 0,25)]"
      ],
      "metadata": {
        "id": "8c2pBpA3FZuU"
      },
      "execution_count": null,
      "outputs": []
    },
    {
      "cell_type": "code",
      "source": [
        "def create_stack():\n",
        "  stack= []\n",
        "  return stack\n",
        "def check_empty(stack):\n",
        "  return len(stack) ==0\n",
        "def push(stack, item):\n",
        "  stack.append(item)\n",
        "  print(\"pushed item: \"+item)\n",
        "def pop(stack):\n",
        "  if(check_empty(stack)):\n",
        "    return \"stack is empty\"\n",
        "  return stack.pop()\n",
        "stack = create_stack()\n",
        "push(stack, str(1))\n",
        "push(stack , str(2))\n",
        "push(stack, str(3))\n",
        "push(stack, str(4))\n",
        "print(\"popped item: \"+ pop(stack))\n",
        "print(\"stack after popping an element: \"+ str(stack))\n"
      ],
      "metadata": {
        "colab": {
          "base_uri": "https://localhost:8080/"
        },
        "id": "A4rJz_PCJoNZ",
        "outputId": "1f2ff842-28e6-4232-ed77-2c576e3143af"
      },
      "execution_count": null,
      "outputs": [
        {
          "output_type": "stream",
          "name": "stdout",
          "text": [
            "pushed item: 1\n",
            "pushed item: 2\n",
            "pushed item: 3\n",
            "pushed item: 4\n",
            "popped item: 4\n",
            "stack after popping an element: ['1', '2', '3']\n"
          ]
        }
      ]
    },
    {
      "cell_type": "code",
      "source": [
        "def dfs(graph, start, visited=None):\n",
        "  if visited is None:\n",
        "    visited = set()\n",
        "  visited.add(start)\n",
        "  for next in graph[start] - visited:\n",
        "    dfs(graph, next, visited)\n",
        "  return visited\n",
        "graph = {'0': set(['1','2']),\n",
        "         '1': set(['0','3','4']),\n",
        "         '2': set(['0']),\n",
        "         '3': set(['1']),\n",
        "         '4': set(['2','3'])}\n",
        "dfs(graph, '0')\n"
      ],
      "metadata": {
        "colab": {
          "base_uri": "https://localhost:8080/"
        },
        "id": "KCE5HyarPktQ",
        "outputId": "c0375707-ec7a-40f7-909f-a3a3c6062703"
      },
      "execution_count": null,
      "outputs": [
        {
          "output_type": "execute_result",
          "data": {
            "text/plain": [
              "{'0', '1', '2', '3', '4'}"
            ]
          },
          "metadata": {},
          "execution_count": 4
        }
      ]
    },
    {
      "cell_type": "code",
      "source": [
        "class Solution:\n",
        "  def reorderdatainlog(self,logs: List[str]) -> List"
      ],
      "metadata": {
        "id": "MXg14EOiiV3J"
      },
      "execution_count": null,
      "outputs": []
    },
    {
      "cell_type": "code",
      "source": [
        "lsr= list(range(10))\n",
        "print(lsr)"
      ],
      "metadata": {
        "colab": {
          "base_uri": "https://localhost:8080/"
        },
        "id": "_2xmjLTnjWj_",
        "outputId": "2929c970-56b5-4cc2-f781-18f09f9f8bcd"
      },
      "execution_count": null,
      "outputs": [
        {
          "output_type": "stream",
          "name": "stdout",
          "text": [
            "[0, 1, 2, 3, 4, 5, 6, 7, 8, 9]\n"
          ]
        }
      ]
    },
    {
      "cell_type": "code",
      "source": [
        "lt=[1,2,3,4]\n",
        "str_lst = list(map(str,lst))\n",
        "print(str_lst)"
      ],
      "metadata": {
        "colab": {
          "base_uri": "https://localhost:8080/",
          "height": 176
        },
        "id": "BBzoRmEDjpHC",
        "outputId": "b0b7cf76-e3a7-4aba-a6b5-80f5dc867225"
      },
      "execution_count": null,
      "outputs": [
        {
          "output_type": "error",
          "ename": "NameError",
          "evalue": "name 'lst' is not defined",
          "traceback": [
            "\u001b[0;31m---------------------------------------------------------------------------\u001b[0m",
            "\u001b[0;31mNameError\u001b[0m                                 Traceback (most recent call last)",
            "\u001b[0;32m<ipython-input-3-75789b1fecc6>\u001b[0m in \u001b[0;36m<cell line: 2>\u001b[0;34m()\u001b[0m\n\u001b[1;32m      1\u001b[0m \u001b[0ma\u001b[0m\u001b[0;34m=\u001b[0m\u001b[0;34m[\u001b[0m\u001b[0;36m1\u001b[0m\u001b[0;34m,\u001b[0m\u001b[0;36m2\u001b[0m\u001b[0;34m,\u001b[0m\u001b[0;36m3\u001b[0m\u001b[0;34m,\u001b[0m\u001b[0;36m4\u001b[0m\u001b[0;34m]\u001b[0m\u001b[0;34m\u001b[0m\u001b[0;34m\u001b[0m\u001b[0m\n\u001b[0;32m----> 2\u001b[0;31m \u001b[0mstr_lst\u001b[0m \u001b[0;34m=\u001b[0m \u001b[0mlist\u001b[0m\u001b[0;34m(\u001b[0m\u001b[0mmap\u001b[0m\u001b[0;34m(\u001b[0m\u001b[0mstr\u001b[0m\u001b[0;34m,\u001b[0m\u001b[0mlst\u001b[0m\u001b[0;34m)\u001b[0m\u001b[0;34m)\u001b[0m\u001b[0;34m\u001b[0m\u001b[0;34m\u001b[0m\u001b[0m\n\u001b[0m\u001b[1;32m      3\u001b[0m \u001b[0mprint\u001b[0m\u001b[0;34m(\u001b[0m\u001b[0mstr_lst\u001b[0m\u001b[0;34m)\u001b[0m\u001b[0;34m\u001b[0m\u001b[0;34m\u001b[0m\u001b[0m\n",
            "\u001b[0;31mNameError\u001b[0m: name 'lst' is not defined"
          ]
        }
      ]
    },
    {
      "cell_type": "code",
      "source": [
        "hashTable = [[],]*10\n",
        "def checkPrime(n):\n",
        "  if n==1 or n==0:\n",
        "    return 0\n",
        "  for i in range(2,n//2):\n",
        "    if n % i==0:\n",
        "      return 0\n",
        "  return 1\n",
        "def getPrime(n):\n",
        "  if n % 2==0:\n",
        "    n=n+1\n",
        "  while not checkPrime(n):\n",
        "    n+=2\n",
        "  return n\n",
        "def hashFunction(key):\n",
        "  capacity = getPrime(10)\n",
        "  return key % capacity\n",
        "def insertData(key , data):\n",
        "  index = hashFunction(key)\n",
        "  hashTable[index] = [key, data]\n",
        "def removeData(key):\n",
        "  index = hashFunction(key)\n",
        "  hashTable[index] = 0\n",
        "insertData(123, \"apple\")\n",
        "insertData(432, \"mango\")\n",
        "insertData(213, \"banana\")\n",
        "insertData(654, \"guava\")\n",
        "print(hashTable)\n",
        "removeData(123)\n",
        "print(hashTable)"
      ],
      "metadata": {
        "colab": {
          "base_uri": "https://localhost:8080/"
        },
        "id": "N06JxMlKbtqZ",
        "outputId": "157d9f9f-2036-4d57-9d0a-81cb57fe38d5"
      },
      "execution_count": null,
      "outputs": [
        {
          "output_type": "stream",
          "name": "stdout",
          "text": [
            "[[], [], [123, 'apple'], [432, 'mango'], [213, 'banana'], [654, 'guava'], [], [], [], []]\n",
            "[[], [], 0, [432, 'mango'], [213, 'banana'], [654, 'guava'], [], [], [], []]\n"
          ]
        }
      ]
    },
    {
      "cell_type": "code",
      "source": [
        "from array import *\n",
        "array_num = array('i',[1,3,5,7,9])\n",
        "for i in array_num:\n",
        "  print(i)\n",
        "print(array_num[0])\n",
        "print(array_num[1])\n"
      ],
      "metadata": {
        "id": "gEws27Yb8dTJ",
        "colab": {
          "base_uri": "https://localhost:8080/"
        },
        "outputId": "ba41bf0e-8969-4bbe-e7f2-d919ed2d3170"
      },
      "execution_count": null,
      "outputs": [
        {
          "output_type": "stream",
          "name": "stdout",
          "text": [
            "1\n",
            "3\n",
            "5\n",
            "7\n",
            "9\n",
            "1\n",
            "3\n"
          ]
        }
      ]
    },
    {
      "cell_type": "code",
      "source": [
        "from array import *\n",
        "array_num = array('i',[1,2,3,4,5])\n",
        "array_num.append(7)\n",
        "print(array_num)"
      ],
      "metadata": {
        "colab": {
          "base_uri": "https://localhost:8080/"
        },
        "id": "XtmL1re2UFTJ",
        "outputId": "7692bea2-d171-44f6-b37e-be2576aeba72"
      },
      "execution_count": null,
      "outputs": [
        {
          "output_type": "stream",
          "name": "stdout",
          "text": [
            "array('i', [1, 2, 3, 4, 5, 7])\n"
          ]
        }
      ]
    },
    {
      "cell_type": "code",
      "source": [
        "from typing import List\n",
        "class Solution:\n",
        "  def reversearray(self,arr:List[int])->List[int]:\n",
        "    return arr[::-1]\n",
        "solution =Solution()\n",
        "arr=[1,2,3,4,5]\n",
        "reversed_arr = solution.reversearray(arr)\n",
        "print(reversed_arr)"
      ],
      "metadata": {
        "colab": {
          "base_uri": "https://localhost:8080/"
        },
        "id": "G7DBKt0FV3ej",
        "outputId": "4247a50c-5bb3-4495-cbf0-c61cf63c42ff"
      },
      "execution_count": null,
      "outputs": [
        {
          "output_type": "stream",
          "name": "stdout",
          "text": [
            "[5, 4, 3, 2, 1]\n"
          ]
        }
      ]
    },
    {
      "cell_type": "code",
      "source": [
        "import sys\n",
        "from typing import List\n",
        "class Solution:\n",
        "  def itemsize(self, arr:List[int])-> int:\n",
        "    return sys.getsizeof(arr[0])\n",
        "solution = Solution()\n",
        "arr=[1,2,3,4,5]\n",
        "item_size = solution.itemsize(arr)\n",
        "print(item_size)"
      ],
      "metadata": {
        "colab": {
          "base_uri": "https://localhost:8080/"
        },
        "id": "M10I1SxIaO_-",
        "outputId": "2aa74041-e96f-41dc-f743-525ae7b4ba83"
      },
      "execution_count": null,
      "outputs": [
        {
          "output_type": "stream",
          "name": "stdout",
          "text": [
            "28\n"
          ]
        }
      ]
    },
    {
      "cell_type": "code",
      "source": [
        "def  hash_function(value):\n",
        "  sum_of_chars = 0\n",
        "  for char in value:\n",
        "    sum_of_chars += ord(char)\n",
        "  return sum_of_chars % 10\n",
        "print(\"'bob' has hash code:\",hash_function('bob'))"
      ],
      "metadata": {
        "id": "kslRFW-JgAae",
        "colab": {
          "base_uri": "https://localhost:8080/"
        },
        "outputId": "3005167a-1a6f-40c8-996c-776854db305a"
      },
      "execution_count": null,
      "outputs": [
        {
          "output_type": "stream",
          "name": "stdout",
          "text": [
            "'bob' has hash code: 7\n"
          ]
        }
      ]
    },
    {
      "cell_type": "code",
      "source": [
        "def string_length(str1):\n",
        "  count=0\n",
        "  for char in str1:\n",
        "    count+=1\n",
        "  return count\n",
        "print(string_length('prweklfmwefnef'))\n"
      ],
      "metadata": {
        "colab": {
          "base_uri": "https://localhost:8080/"
        },
        "id": "AoUbVQ11bLAM",
        "outputId": "8147ee94-6146-4b80-86da-852988fcd1de"
      },
      "execution_count": null,
      "outputs": [
        {
          "output_type": "stream",
          "name": "stdout",
          "text": [
            "14\n"
          ]
        }
      ]
    },
    {
      "cell_type": "code",
      "source": [
        "def char_frequency(str1):\n",
        "  dict={}\n",
        "  for n in str1:\n",
        "    keys = dict.keys()\n",
        "    if n in keys:\n",
        "      dict[n]+=1\n",
        "    else:\n",
        "      dict[n] =1\n",
        "  return dict\n",
        "print(char_frequency('rgjwefjwd'))"
      ],
      "metadata": {
        "colab": {
          "base_uri": "https://localhost:8080/"
        },
        "id": "kBIhZ6-2boQ2",
        "outputId": "49115bc7-1cdc-4982-c929-fa42cf598eb5"
      },
      "execution_count": null,
      "outputs": [
        {
          "output_type": "stream",
          "name": "stdout",
          "text": [
            "{'r': 1, 'g': 1, 'j': 2, 'w': 2, 'e': 1, 'f': 1, 'd': 1}\n"
          ]
        }
      ]
    },
    {
      "cell_type": "code",
      "source": [
        "class Node:\n",
        "  def __init__(self,x):\n",
        "    self.data = x\n",
        "    self.next =None\n",
        "def getLength(head):\n",
        "  length =0\n",
        "  while head:\n",
        "    length += 1\n",
        "    head = head.next\n",
        "  return length\n",
        "def getmiddle(head):\n",
        "  length = getLength(head)\n",
        "  mid_index = length//2\n",
        "  while mid_index:\n",
        "    head = head.next\n",
        "    mid_index -=1\n",
        "  return head.data\n",
        "def main():\n",
        "    head = Node(10)\n",
        "    head.next = Node(20)\n",
        "    head.next.next = Node(30)\n",
        "    head.next.next.next = Node(40)\n",
        "    head.next.next.next.next = Node(50)\n",
        "    head.next.next.next.next.next = Node(60)\n",
        "    print(getmiddle(head))\n",
        "if __name__==\"__main__\":\n",
        "  main()\n",
        "\n",
        "\n"
      ],
      "metadata": {
        "colab": {
          "base_uri": "https://localhost:8080/"
        },
        "id": "YxPa3oiIlFHk",
        "outputId": "eef44657-83f5-4a44-9293-567e61e2bcf6"
      },
      "execution_count": null,
      "outputs": [
        {
          "output_type": "stream",
          "name": "stdout",
          "text": [
            "40\n"
          ]
        }
      ]
    },
    {
      "cell_type": "code",
      "source": [
        "from os import supports_follow_symlinks\n",
        "class Node:\n",
        "  def __init__(self,x):\n",
        "    self.data = x\n",
        "    self.next = None\n",
        "def getmiddle(head):\n",
        "  slow_ptr = head\n",
        "  fast_ptr = head\n",
        "  while fast_ptr is not None and fast_ptr.next is not None:\n",
        "    fast_ptr = fast_ptr.next.next\n",
        "    slow_ptr=slow_ptr.next\n",
        "  return slow_ptr.data\n",
        "def main():\n",
        "    head = Node(10)\n",
        "    head.next = Node(20)\n",
        "    head.next.next = Node(30)\n",
        "    head.next.next.next = Node(40)\n",
        "    head.next.next.next.next = Node(50)\n",
        "    head.next.next.next.next.next = Node(60)\n",
        "\n",
        "    print(getmiddle(head))\n",
        "\n",
        "if __name__ == \"__main__\":\n",
        "    main()\n",
        "\n"
      ],
      "metadata": {
        "colab": {
          "base_uri": "https://localhost:8080/"
        },
        "id": "poHDmGJ1mI_E",
        "outputId": "29c6c065-1f76-4f4c-aedd-cf6561bf4792"
      },
      "execution_count": null,
      "outputs": [
        {
          "output_type": "stream",
          "name": "stdout",
          "text": [
            "40\n"
          ]
        }
      ]
    },
    {
      "cell_type": "code",
      "source": [
        "class Node:\n",
        "  def __init__(self,new_data):\n",
        "    self.data = new_data\n",
        "    self.next = None\n",
        "def reverse_list(head):\n",
        "  curr = head\n",
        "  prev = None\n",
        "  while curr is not None:\n",
        "    next_node = curr.next\n",
        "    curr.next = prev\n",
        "    prev = curr\n",
        "    curr=next_node\n",
        "  return prev\n",
        "def print_list(node):\n",
        "  while node is not None:\n",
        "    print(f\"{node.data}\",end=\"\")\n",
        "    node = node.next\n",
        "  print()\n",
        "if __name__ ==\"__main__\":\n",
        "    head = Node(1)\n",
        "    head.next = Node(2)\n",
        "    head.next.next = Node(3)\n",
        "    head.next.next.next = Node(4)\n",
        "    head.next.next.next.next = Node(5)\n",
        "    print(\" \", end=\"\")\n",
        "    print_list(head)\n",
        "    head = reverse_list(head)\n",
        "    print(\" \", end=\"\")\n",
        "    print_list(head)\n",
        "\n"
      ],
      "metadata": {
        "colab": {
          "base_uri": "https://localhost:8080/"
        },
        "id": "GgAmSdZ7vhJR",
        "outputId": "e0e5d013-e428-40b1-ce52-a5f2a893aa00"
      },
      "execution_count": null,
      "outputs": [
        {
          "output_type": "stream",
          "name": "stdout",
          "text": [
            " 12345\n",
            " 54321\n"
          ]
        }
      ]
    },
    {
      "cell_type": "code",
      "source": [
        "class Node:\n",
        "  def __init__(self,val):\n",
        "    self.data = val\n",
        "    self.next = None\n",
        "    self.next = None\n",
        "def reverse(curr):\n",
        "  if curr is None:\n",
        "    return None\n",
        "  temp = curr.prev\n",
        "  curr.prev= curr.next\n",
        "  curr.next = temp\n",
        "  if curr.prev is None:\n",
        "    return curr\n",
        "  return reverse(curr.prev)\n",
        "  def print_list(node):\n",
        "    while node is not None:\n",
        "      print(node.data,end=\" \")"
      ],
      "metadata": {
        "id": "7vgnfwqzyNt9"
      },
      "execution_count": null,
      "outputs": []
    },
    {
      "cell_type": "code",
      "source": [
        "class Node:\n",
        "  def __init__(self,new_data):\n"
      ],
      "metadata": {
        "id": "N9Y-Uu_TVtVt"
      },
      "execution_count": null,
      "outputs": []
    },
    {
      "cell_type": "code",
      "source": [
        "class Node:\n",
        "  def __init__(self,value):\n",
        "    self.data = value\n",
        "    self.next = None\n",
        "def delete_head(head):\n",
        "  if head is None:\n",
        "    return None\n",
        "    temp=head\n",
        "    head=head.next\n",
        "    del temp\n",
        "    return head\n",
        "def head_list(head):\n",
        "  while head:\n",
        "    print(head.data, end=\" -> \")\n",
        "    head=head.next\n",
        "  print(\"None\")\n",
        "if __name__ == \"__main__\":\n",
        "  head= Node(1)\n",
        "  head.next = Node(2)\n",
        "  head.next.next = Node(3)\n",
        "  head.next.next.next = Node(4)\n",
        "  head.next.next.next.next = Node(5)\n",
        "\n",
        "  print(\"Original list: \")\n",
        "  print_list(head)\n",
        "\n",
        "  head = delete_head(head)\n",
        "  print(\"List after deleting the head: \")\n",
        "  print_list(head)\n",
        "\n"
      ],
      "metadata": {
        "colab": {
          "base_uri": "https://localhost:8080/",
          "height": 228
        },
        "id": "oBeA0LKHRkFS",
        "outputId": "a075d924-dfa7-4d5f-9b1f-9bce3e9ae277"
      },
      "execution_count": null,
      "outputs": [
        {
          "output_type": "stream",
          "name": "stdout",
          "text": [
            "Original list: \n"
          ]
        },
        {
          "output_type": "error",
          "ename": "NameError",
          "evalue": "name 'print_list' is not defined",
          "traceback": [
            "\u001b[0;31m---------------------------------------------------------------------------\u001b[0m",
            "\u001b[0;31mNameError\u001b[0m                                 Traceback (most recent call last)",
            "\u001b[0;32m<ipython-input-8-ea9945fdbbe5>\u001b[0m in \u001b[0;36m<cell line: 17>\u001b[0;34m()\u001b[0m\n\u001b[1;32m     23\u001b[0m \u001b[0;34m\u001b[0m\u001b[0m\n\u001b[1;32m     24\u001b[0m   \u001b[0mprint\u001b[0m\u001b[0;34m(\u001b[0m\u001b[0;34m\"Original list: \"\u001b[0m\u001b[0;34m)\u001b[0m\u001b[0;34m\u001b[0m\u001b[0;34m\u001b[0m\u001b[0m\n\u001b[0;32m---> 25\u001b[0;31m   \u001b[0mprint_list\u001b[0m\u001b[0;34m(\u001b[0m\u001b[0mhead\u001b[0m\u001b[0;34m)\u001b[0m\u001b[0;34m\u001b[0m\u001b[0;34m\u001b[0m\u001b[0m\n\u001b[0m\u001b[1;32m     26\u001b[0m \u001b[0;34m\u001b[0m\u001b[0m\n\u001b[1;32m     27\u001b[0m   \u001b[0mhead\u001b[0m \u001b[0;34m=\u001b[0m \u001b[0mdelete_head\u001b[0m\u001b[0;34m(\u001b[0m\u001b[0mhead\u001b[0m\u001b[0;34m)\u001b[0m\u001b[0;34m\u001b[0m\u001b[0;34m\u001b[0m\u001b[0m\n",
            "\u001b[0;31mNameError\u001b[0m: name 'print_list' is not defined"
          ]
        }
      ]
    },
    {
      "cell_type": "code",
      "source": [
        "class Node:\n",
        "  def __init__(self,data):\n",
        "    self.data=data\n",
        "    self.next= None\n",
        "  def deleteNode(head,position):\n",
        "    temp=head\n",
        "    prev = None\n",
        "    if temp is None:\n",
        "      return head\n",
        "    if position == 1:\n",
        "      head= temp.next\n",
        "      return head\n",
        "    for i in range(1,position):\n",
        "      prev = temp\n",
        "      temp = temp.next\n",
        "      if temp is None:\n",
        "        print(\"data not present\")\n",
        "        return head\n",
        "    if temp is not None:\n",
        "      prev.next = temp.next\n",
        "    return head\n",
        "  def printList(head):\n",
        "    while head:\n",
        "      print(f\"{head.data} -> \", end = \"\")\n",
        "      head = head.next\n",
        "    print(\"None\")\n",
        "\n"
      ],
      "metadata": {
        "id": "44F7Dq1RS77_"
      },
      "execution_count": null,
      "outputs": []
    },
    {
      "cell_type": "code",
      "source": [
        "def Unionarray(arr1,arr2,n,m):\n",
        "  set1= set(arr1)\n",
        "  set2= set(arr2)\n",
        "  result = list(set1.union(set2))\n",
        "  return result\n",
        "if __name__ == \"__main__\":\n",
        "  arr1 = [1,2,3,4]\n",
        "  arr2 = [2,3,4,5,6,5]\n",
        "  n=len(arr1)\n",
        "  m=len(arr2)\n",
        "  uni = Unionarray(arr1, arr2, n, m)\n",
        "  for i in uni:\n",
        "    print(i, end=\" \")\n"
      ],
      "metadata": {
        "colab": {
          "base_uri": "https://localhost:8080/"
        },
        "id": "8xeGcNRUe1on",
        "outputId": "03b2aade-7285-4f89-bea0-0cef1b4a5d30"
      },
      "execution_count": null,
      "outputs": [
        {
          "output_type": "stream",
          "name": "stdout",
          "text": [
            "1 2 3 4 5 6 "
          ]
        }
      ]
    },
    {
      "cell_type": "code",
      "source": [
        "from typing import List\n",
        "def Unionarray(arr1: List[int], arr2: List[int], n: int, m: int)-> List[int]:\n",
        "  map={}\n",
        "  for i in range(n):\n",
        "    if arr1[i] in map:\n",
        "      map[arr1[i]]+=1\n",
        "    else:\n",
        "      map[arr2[i]]=1\n",
        "  for i in range(m):\n",
        "    if arr2[i]  in map:\n",
        "      map[arr2[i]]+=1\n",
        "    else:\n",
        "      map[arr2[i]]=1\n",
        "  uni = list(map.keys())\n",
        "  return uni\n",
        "arr1 = [1,2,3,4,5]\n",
        "arr2 = [2,3,4,5,5]\n",
        "n=len(arr1)\n",
        "m=len(arr2)\n",
        "print(\"union is :\")\n",
        "uni = Unionarray(arr1, arr2,n,m)\n",
        "for i in uni:\n",
        "  print(i, end=\" \")\n"
      ],
      "metadata": {
        "colab": {
          "base_uri": "https://localhost:8080/"
        },
        "id": "bbhQNquUgRF4",
        "outputId": "bb67d920-c678-4a3a-ed74-23f083b159fb"
      },
      "execution_count": null,
      "outputs": [
        {
          "output_type": "stream",
          "name": "stdout",
          "text": [
            "union is :\n",
            "2 4 5 3 "
          ]
        }
      ]
    },
    {
      "cell_type": "code",
      "source": [
        "def printUnion(arr1,arr2,m,n):\n",
        "  i,j = 0,0\n",
        "  while i<m and j<n:\n",
        "    if arr1[i] < arr2[j]:\n",
        "      print(arr1[i], end=\" \")\n",
        "      i+=1\n",
        "    elif arr2[j] < arr1[i]:\n",
        "      print(arr2[j], end=\" \")\n",
        "      j+=1\n",
        "    else:\n",
        "      print(arr2[j],end = \" \")\n",
        "      j+=1\n",
        "      i+=1\n",
        "  while i<m:\n",
        "    print(arr1[i], end = \" \")\n",
        "    i+=1\n",
        "  while j<n:\n",
        "    print(arr2[j],end = \" \")\n",
        "    j+=1\n",
        "arr1=[1,2,3,4,5,6]\n",
        "arr2=[2,3,4,5,6,7]\n",
        "m=len(arr1)\n",
        "n=len(arr2)\n",
        "printUnion(arr1, arr2 , m, n)"
      ],
      "metadata": {
        "colab": {
          "base_uri": "https://localhost:8080/"
        },
        "id": "iQUqkLRRiczc",
        "outputId": "289f0000-02d4-4586-94a4-a7b1f76a747e"
      },
      "execution_count": null,
      "outputs": [
        {
          "output_type": "stream",
          "name": "stdout",
          "text": [
            "1 2 3 4 5 6 7 "
          ]
        }
      ]
    },
    {
      "cell_type": "code",
      "source": [
        "def next_distinct(arr,x):\n",
        "  while x < len(arr) - 1 and arr[x]== arr[x+1]:\n",
        "    x+=1\n",
        "  return x+1\n",
        "def printunion(arr1, arr2):\n",
        "  i=j=0\n",
        "  while i< len(arr1) and j<len(arr2):\n",
        "    if arr1[i] < arr2[j]:\n",
        "      print(arr1[i], end =\" \")\n",
        "      i=next_distict(arr1, i)\n",
        "    elif arr1[i] > arr2[j]:\n",
        "      print(arr2[j], end = \" \")\n",
        "      j=next_distinct(arr2, j)\n",
        "    else:\n",
        "      print(arr1[i], end=\" \")\n",
        "      i=next_distict\n"
      ],
      "metadata": {
        "id": "2IvSXQTtqoHh"
      },
      "execution_count": null,
      "outputs": []
    },
    {
      "cell_type": "code",
      "source": [
        "def bubbleSort(arr):\n",
        "  n=len(arr)\n",
        "  for i in range(n):\n",
        "    for j in range(0, n-i-1):\n",
        "      if arr[j] > arr[j+1]:\n",
        "        arr[j], arr[j+1] = arr[j+1],arr[j]\n",
        "arr=[2,1,10,23]\n",
        "bubbleSort(arr)\n",
        "print(\"Sorted array is:\")\n",
        "for i in range(len(arr)):\n",
        "  print(\"%d\" % arr[i])"
      ],
      "metadata": {
        "colab": {
          "base_uri": "https://localhost:8080/"
        },
        "id": "nPoHNord-2Y2",
        "outputId": "7421b7e2-1ce0-4d66-a3df-a79919ce9d09"
      },
      "execution_count": null,
      "outputs": [
        {
          "output_type": "stream",
          "name": "stdout",
          "text": [
            "Sorted array is:\n",
            "1\n",
            "2\n",
            "10\n",
            "23\n"
          ]
        }
      ]
    },
    {
      "cell_type": "code",
      "source": [
        "def selectionSort(array, size):\n",
        "  for s in range(size):\n",
        "    min_idx = s\n",
        "    for i in range(s + 1, size):\n",
        "      if array[i] < array[min_idx]:\n",
        "        min_idx = i\n",
        "    (array[i] < array[min_idx]):\n",
        "    min_idx = i\n",
        " (array[s], array[min_idx]) = (array[min_idx], array[s])\n",
        "data = [7,2,1,6]\n",
        "size = len(data)\n",
        "selectionSort(data, size)\n",
        "print('Sorted array in ascending order is :')\n",
        "print(data)"
      ],
      "metadata": {
        "colab": {
          "base_uri": "https://localhost:8080/",
          "height": 106
        },
        "id": "_24i0qv3BE0z",
        "outputId": "775314af-f199-4626-ec26-2e5fd972934f"
      },
      "execution_count": null,
      "outputs": [
        {
          "output_type": "error",
          "ename": "IndentationError",
          "evalue": "unindent does not match any outer indentation level (<tokenize>, line 9)",
          "traceback": [
            "\u001b[0;36m  File \u001b[0;32m\"<tokenize>\"\u001b[0;36m, line \u001b[0;32m9\u001b[0m\n\u001b[0;31m    (array[s], array[min_idx]) = (array[min_idx], array[s])\u001b[0m\n\u001b[0m    ^\u001b[0m\n\u001b[0;31mIndentationError\u001b[0m\u001b[0;31m:\u001b[0m unindent does not match any outer indentation level\n"
          ]
        }
      ]
    },
    {
      "cell_type": "code",
      "source": [
        "def bubblesort(nlist):\n",
        "  for passnum in range(len(nlist)-1,0,-1):\n",
        "    for i in range(passnum):\n",
        "      if nlist[i]< nlist[i+1]:\n",
        "        temp = nlist[i]\n",
        "        nlist[i] = nlist[i+1]\n",
        "        nlist[i+1] = temp\n",
        "nlist=[14,46,43,27,57,41,45,21,70]\n",
        "bubblesort(nlist)\n",
        "print(nlist)"
      ],
      "metadata": {
        "colab": {
          "base_uri": "https://localhost:8080/"
        },
        "id": "Vc84ld_3IZHS",
        "outputId": "5bca4da5-5868-48e0-c195-a1522059444a"
      },
      "execution_count": null,
      "outputs": [
        {
          "output_type": "stream",
          "name": "stdout",
          "text": [
            "[70, 57, 46, 45, 43, 41, 27, 21, 14]\n"
          ]
        }
      ]
    },
    {
      "cell_type": "code",
      "source": [
        "n=10\n",
        "num1=0\n",
        "num2=1\n",
        "next_number = num2\n",
        "count+=1\n",
        "while count <=n:\n",
        "  print(next_number, end=\" \")\n",
        "  count += 1\n",
        "  num1, num2 = num2, next_number\n",
        "  next_number = num1+num2\n",
        "  print()\n"
      ],
      "metadata": {
        "id": "EDZ4LelHKA0U",
        "colab": {
          "base_uri": "https://localhost:8080/",
          "height": 1000
        },
        "outputId": "fe9d87fb-d5a9-43d6-c398-8a132ff5493e"
      },
      "execution_count": null,
      "outputs": [
        {
          "output_type": "error",
          "ename": "NameError",
          "evalue": "name 'count' is not defined",
          "traceback": [
            "\u001b[0;31m---------------------------------------------------------------------------\u001b[0m",
            "\u001b[0;31mNameError\u001b[0m                                 Traceback (most recent call last)",
            "\u001b[0;32m<ipython-input-1-61d11bc734e5>\u001b[0m in \u001b[0;36m<cell line: 5>\u001b[0;34m()\u001b[0m\n\u001b[1;32m      3\u001b[0m \u001b[0mnum2\u001b[0m\u001b[0;34m=\u001b[0m\u001b[0;36m1\u001b[0m\u001b[0;34m\u001b[0m\u001b[0;34m\u001b[0m\u001b[0m\n\u001b[1;32m      4\u001b[0m \u001b[0mnext_number\u001b[0m \u001b[0;34m=\u001b[0m \u001b[0mnum2\u001b[0m\u001b[0;34m\u001b[0m\u001b[0;34m\u001b[0m\u001b[0m\n\u001b[0;32m----> 5\u001b[0;31m \u001b[0mcount\u001b[0m\u001b[0;34m+=\u001b[0m\u001b[0;36m1\u001b[0m\u001b[0;34m\u001b[0m\u001b[0;34m\u001b[0m\u001b[0m\n\u001b[0m\u001b[1;32m      6\u001b[0m \u001b[0;32mwhile\u001b[0m \u001b[0mcount\u001b[0m \u001b[0;34m<=\u001b[0m\u001b[0mn\u001b[0m\u001b[0;34m:\u001b[0m\u001b[0;34m\u001b[0m\u001b[0;34m\u001b[0m\u001b[0m\n\u001b[1;32m      7\u001b[0m   \u001b[0mprint\u001b[0m\u001b[0;34m(\u001b[0m\u001b[0mnext_number\u001b[0m\u001b[0;34m,\u001b[0m \u001b[0mend\u001b[0m\u001b[0;34m=\u001b[0m\u001b[0;34m\" \"\u001b[0m\u001b[0;34m)\u001b[0m\u001b[0;34m\u001b[0m\u001b[0;34m\u001b[0m\u001b[0m\n",
            "\u001b[0;31mNameError\u001b[0m: name 'count' is not defined"
          ]
        }
      ]
    },
    {
      "cell_type": "code",
      "source": [
        "n=10\n",
        "num1=0\n",
        "num2=1\n",
        "next_number =num2\n",
        "count=1\n",
        "while count<=n:\n",
        "  print(next_number, end=\" \")\n",
        "  count +=1\n",
        "  num1,num2 = num2, next_number\n",
        "  next_number = num1+num2\n",
        "print()"
      ],
      "metadata": {
        "colab": {
          "base_uri": "https://localhost:8080/"
        },
        "id": "0opndoFl5x_s",
        "outputId": "e2f303c4-6fea-4d09-cb0a-587a1cb6380b"
      },
      "execution_count": null,
      "outputs": [
        {
          "output_type": "stream",
          "name": "stdout",
          "text": [
            "1 2 3 5 8 13 21 34 55 89 \n"
          ]
        }
      ]
    },
    {
      "cell_type": "code",
      "source": [
        "def fibonnaci(n):\n",
        "  if n<0:\n",
        "    print(\"incorrect number\")\n",
        "  elif n==0:\n",
        "    return 0\n",
        "  elif n==1 or n==2:\n",
        "    return 1\n",
        "  else:\n",
        "    return fibonnaci(n-1)+ fibonnaci(n-2)\n",
        "print(fibonnaci(9))\n"
      ],
      "metadata": {
        "colab": {
          "base_uri": "https://localhost:8080/"
        },
        "id": "w1daMWy96UbP",
        "outputId": "dbe97e2b-d85e-463f-a7b9-55bec241c043"
      },
      "execution_count": null,
      "outputs": [
        {
          "output_type": "stream",
          "name": "stdout",
          "text": [
            "34\n"
          ]
        }
      ]
    },
    {
      "cell_type": "code",
      "source": [
        "FibArray= [0,1]\n",
        "def fibonnaci(n):\n",
        "  if n<0:\n",
        "    print(\"incorrect input\")\n",
        "  elif n< len(FibArray):\n",
        "    return FibArray[n]\n",
        "  else:\n",
        "    FibArray.append(fibonnaci(n-1)+ fibonnaci(n-2))\n",
        "    return FibArray[n]\n",
        "print(fibonnaci(9))"
      ],
      "metadata": {
        "colab": {
          "base_uri": "https://localhost:8080/"
        },
        "id": "Uw_nXNYF7D5A",
        "outputId": "bba3d0e9-a973-4f39-8171-37cd15d25533"
      },
      "execution_count": null,
      "outputs": [
        {
          "output_type": "stream",
          "name": "stdout",
          "text": [
            "34\n"
          ]
        }
      ]
    },
    {
      "cell_type": "code",
      "source": [
        "def fibonnaci(n):\n",
        "  a=0\n",
        "  b=1\n",
        "  if n<0:\n",
        "    print(\"Incorrect input\")\n",
        "  elif n==0:\n",
        "    return 0\n",
        "  elif n==1:\n",
        "    return b\n",
        "  else:\n",
        "    for i in range(1,n):\n",
        "      c=a+b\n",
        "      a=b\n",
        "      b=c\n",
        "    return b\n",
        "print(fibonnaci(9))"
      ],
      "metadata": {
        "colab": {
          "base_uri": "https://localhost:8080/"
        },
        "id": "ziS7pEEY7847",
        "outputId": "9ad3a042-a2c4-4bf6-b19d-410d5f056562"
      },
      "execution_count": null,
      "outputs": [
        {
          "output_type": "stream",
          "name": "stdout",
          "text": [
            "34\n"
          ]
        }
      ]
    },
    {
      "cell_type": "code",
      "source": [
        "class Solution:\n",
        "  def fib(self, n: int)-> int:\n",
        "    if n==0: return 0\n",
        "    if n==1: return 1\n",
        "    a,b =0,1\n",
        "    for i in range(2,n+1):\n",
        "      a,b=b, a+b\n",
        "    return b"
      ],
      "metadata": {
        "id": "a1T4DHfP-BcO"
      },
      "execution_count": null,
      "outputs": []
    },
    {
      "cell_type": "code",
      "source": [
        "class Solution:\n",
        "  def fib(self, n: int)-> int:\n",
        "    if n==0:\n",
        "      return 0\n",
        "    if n==1:\n",
        "      return 1\n",
        "    a,b = 0,1\n",
        "    for i in range(2, n+1):\n",
        "      a,b = b, a+b\n",
        "    return b\n",
        "sol=Solution()\n",
        "print(sol.fib(2))\n",
        "print(sol.fib(3))\n",
        "print(sol.fib(4))"
      ],
      "metadata": {
        "colab": {
          "base_uri": "https://localhost:8080/"
        },
        "id": "yoMzEEfj-8UI",
        "outputId": "f44353a0-73f5-44ac-b249-bbcecbc6a3da"
      },
      "execution_count": null,
      "outputs": [
        {
          "output_type": "stream",
          "name": "stdout",
          "text": [
            "1\n",
            "2\n",
            "3\n"
          ]
        }
      ]
    },
    {
      "cell_type": "code",
      "source": [
        "class Solution:\n",
        "  def fib(self,n: int)-> int:\n",
        "    if n==0:\n",
        "      return 0\n",
        "    elif n==1:\n",
        "      return 1\n",
        "    a,b = 0,1\n",
        "    for i in range(2,n+1):\n",
        "      a,b= b, a+b\n",
        "    return b\n",
        "sol=Solution()\n",
        "print(sol.fib(2))\n",
        "print(sol.fib(3))\n",
        "print(sol.fib(4))"
      ],
      "metadata": {
        "colab": {
          "base_uri": "https://localhost:8080/"
        },
        "id": "g0njVWNk0IjE",
        "outputId": "51507a1d-21a2-40b6-a10a-50b19b1fac4c"
      },
      "execution_count": null,
      "outputs": [
        {
          "output_type": "stream",
          "name": "stdout",
          "text": [
            "1\n",
            "2\n",
            "3\n"
          ]
        }
      ]
    },
    {
      "cell_type": "code",
      "source": [
        "def fibonnaci(A,n):\n",
        "  S=set(A)\n",
        "  maxLen = 0\n",
        "  for i in range(0,n):\n",
        "    for j in range(i+1,n):\n",
        "      x=A[j]\n",
        "      y=A[i] + A[j]\n",
        "      length = 2\n",
        "      while y in S:\n",
        "        z=x+y\n",
        "        x=y\n",
        "        y=z\n",
        "        length+=1\n",
        "        maxLen = max(maxLen, length)\n",
        "  return maxLen if maxLen>=3 else 0\n",
        "if __name__ == \"__main__\":\n",
        "  A=[1,2,3,4,5,6,7,8]\n",
        "  n=len(A)\n",
        "  print(fibonnaci(A, n))"
      ],
      "metadata": {
        "colab": {
          "base_uri": "https://localhost:8080/"
        },
        "id": "IglC9kEo2A7p",
        "outputId": "91181c5e-225e-4fa7-bdec-55c354502d07"
      },
      "execution_count": null,
      "outputs": [
        {
          "output_type": "stream",
          "name": "stdout",
          "text": [
            "5\n"
          ]
        }
      ]
    },
    {
      "cell_type": "code",
      "source": [
        "def LongestFibSubseq(A):\n",
        "  n=len(A)\n",
        "  index = { num: i for i, num in enumerate(A)}\n",
        "  dp={}\n",
        "  max_len = 0\n",
        "  for i in range(n):\n",
        "    for j in range(i):\n",
        "      prev_num = A[i] - A[j]\n",
        "      if prev_num < A[j] and prev_num in index:\n",
        "        k=index[prev_num]\n",
        "        dp[j, i] = dp.get((k, j),2)+1\n",
        "        max_len = mex(max_len, dp[j,i])\n",
        "  return max_len if max_len >= 3 else 0"
      ],
      "metadata": {
        "id": "fPOgbB_CKoZ5"
      },
      "execution_count": 1,
      "outputs": []
    },
    {
      "cell_type": "code",
      "source": [
        "class Solution:\n",
        "  def fibonnaci(self, n: int)-> int:\n",
        "    if n==0:\n",
        "      return 0\n",
        "    elif n==1:\n",
        "      return 1\n",
        "    a,b = 0,1\n",
        "    for i in range(2,n+1):\n",
        "      a,b = b, a+b\n",
        "    return b\n",
        "sol=Solution()\n",
        "print(sol.fibonnaci(2))\n",
        "print(sol.fibonnaci(3))\n",
        "print(sol.fibonnaci(4))"
      ],
      "metadata": {
        "id": "jUAJ_JOMLrWT",
        "colab": {
          "base_uri": "https://localhost:8080/"
        },
        "outputId": "2d25c247-cace-467a-b18a-7b9f68ca1bdf"
      },
      "execution_count": 3,
      "outputs": [
        {
          "output_type": "stream",
          "name": "stdout",
          "text": [
            "1\n",
            "2\n",
            "3\n"
          ]
        }
      ]
    },
    {
      "cell_type": "code",
      "source": [
        "def LongestFibonnacisubseq(A):\n",
        "  n=len(A)\n",
        "  index = {num: i for i, num in enumerate(A)}\n",
        "  dp={}\n",
        "  max_len = 0\n",
        "  for i in range(n):\n",
        "    for j in range(i):\n",
        "      prev_num = A[i] - A[j]\n",
        "      if prev_num < A[j] and prev_num in index:\n",
        "        k= index[prev_num]\n",
        "        dp[j, i]=dp.get((k, j),2)+1\n",
        "        max_len = max(max_len, dp[j , i])\n",
        "  return max_len if max_len>=3 else 0"
      ],
      "metadata": {
        "id": "uvShR6qxRA4-"
      },
      "execution_count": 5,
      "outputs": []
    },
    {
      "cell_type": "code",
      "source": [
        "result =[]\n",
        "def isSafe(board , row, col):\n",
        "  for i in range(col):\n",
        "    if (board[row][i]):\n",
        "      return False\n",
        "  i=row\n",
        "  j=col\n",
        "  while i>=0 and j>= 0:\n",
        "    if (board[i][j]):\n",
        "      return False\n",
        "    i-=1\n",
        "    j-=1\n",
        "  i=row\n",
        "  j=col\n",
        "  while j>=0 and i<4:\n",
        "    if(board[i][j]):\n",
        "      return False\n",
        "    i = i+1\n",
        "    j = j+1\n",
        "  return True\n",
        "\n",
        "  def"
      ],
      "metadata": {
        "id": "0X-KcEtERfdp"
      },
      "execution_count": null,
      "outputs": []
    }
  ]
}