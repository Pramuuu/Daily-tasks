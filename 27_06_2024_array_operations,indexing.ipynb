{
  "nbformat": 4,
  "nbformat_minor": 0,
  "metadata": {
    "colab": {
      "provenance": [],
      "authorship_tag": "ABX9TyMrhnWpjuczePJp4Tl/yPQr",
      "include_colab_link": true
    },
    "kernelspec": {
      "name": "python3",
      "display_name": "Python 3"
    },
    "language_info": {
      "name": "python"
    }
  },
  "cells": [
    {
      "cell_type": "markdown",
      "metadata": {
        "id": "view-in-github",
        "colab_type": "text"
      },
      "source": [
        "<a href=\"https://colab.research.google.com/github/Pramuuu/Daily-tasks/blob/main/27_06_2024_array_operations%2Cindexing.ipynb\" target=\"_parent\"><img src=\"https://colab.research.google.com/assets/colab-badge.svg\" alt=\"Open In Colab\"/></a>"
      ]
    },
    {
      "cell_type": "code",
      "source": [
        "#numpy operations\n",
        "#multiplication\n",
        "import numpy as np\n",
        "p=[[1,0], [0,1]]\n",
        "q=[[1,2],[3,4]]\n",
        "result = np.dot(p,q)\n",
        "print(result)"
      ],
      "metadata": {
        "colab": {
          "base_uri": "https://localhost:8080/"
        },
        "id": "BdFOGbWooWZc",
        "outputId": "3c3093b6-c196-47d8-9507-44cdf30b31db"
      },
      "execution_count": null,
      "outputs": [
        {
          "output_type": "stream",
          "name": "stdout",
          "text": [
            "[[1 2]\n",
            " [3 4]]\n"
          ]
        }
      ]
    },
    {
      "cell_type": "code",
      "source": [
        "import numpy as np\n",
        "print(np.add(1.0,4.0))\n",
        "\n",
        "print(np.subtract(1.0,4.0))\n",
        "\n",
        "print(np.multiply(1.0,4.0))\n",
        "\n",
        "print(np.divide(1.0,4.0))"
      ],
      "metadata": {
        "colab": {
          "base_uri": "https://localhost:8080/"
        },
        "id": "MOH-E5-7rNwl",
        "outputId": "985b4d67-13db-4b6a-8d4c-7627d5884699"
      },
      "execution_count": null,
      "outputs": [
        {
          "output_type": "stream",
          "name": "stdout",
          "text": [
            "5.0\n",
            "-3.0\n",
            "4.0\n",
            "0.25\n"
          ]
        }
      ]
    },
    {
      "cell_type": "code",
      "source": [
        "import numpy as np\n",
        "a=np.array([2,3,4,5])\n",
        "b=a*2\n",
        "print(b)\n",
        "c=a/2\n",
        "print(c)"
      ],
      "metadata": {
        "id": "TpsSd_38wFRn",
        "colab": {
          "base_uri": "https://localhost:8080/"
        },
        "outputId": "9cfc2adf-905c-429f-b303-a8b7d387278a"
      },
      "execution_count": 2,
      "outputs": [
        {
          "output_type": "stream",
          "name": "stdout",
          "text": [
            "[ 4  6  8 10]\n",
            "[1.  1.5 2.  2.5]\n"
          ]
        }
      ]
    },
    {
      "cell_type": "code",
      "source": [
        "import numpy as np\n",
        "l1=np.log(1e-50)\n",
        "l2=np.log(2.5e-50)\n",
        "print(np.logaddexp(l1,l2))\n",
        "print(np.logaddexp2(l1,l2))"
      ],
      "metadata": {
        "colab": {
          "base_uri": "https://localhost:8080/"
        },
        "id": "nxfbU084ecty",
        "outputId": "2491e51d-bbe6-4091-ce3b-cb7d2d917284"
      },
      "execution_count": 3,
      "outputs": [
        {
          "output_type": "stream",
          "name": "stdout",
          "text": [
            "-113.87649168120691\n",
            "-113.59955522772194\n"
          ]
        }
      ]
    },
    {
      "cell_type": "code",
      "source": [
        "import numpy as np\n",
        "x=np.arange(7)\n",
        "print(x)\n",
        "print(np.power(x,3))"
      ],
      "metadata": {
        "colab": {
          "base_uri": "https://localhost:8080/"
        },
        "id": "hf8R75JlfPjX",
        "outputId": "722767d8-2eef-4f28-b662-762728d19018"
      },
      "execution_count": 4,
      "outputs": [
        {
          "output_type": "stream",
          "name": "stdout",
          "text": [
            "[0 1 2 3 4 5 6]\n",
            "[  0   1   8  27  64 125 216]\n"
          ]
        }
      ]
    },
    {
      "cell_type": "code",
      "source": [
        "#absolute value\n",
        "import numpy as np\n",
        "x=np.array([-10.2,122.2,.20])\n",
        "print(x)\n",
        "print(np.absolute(x))"
      ],
      "metadata": {
        "colab": {
          "base_uri": "https://localhost:8080/"
        },
        "id": "OdSV7qc0fhjW",
        "outputId": "5a30db5b-7fa9-4c58-bb9b-aaa93ee750ef"
      },
      "execution_count": 5,
      "outputs": [
        {
          "output_type": "stream",
          "name": "stdout",
          "text": [
            "[-10.2 122.2   0.2]\n",
            "[ 10.2 122.2   0.2]\n"
          ]
        }
      ]
    },
    {
      "cell_type": "code",
      "source": [
        "#indexing\n",
        "import numpy as np\n",
        "array_2d  = np.random.randint(0,100, size =(5,5))\n",
        "threshold =50\n",
        "selected_elements = array_2d[array_2d>threshold]\n",
        "print('Original 2D array:\\n', array_2d)\n",
        "print(f'\\nElements greater than {threshold}:\\n', selected_elements)"
      ],
      "metadata": {
        "colab": {
          "base_uri": "https://localhost:8080/"
        },
        "id": "EHkZ9rEzhksv",
        "outputId": "a7d44b49-cf7c-4595-ad1b-6e16d896f2bc"
      },
      "execution_count": 8,
      "outputs": [
        {
          "output_type": "stream",
          "name": "stdout",
          "text": [
            "Original 2D array:\n",
            " [[88 60 77 79 22]\n",
            " [64 96 89 37 41]\n",
            " [78 47 95 43 47]\n",
            " [92 69 71 26 60]\n",
            " [38 85 68 38 60]]\n",
            "\n",
            "Elements greater than 50:\n",
            " [88 60 77 79 64 96 89 78 95 92 69 71 60 85 68 60]\n"
          ]
        }
      ]
    },
    {
      "cell_type": "code",
      "source": [
        "import numpy as np\n",
        "array_1d = np.array([10, 20, 30, 40, 50, 60, 70, 80, 90, 100])\n",
        "index_array = np.array([0, 2, 4, 6, 8])\n",
        "selected_elements = array_1d[index_array]\n",
        "print('Original 1D array:\\n', array_1d)\n",
        "print('Index array:\\n', index_array)\n",
        "print('Selected elements:\\n', selected_elements)"
      ],
      "metadata": {
        "colab": {
          "base_uri": "https://localhost:8080/"
        },
        "id": "3Lb0Y5Y1iEpn",
        "outputId": "3a02d4ed-d753-4d1f-ea7d-4b4f42b81eaf"
      },
      "execution_count": 9,
      "outputs": [
        {
          "output_type": "stream",
          "name": "stdout",
          "text": [
            "Original 1D array:\n",
            " [ 10  20  30  40  50  60  70  80  90 100]\n",
            "Index array:\n",
            " [0 2 4 6 8]\n",
            "Selected elements:\n",
            " [10 30 50 70 90]\n"
          ]
        }
      ]
    },
    {
      "cell_type": "code",
      "source": [
        "import numpy as np\n",
        "array_3d = np.random.randint(0, 100, size=(4, 5, 6))\n",
        "slice_2d = array_3d[2, :, :]\n",
        "row_indices = np.array([0, 2, 4])\n",
        "col_indices = np.array([1, 3, 5])\n",
        "selected_elements = slice_2d[row_indices, col_indices]\n",
        "print('Original 3D array:\\n', array_3d)\n",
        "print('2D slice (3rd slice along first axis):\\n', slice_2d)\n",
        "print('Row indices:', row_indices)\n",
        "print('Column indices:', col_indices)\n",
        "print('Selected elements from 2D slice:\\n', selected_elements)"
      ],
      "metadata": {
        "colab": {
          "base_uri": "https://localhost:8080/"
        },
        "id": "qUNrvsAtiWfB",
        "outputId": "72ce1f45-9175-4133-bd20-8f271b85485c"
      },
      "execution_count": 10,
      "outputs": [
        {
          "output_type": "stream",
          "name": "stdout",
          "text": [
            "Original 3D array:\n",
            " [[[46 76 69 64 25 69]\n",
            "  [72 64 65 73 63 73]\n",
            "  [58 26 32 27 22 22]\n",
            "  [35 68 25 10 96 80]\n",
            "  [26 52 67 64 81 16]]\n",
            "\n",
            " [[19 46 34 20 49  3]\n",
            "  [ 8 50 95 22 65 95]\n",
            "  [70  3 17 93 91 12]\n",
            "  [18 47 93  9 60 74]\n",
            "  [79 41 17 56  8 29]]\n",
            "\n",
            " [[30 29 70 64 27 57]\n",
            "  [46 54 61 22 71  4]\n",
            "  [67 10 34  7 59 68]\n",
            "  [94 58 49 53 24 39]\n",
            "  [72 56  2 91 23 38]]\n",
            "\n",
            " [[91 78 96 41 20 72]\n",
            "  [66 93 93 52 30 65]\n",
            "  [19 31 96 91 16 62]\n",
            "  [76 79 13 84 24 45]\n",
            "  [11  6 83 24 59 15]]]\n",
            "2D slice (3rd slice along first axis):\n",
            " [[30 29 70 64 27 57]\n",
            " [46 54 61 22 71  4]\n",
            " [67 10 34  7 59 68]\n",
            " [94 58 49 53 24 39]\n",
            " [72 56  2 91 23 38]]\n",
            "Row indices: [0 2 4]\n",
            "Column indices: [1 3 5]\n",
            "Selected elements from 2D slice:\n",
            " [29  7 38]\n"
          ]
        }
      ]
    },
    {
      "cell_type": "code",
      "source": [
        "import numpy as np\n",
        "array_2d = np.random.randint(0, 100, size=(6, 6))\n",
        "row_indices = np.arange(2, 5)\n",
        "col_indices = np.arange(1, 4)\n",
        "subarray = array_2d[row_indices[:, np.newaxis], col_indices]\n",
        "print('Original 2D array:\\n', array_2d)\n",
        "print('Row indices:', row_indices)\n",
        "print('Column indices:', col_indices)\n",
        "print('Selected subarray:\\n', subarray)"
      ],
      "metadata": {
        "colab": {
          "base_uri": "https://localhost:8080/"
        },
        "id": "ozP20pj-kMmO",
        "outputId": "7daf067e-65be-449f-c32c-0f1ca750b3ea"
      },
      "execution_count": 11,
      "outputs": [
        {
          "output_type": "stream",
          "name": "stdout",
          "text": [
            "Original 2D array:\n",
            " [[ 7 10 61 73 65 17]\n",
            " [56 39 23 42  5 56]\n",
            " [47 32 91 73 15 90]\n",
            " [87 96 42 79 59  3]\n",
            " [96 28 55 48 94 95]\n",
            " [51  3 41  5 22  4]]\n",
            "Row indices: [2 3 4]\n",
            "Column indices: [1 2 3]\n",
            "Selected subarray:\n",
            " [[32 91 73]\n",
            " [96 42 79]\n",
            " [28 55 48]]\n"
          ]
        }
      ]
    },
    {
      "cell_type": "code",
      "source": [
        "import numpy as np\n",
        "original_1d_array = np.arange(20)\n",
        "print(\"Original 1D array:\\n\", original_1d_array)\n",
        "reshaped_matrix = original_1d_array.reshape(4, 5)\n",
        "print(\"\\nReshaped (4, 5) matrix:\\n\", reshaped_matrix)\n",
        "sub_matrix = reshaped_matrix[:2, :3]\n",
        "print(\"\\nSliced (2, 3) sub-matrix:\\n\", sub_matrix)\n",
        "print(\"\\nStrides of the sub-matrix:\\n\", sub_matrix.strides)"
      ],
      "metadata": {
        "colab": {
          "base_uri": "https://localhost:8080/"
        },
        "id": "W1wMgKNEkeKx",
        "outputId": "d9c87668-d5c0-42c2-ca8d-cb6c9083aa2e"
      },
      "execution_count": 12,
      "outputs": [
        {
          "output_type": "stream",
          "name": "stdout",
          "text": [
            "Original 1D array:\n",
            " [ 0  1  2  3  4  5  6  7  8  9 10 11 12 13 14 15 16 17 18 19]\n",
            "\n",
            "Reshaped (4, 5) matrix:\n",
            " [[ 0  1  2  3  4]\n",
            " [ 5  6  7  8  9]\n",
            " [10 11 12 13 14]\n",
            " [15 16 17 18 19]]\n",
            "\n",
            "Sliced (2, 3) sub-matrix:\n",
            " [[0 1 2]\n",
            " [5 6 7]]\n",
            "\n",
            "Strides of the sub-matrix:\n",
            " (40, 8)\n"
          ]
        }
      ]
    },
    {
      "cell_type": "code",
      "source": [
        "#fancy indexing\n",
        "import numpy as np\n",
        "array_3d = np.random.randint(0, 100, size=(3, 4, 5))\n",
        "row_indices = np.array([0, 1, 2])\n",
        "col_indices = np.array([1, 2, 3])\n",
        "selected_elements = array_3d[row_indices[:, np.newaxis], col_indices]\n",
        "print('Original 3D array:\\n', array_3d)\n",
        "print('Row indices:\\n', row_indices)\n",
        "print('Column indices:\\n', col_indices)\n",
        "print('Selected elements:\\n', selected_elements)"
      ],
      "metadata": {
        "colab": {
          "base_uri": "https://localhost:8080/"
        },
        "id": "u0f99JqLk2UO",
        "outputId": "9ba4d1fc-fe3b-4c20-a990-fd266cb86871"
      },
      "execution_count": 13,
      "outputs": [
        {
          "output_type": "stream",
          "name": "stdout",
          "text": [
            "Original 3D array:\n",
            " [[[48 52 64 83 55]\n",
            "  [96 57 83  9 62]\n",
            "  [63 28 70 67 51]\n",
            "  [15 74 76 26 28]]\n",
            "\n",
            " [[73 68 66 67 68]\n",
            "  [96 60 36  8 68]\n",
            "  [93 93 75 71 95]\n",
            "  [32 23 75 57 95]]\n",
            "\n",
            " [[52 60 42 92 20]\n",
            "  [11 95 14 22 55]\n",
            "  [ 8 34 49 45  4]\n",
            "  [93 34 71 94  0]]]\n",
            "Row indices:\n",
            " [0 1 2]\n",
            "Column indices:\n",
            " [1 2 3]\n",
            "Selected elements:\n",
            " [[[96 57 83  9 62]\n",
            "  [63 28 70 67 51]\n",
            "  [15 74 76 26 28]]\n",
            "\n",
            " [[96 60 36  8 68]\n",
            "  [93 93 75 71 95]\n",
            "  [32 23 75 57 95]]\n",
            "\n",
            " [[11 95 14 22 55]\n",
            "  [ 8 34 49 45  4]\n",
            "  [93 34 71 94  0]]]\n"
          ]
        }
      ]
    },
    {
      "cell_type": "code",
      "source": [
        "import numpy as np\n",
        "array = np.arange(30, 71, 2)\n",
        "print(\"Array of all the even integers from 30 to 70\")\n",
        "print(array)\n"
      ],
      "metadata": {
        "colab": {
          "base_uri": "https://localhost:8080/"
        },
        "id": "UCdUZTf_lQnJ",
        "outputId": "6a24ccb1-5442-42fa-ed34-2cab78e1f077"
      },
      "execution_count": 14,
      "outputs": [
        {
          "output_type": "stream",
          "name": "stdout",
          "text": [
            "Array of all the even integers from 30 to 70\n",
            "[30 32 34 36 38 40 42 44 46 48 50 52 54 56 58 60 62 64 66 68 70]\n"
          ]
        }
      ]
    },
    {
      "cell_type": "code",
      "source": [
        "import numpy as np\n",
        "arrays = [np.random.randn(2, 3) for _ in range(8)]\n",
        "result = np.stack(arrays, axis=0)\n",
        "print(result.shape)"
      ],
      "metadata": {
        "colab": {
          "base_uri": "https://localhost:8080/"
        },
        "id": "c85Nk7MGlYa5",
        "outputId": "87638512-2d48-44f3-d9fd-fe28c896d0b1"
      },
      "execution_count": 15,
      "outputs": [
        {
          "output_type": "stream",
          "name": "stdout",
          "text": [
            "(8, 2, 3)\n"
          ]
        }
      ]
    },
    {
      "cell_type": "code",
      "source": [
        "import numpy as np\n",
        "arrays = [np.random.randn(2, 3) for _ in range(8)]\n",
        "result_axis_1 = np.stack(arrays, axis=1)\n",
        "result_axis_2 = np.stack(arrays, axis=2)\n",
        "print(result_axis_1.shape)\n",
        "print(result_axis_2.shape)\n"
      ],
      "metadata": {
        "colab": {
          "base_uri": "https://localhost:8080/"
        },
        "id": "tcFnSoRBludc",
        "outputId": "e8f06006-7a7e-4426-ab33-d232872adf8c"
      },
      "execution_count": 16,
      "outputs": [
        {
          "output_type": "stream",
          "name": "stdout",
          "text": [
            "(2, 8, 3)\n",
            "(2, 3, 8)\n"
          ]
        }
      ]
    },
    {
      "cell_type": "code",
      "source": [
        "import numpy as np\n",
        "x = np.array([2, 3, 4])\n",
        "y = np.array([3, 4, 5])\n",
        "result_default = np.stack((x, y))\n",
        "result_axis_neg1 = np.stack((x, y), axis=-1)\n",
        "print(result_default)\n",
        "print(result_axis_neg1)"
      ],
      "metadata": {
        "colab": {
          "base_uri": "https://localhost:8080/"
        },
        "id": "r1mf9FGKl2iv",
        "outputId": "cc19d53c-2d24-4541-cacc-85fc0221e2c1"
      },
      "execution_count": 17,
      "outputs": [
        {
          "output_type": "stream",
          "name": "stdout",
          "text": [
            "[[2 3 4]\n",
            " [3 4 5]]\n",
            "[[2 3]\n",
            " [3 4]\n",
            " [4 5]]\n"
          ]
        }
      ]
    },
    {
      "cell_type": "code",
      "source": [
        "import numpy as np\n",
        "print(\"\\nOriginal arrays:\")\n",
        "x = np.arange(9).reshape(3, 3)\n",
        "y = x * 3\n",
        "print(\"Array-1\")\n",
        "print(x)\n",
        "print(\"Array-2\")\n",
        "print(y)\n",
        "new_array = np.hstack((x, y))\n",
        "print(\"\\nStack arrays in sequence horizontally:\")\n",
        "print(new_array)"
      ],
      "metadata": {
        "colab": {
          "base_uri": "https://localhost:8080/"
        },
        "id": "jnf1f6TnmKkr",
        "outputId": "513bb602-0448-4fb0-f1d4-35517fd59c6b"
      },
      "execution_count": 18,
      "outputs": [
        {
          "output_type": "stream",
          "name": "stdout",
          "text": [
            "\n",
            "Original arrays:\n",
            "Array-1\n",
            "[[0 1 2]\n",
            " [3 4 5]\n",
            " [6 7 8]]\n",
            "Array-2\n",
            "[[ 0  3  6]\n",
            " [ 9 12 15]\n",
            " [18 21 24]]\n",
            "\n",
            "Stack arrays in sequence horizontally:\n",
            "[[ 0  1  2  0  3  6]\n",
            " [ 3  4  5  9 12 15]\n",
            " [ 6  7  8 18 21 24]]\n"
          ]
        }
      ]
    },
    {
      "cell_type": "code",
      "source": [
        "#np.array\n",
        "#np.size\n",
        "#dtype\n",
        "#np.asarray()\n",
        "#np.ones\n",
        "#np.zeros\n",
        "#np.empty\n",
        "#np.arange()\n",
        "#np.linspace()\n",
        "#np.eye()"
      ],
      "metadata": {
        "id": "xt-ADMIicuBd"
      },
      "execution_count": null,
      "outputs": []
    },
    {
      "cell_type": "code",
      "source": [
        "import numpy as np\n",
        "a = np.arange(2, 8).reshape(3, 2)\n",
        "a\n",
        "a.flat[4]\n",
        "a.T\n",
        "a.T.flat[4]\n",
        "type(a.flat)"
      ],
      "metadata": {
        "colab": {
          "base_uri": "https://localhost:8080/"
        },
        "id": "mpsmHCHzmsaN",
        "outputId": "c65af9fb-2522-40e9-867e-4daa8f36b368"
      },
      "execution_count": 21,
      "outputs": [
        {
          "output_type": "execute_result",
          "data": {
            "text/plain": [
              "numpy.flatiter"
            ]
          },
          "metadata": {},
          "execution_count": 21
        }
      ]
    }
  ]
}