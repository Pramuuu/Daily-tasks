{
  "nbformat": 4,
  "nbformat_minor": 0,
  "metadata": {
    "colab": {
      "provenance": [],
      "authorship_tag": "ABX9TyPl9ZjUqQwmSQllaopN796T",
      "include_colab_link": true
    },
    "kernelspec": {
      "name": "python3",
      "display_name": "Python 3"
    },
    "language_info": {
      "name": "python"
    }
  },
  "cells": [
    {
      "cell_type": "markdown",
      "metadata": {
        "id": "view-in-github",
        "colab_type": "text"
      },
      "source": [
        "<a href=\"https://colab.research.google.com/github/Pramuuu/Daily-tasks/blob/main/06_06_2024_functions.ipynb\" target=\"_parent\"><img src=\"https://colab.research.google.com/assets/colab-badge.svg\" alt=\"Open In Colab\"/></a>"
      ]
    },
    {
      "cell_type": "code",
      "execution_count": null,
      "metadata": {
        "colab": {
          "base_uri": "https://localhost:8080/"
        },
        "id": "MK1Nad71VxaU",
        "outputId": "80dad2a5-bb71-4f8c-d694-d0e2cba5dc7b"
      },
      "outputs": [
        {
          "output_type": "stream",
          "name": "stdout",
          "text": [
            "What is your name? pramod\n",
            "How old are you? 19\n",
            "Where do you live? vizag\n",
            "Hi, I'm pramod. I am 19 years old and I live in vizag.\n"
          ]
        }
      ],
      "source": [
        "name = input(\"What is your name? \")\n",
        "age = input(\"How old are you? \")\n",
        "city = input(\"Where do you live? \")\n",
        "\n",
        "greeting = \"Hi, I'm {}. I am {} years old and I live in {}.\".format(name, age, city)\n",
        "print(greeting)\n"
      ]
    },
    {
      "cell_type": "code",
      "source": [
        "length = float(input(\"Enter the length of the rectangle: \"))\n",
        "width = float(input(\"Enter the width of the rectangle: \"))\n",
        "\n",
        "perimeter = 2 * (length + width)\n",
        "print(\"The perimeter of the rectangle is:\", perimeter)\n"
      ],
      "metadata": {
        "colab": {
          "base_uri": "https://localhost:8080/"
        },
        "id": "abxeqVCaV7Ca",
        "outputId": "f0783cda-a6e3-4263-a572-e40f63623f30"
      },
      "execution_count": null,
      "outputs": [
        {
          "output_type": "stream",
          "name": "stdout",
          "text": [
            "Enter the length of the rectangle: 5\n",
            "Enter the width of the rectangle: 7\n",
            "The perimeter of the rectangle is: 24.0\n"
          ]
        }
      ]
    },
    {
      "cell_type": "code",
      "source": [
        "nterms=int(input(\"how many terms\"))\n",
        "n1,n2 = 0,1\n",
        "count=0\n",
        "if nterms<=0:\n",
        "  print(\"enter a positive integer\")\n",
        "elif nterms==1:\n",
        "  print(\"fibonacci sequence upto\", nterms,\":\")\n",
        "  print(n1)\n",
        "else:\n",
        "  print(\"fibonacci sequence:\")\n",
        "  while count<nterms:\n",
        "    nth = n1+n2\n",
        "    n1=n2\n",
        "    n2=nth\n",
        "    count+=1\n",
        "    print(nth)"
      ],
      "metadata": {
        "id": "N15eSRVpd9Gv",
        "colab": {
          "base_uri": "https://localhost:8080/"
        },
        "outputId": "151a94b7-ce19-4e3c-c434-18363b27f2e9"
      },
      "execution_count": null,
      "outputs": [
        {
          "output_type": "stream",
          "name": "stdout",
          "text": [
            "how many terms4\n",
            "fibonacci sequence:\n",
            "1\n",
            "2\n",
            "3\n",
            "5\n"
          ]
        }
      ]
    },
    {
      "cell_type": "code",
      "source": [
        "num = int(input(\"enter a number\"))\n",
        "num_str = str(num)\n",
        "num_digits = len(num_str)\n",
        "sum_of_powers = 0\n",
        "temp_num = num\n",
        "while temp_num>0:\n",
        "  digit = temp_num % 10\n",
        "  sum_of_powers += digit ** num_digits\n",
        "  temp_num//=10\n",
        "if sum_of_powers ==num:\n",
        "  print(f\"{num} ia an armstrong number\")\n",
        "else:\n",
        "  print(f\"{num} is not an armstrong number\")"
      ],
      "metadata": {
        "colab": {
          "base_uri": "https://localhost:8080/"
        },
        "id": "wvA_AqPt-fw8",
        "outputId": "464a942a-24d7-4b80-91f9-a7b9263f029e"
      },
      "execution_count": null,
      "outputs": [
        {
          "output_type": "stream",
          "name": "stdout",
          "text": [
            "enter a number2\n",
            "2 ia an armstrong number\n"
          ]
        }
      ]
    },
    {
      "cell_type": "code",
      "source": [
        "lower=int(input(\"enter the lower limit of the interval: \"))\n",
        "upper = int(input(\"upper limit:\"))\n",
        "for num in range(lower,upper+1):\n",
        "  order = len(str(num))\n",
        "  sum=0\n",
        "  while temp_num >0:\n",
        "    digit = temp_num % 10\n",
        "    sum+=digit**order\n",
        "    temp_num//=10\n",
        "  if num==sum:\n",
        "    print(num)"
      ],
      "metadata": {
        "colab": {
          "base_uri": "https://localhost:8080/"
        },
        "id": "iet_B7fS_vnj",
        "outputId": "bc3b4f20-39c1-4751-c95a-2bf2478155a4"
      },
      "execution_count": null,
      "outputs": [
        {
          "name": "stdout",
          "output_type": "stream",
          "text": [
            "enter the lower limit of the interval: 2\n",
            "upper limit:4\n"
          ]
        }
      ]
    },
    {
      "cell_type": "code",
      "source": [
        " #Python function to find the maximum of two and three numbers.\n",
        " def max_of_two(x,y):\n",
        "  if x>y:\n",
        "    return x\n",
        "  return y\n",
        "def max_of_three(x,y,z):\n",
        "  return max_of_two(max_of_two(x,y),z)\n",
        "print(max_of_three(3,6,2))"
      ],
      "metadata": {
        "id": "uFo3ep9j0TiV",
        "colab": {
          "base_uri": "https://localhost:8080/"
        },
        "outputId": "c1a4ce7d-eaf6-4f6c-dd09-d208effcb64f"
      },
      "execution_count": 2,
      "outputs": [
        {
          "output_type": "stream",
          "name": "stdout",
          "text": [
            "6\n"
          ]
        }
      ]
    },
    {
      "cell_type": "code",
      "source": [
        "#Python program that invokes a function after a specified period of time\n",
        "from time import sleep\n",
        "import math\n",
        "def delay(fn,ms,*args):\n",
        "  sleep(ms/1000)\n",
        "  return fn(*args)\n",
        "print(\"square root after specific milliseconds: \")\n",
        "print(delay(lambda x: math.sqrt(x), 100, 16))\n",
        "print(delay(lambda x: math.sqrt(x), 1000,100))\n",
        "print(delay(lambda x: math.sqrt(x), 2000,25100))"
      ],
      "metadata": {
        "colab": {
          "base_uri": "https://localhost:8080/"
        },
        "id": "37hark65j6Pt",
        "outputId": "271c3612-4dec-496b-8df5-c637086c5837"
      },
      "execution_count": 3,
      "outputs": [
        {
          "output_type": "stream",
          "name": "stdout",
          "text": [
            "square root after specific milliseconds: \n",
            "4.0\n",
            "10.0\n",
            "158.42979517754858\n"
          ]
        }
      ]
    },
    {
      "cell_type": "code",
      "source": [
        "# Python program to detect the number of local variables declared in a function.\n",
        "def abc():\n",
        "  x=1\n",
        "  y=2\n",
        "  str1=\"pramod\"\n",
        "  print(\"python functions\")\n",
        "print(abc.__code__.co_nlocals)"
      ],
      "metadata": {
        "colab": {
          "base_uri": "https://localhost:8080/"
        },
        "id": "sZHme_MNkwtW",
        "outputId": "035a672a-1e57-4b10-97ff-ac757fd9aedf"
      },
      "execution_count": 4,
      "outputs": [
        {
          "output_type": "stream",
          "name": "stdout",
          "text": [
            "3\n"
          ]
        }
      ]
    },
    {
      "cell_type": "code",
      "source": [
        "# Python program to access a function inside a function.\n",
        "def test(a):\n",
        "  def add(b):\n",
        "    nonlocal a\n",
        "    a+=1\n",
        "    return a+b\n",
        "  return add\n",
        "func = test(4)\n",
        "print(func(4))"
      ],
      "metadata": {
        "colab": {
          "base_uri": "https://localhost:8080/"
        },
        "id": "4QozwAEYlQd9",
        "outputId": "291055ca-c36e-4a1d-8817-e093a73e8169"
      },
      "execution_count": 5,
      "outputs": [
        {
          "output_type": "stream",
          "name": "stdout",
          "text": [
            "9\n"
          ]
        }
      ]
    },
    {
      "cell_type": "code",
      "source": [
        " #Python program to execute a string containing  Python code.\n",
        "mycode = 'print(\"hello world\")'\n",
        "code='''\n",
        "def multiply(x,y):\n",
        "    return x*y\n",
        "print('multiply of 2 and 3 is: ',multiply(2,3))'''\n",
        "exec(mycode)\n",
        "exec(code)"
      ],
      "metadata": {
        "colab": {
          "base_uri": "https://localhost:8080/"
        },
        "id": "gOr8-QXrlq1O",
        "outputId": "add78f84-3675-4779-cff1-fe84487a4eec"
      },
      "execution_count": 10,
      "outputs": [
        {
          "output_type": "stream",
          "name": "stdout",
          "text": [
            "hello world\n",
            "multiply of 2 and 3 is:  6\n"
          ]
        }
      ]
    },
    {
      "cell_type": "code",
      "source": [
        "# Python program that accepts a hyphen-separated sequence of words as input and prints the words in a hyphen-separated sequence after sorting them alphabetically.\n",
        "items= [n for n in input().split('-')]\n",
        "items.sort()\n",
        "print('-'.join(items))"
      ],
      "metadata": {
        "colab": {
          "base_uri": "https://localhost:8080/"
        },
        "id": "aeQzOugemjXj",
        "outputId": "123dd8fa-be4d-44c9-ffd2-5b5b80916bda"
      },
      "execution_count": 11,
      "outputs": [
        {
          "output_type": "stream",
          "name": "stdout",
          "text": [
            "red-white-violet-blue\n",
            "blue-red-violet-white\n"
          ]
        }
      ]
    },
    {
      "cell_type": "code",
      "source": [
        "# Python function to check whether a string is a pangram or not\n",
        "import string\n",
        "import sys\n",
        "def ispangram(str1, alphabet=string.ascii_lowercase):\n",
        "  alphaset=set(alphabet)\n",
        "  str_set = set(str1.lower())\n",
        "  return alphaset<=str_set\n",
        "print(ispangram(\"The quick brown fox jumps over the lazy dog\"))"
      ],
      "metadata": {
        "colab": {
          "base_uri": "https://localhost:8080/"
        },
        "id": "dTazfiwAm9pX",
        "outputId": "ce8ca74e-71be-4be9-8fa8-94d52a5e4930"
      },
      "execution_count": 13,
      "outputs": [
        {
          "output_type": "stream",
          "name": "stdout",
          "text": [
            "True\n"
          ]
        }
      ]
    },
    {
      "cell_type": "code",
      "source": [
        "# Python function that checks whether a passed string is a palindrome or not.\n",
        "def isplaindrome(string):\n",
        "  left_pos=0\n",
        "  right_pos=len(string)-1\n",
        "  while right_pos>=left_pos:\n",
        "    if not string[left_pos]==string[right_pos]:\n",
        "      return False\n",
        "    left_pos+=1\n",
        "    right_pos-=1\n",
        "  return True\n",
        "print(isplaindrome('arraya'))"
      ],
      "metadata": {
        "colab": {
          "base_uri": "https://localhost:8080/"
        },
        "id": "jXOggsjhn6Rb",
        "outputId": "2ace931c-d7ec-4056-c43b-7cbe501b9078"
      },
      "execution_count": 15,
      "outputs": [
        {
          "output_type": "stream",
          "name": "stdout",
          "text": [
            "False\n"
          ]
        }
      ]
    },
    {
      "cell_type": "code",
      "source": [
        "#Python function that takes a number as a parameter and checks whether the number is prime or not.\n",
        "def test_prime(n):\n",
        "  if(n==1):\n",
        "    return False\n",
        "  elif (n==2):\n",
        "    return  True\n",
        "  else:\n",
        "    for x in range(2,n):\n",
        "      if(n%x==0):\n",
        "        return False\n",
        "    return True\n",
        "print(test_prime(5))"
      ],
      "metadata": {
        "colab": {
          "base_uri": "https://localhost:8080/"
        },
        "id": "jnZiYkEroUZi",
        "outputId": "f4892621-6014-4526-8990-49bc57dde223"
      },
      "execution_count": 17,
      "outputs": [
        {
          "output_type": "stream",
          "name": "stdout",
          "text": [
            "True\n"
          ]
        }
      ]
    },
    {
      "cell_type": "code",
      "source": [
        "#Python program to print the even numbers from a given list.\n",
        "def is_even_num(l):\n",
        "  enum=[]\n",
        "  for n in l:\n",
        "    if n%2==0:\n",
        "      enum.append(n)\n",
        "  return enum\n",
        "print(is_even_num([1,2,3,4,5,6,7,8,9]))"
      ],
      "metadata": {
        "colab": {
          "base_uri": "https://localhost:8080/"
        },
        "id": "8br1WSF0o0xv",
        "outputId": "4e567b0e-a4f1-4f33-d644-b9af3eb0b666"
      },
      "execution_count": 18,
      "outputs": [
        {
          "output_type": "stream",
          "name": "stdout",
          "text": [
            "[2, 4, 6, 8]\n"
          ]
        }
      ]
    },
    {
      "cell_type": "code",
      "source": [
        "# Python program to reverse a string.\n",
        "def reverse(str):\n",
        "  str1=\"\"\n",
        "  for i in str[::-1]:\n",
        "    str1+=i\n",
        "  return str1\n",
        "print(reverse(\"pramod\"))"
      ],
      "metadata": {
        "colab": {
          "base_uri": "https://localhost:8080/"
        },
        "id": "aSgEowpgpNIe",
        "outputId": "fa9543a9-6e54-493c-be7e-eb3ffb2546e7"
      },
      "execution_count": 19,
      "outputs": [
        {
          "output_type": "stream",
          "name": "stdout",
          "text": [
            "domarp\n"
          ]
        }
      ]
    },
    {
      "cell_type": "code",
      "source": [
        "#Python program to reverse a string.\n",
        "def string_reverse(str1):\n",
        "  rstr1=''\n",
        "  index = len(str1)\n",
        "  while index>0:\n",
        "    rstr1+=str1[index-1]\n",
        "    index=index-1\n",
        "  return rstr1\n",
        "print(string_reverse('123abcde'))"
      ],
      "metadata": {
        "colab": {
          "base_uri": "https://localhost:8080/"
        },
        "id": "vsKO5hBRpezC",
        "outputId": "1848e080-1a73-4753-9fa1-a4d573fab636"
      },
      "execution_count": 20,
      "outputs": [
        {
          "output_type": "stream",
          "name": "stdout",
          "text": [
            "edcba321\n"
          ]
        }
      ]
    }
  ]
}