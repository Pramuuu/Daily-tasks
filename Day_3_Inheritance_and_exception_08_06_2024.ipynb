{
  "nbformat": 4,
  "nbformat_minor": 0,
  "metadata": {
    "colab": {
      "provenance": [],
      "authorship_tag": "ABX9TyP37RMpwBlJzdrdE2lDVbao",
      "include_colab_link": true
    },
    "kernelspec": {
      "name": "python3",
      "display_name": "Python 3"
    },
    "language_info": {
      "name": "python"
    }
  },
  "cells": [
    {
      "cell_type": "markdown",
      "metadata": {
        "id": "view-in-github",
        "colab_type": "text"
      },
      "source": [
        "<a href=\"https://colab.research.google.com/github/Pramuuu/Daily-tasks/blob/main/Day_3_Inheritance_and_exception_08_06_2024.ipynb\" target=\"_parent\"><img src=\"https://colab.research.google.com/assets/colab-badge.svg\" alt=\"Open In Colab\"/></a>"
      ]
    },
    {
      "cell_type": "code",
      "source": [
        "#basic inheritance\n",
        "class Animal:\n",
        "  def __init__(self,name):\n",
        "    self.name = name\n",
        "  def spaeak(self):\n",
        "    return \"unknown\"\n",
        "class Lion(Animal):\n",
        "  def speak(self):\n",
        "    return \"Roar\"\n",
        "class Tiger(Animal):\n",
        "  def speak(self):\n",
        "    return \"growl\"\n",
        "lion_instance = Lion(\"king\")\n",
        "tiger_instance = Tiger(\"Tony\")\n",
        "print(lion_instance.speak())\n",
        "print(tiger_instance.speak())"
      ],
      "metadata": {
        "id": "JVipYN1D2NPu",
        "colab": {
          "base_uri": "https://localhost:8080/"
        },
        "outputId": "66aa5236-fbcb-460d-9532-1831c817efbf"
      },
      "execution_count": 2,
      "outputs": [
        {
          "output_type": "stream",
          "name": "stdout",
          "text": [
            "Roar\n",
            "growl\n"
          ]
        }
      ]
    },
    {
      "cell_type": "code",
      "source": [
        "#MRO\n",
        "class A:\n",
        "  def myname(self):\n",
        "    print(\"this is A\")\n",
        "class B(A):\n",
        "  def myname(self):\n",
        "    print(\"this is B\")\n",
        "class C(A):\n",
        "  def myname(self):\n",
        "    print(\"this is C\")\n",
        "class D(B,C):\n",
        "  pass\n",
        "d=D()\n",
        "d.myname()"
      ],
      "metadata": {
        "colab": {
          "base_uri": "https://localhost:8080/"
        },
        "id": "kMqe979pEg37",
        "outputId": "591005d9-ad32-40cb-a151-b8816ff03491"
      },
      "execution_count": 3,
      "outputs": [
        {
          "output_type": "stream",
          "name": "stdout",
          "text": [
            "this is B\n"
          ]
        }
      ]
    },
    {
      "cell_type": "code",
      "source": [
        "#Multiple Inheritance\n",
        "class Mammal:\n",
        "  def mammal_info(self):\n",
        "    print(\"Mammals gives birth\")\n",
        "class WingedAnimal:\n",
        "  def winged_animal_info(self):\n",
        "    print(\"wnged animals can flap\")\n",
        "class Bat(Mammal, WingedAnimal):\n",
        "  pass\n",
        "b1=Bat()\n",
        "b1.mammal_info()\n",
        "b1.winged_animal_info\n"
      ],
      "metadata": {
        "colab": {
          "base_uri": "https://localhost:8080/",
          "height": 120
        },
        "id": "Nj7nDDAwGNND",
        "outputId": "504c0c39-22d7-4401-aba2-c6fc0b55ecab"
      },
      "execution_count": 5,
      "outputs": [
        {
          "output_type": "stream",
          "name": "stdout",
          "text": [
            "Mammals gives birth\n"
          ]
        },
        {
          "output_type": "execute_result",
          "data": {
            "text/plain": [
              "<bound method WingedAnimal.winged_animal_info of <__main__.Bat object at 0x78b5dc6d9810>>"
            ],
            "text/html": [
              "<div style=\"max-width:800px; border: 1px solid var(--colab-border-color);\"><style>\n",
              "      pre.function-repr-contents {\n",
              "        overflow-x: auto;\n",
              "        padding: 8px 12px;\n",
              "        max-height: 500px;\n",
              "      }\n",
              "\n",
              "      pre.function-repr-contents.function-repr-contents-collapsed {\n",
              "        cursor: pointer;\n",
              "        max-height: 100px;\n",
              "      }\n",
              "    </style>\n",
              "    <pre style=\"white-space: initial; background:\n",
              "         var(--colab-secondary-surface-color); padding: 8px 12px;\n",
              "         border-bottom: 1px solid var(--colab-border-color);\"><b>WingedAnimal.winged_animal_info</b><br/>def winged_animal_info()</pre><pre class=\"function-repr-contents function-repr-contents-collapsed\" style=\"\"><a class=\"filepath\" style=\"display:none\" href=\"#\">/content/&lt;ipython-input-5-41470bcd6e03&gt;</a>&lt;no docstring&gt;</pre></div>"
            ]
          },
          "metadata": {},
          "execution_count": 5
        }
      ]
    },
    {
      "cell_type": "code",
      "source": [
        "#Multilevel Inheritance\n",
        "class SuperClass:\n",
        "  def super_method(self):\n",
        "    print(\"super class methos id called\")\n",
        "class Derivedclass1(SuperClass):\n",
        "  def derived1_method(self):\n",
        "    print(\"derived class 1 method called\")\n",
        "class DerivedClass2(Derivedclass1):\n",
        "  def derived2_method(self):\n",
        "    print(\"derived class 2 method called\")\n",
        "d=DerivedClass2()\n",
        "d.super_method()\n",
        "d.derived1_method()\n",
        "d.derived2_method"
      ],
      "metadata": {
        "colab": {
          "base_uri": "https://localhost:8080/",
          "height": 138
        },
        "id": "Klo45kMSLzf1",
        "outputId": "4df3db98-c9be-4106-9c97-7c15466677d7"
      },
      "execution_count": 7,
      "outputs": [
        {
          "output_type": "stream",
          "name": "stdout",
          "text": [
            "super class methos id called\n",
            "derived class 1 method called\n"
          ]
        },
        {
          "output_type": "execute_result",
          "data": {
            "text/plain": [
              "<bound method DerivedClass2.derived2_method of <__main__.DerivedClass2 object at 0x78b5dc6d9ff0>>"
            ],
            "text/html": [
              "<div style=\"max-width:800px; border: 1px solid var(--colab-border-color);\"><style>\n",
              "      pre.function-repr-contents {\n",
              "        overflow-x: auto;\n",
              "        padding: 8px 12px;\n",
              "        max-height: 500px;\n",
              "      }\n",
              "\n",
              "      pre.function-repr-contents.function-repr-contents-collapsed {\n",
              "        cursor: pointer;\n",
              "        max-height: 100px;\n",
              "      }\n",
              "    </style>\n",
              "    <pre style=\"white-space: initial; background:\n",
              "         var(--colab-secondary-surface-color); padding: 8px 12px;\n",
              "         border-bottom: 1px solid var(--colab-border-color);\"><b>DerivedClass2.derived2_method</b><br/>def derived2_method()</pre><pre class=\"function-repr-contents function-repr-contents-collapsed\" style=\"\"><a class=\"filepath\" style=\"display:none\" href=\"#\">/content/&lt;ipython-input-7-9216f7564cd5&gt;</a>&lt;no docstring&gt;</pre></div>"
            ]
          },
          "metadata": {},
          "execution_count": 7
        }
      ]
    },
    {
      "cell_type": "code",
      "source": [
        "class Shape:\n",
        "    def __init__(self, color):\n",
        "        self.color = color\n",
        "    def area(self):\n",
        "        pass\n",
        "class Circle(Shape):\n",
        "    def __init__(self, color, radius):\n",
        "        super().__init__(color)\n",
        "        self.radius = radius\n",
        "    def area(self):\n",
        "        return 3.14 * self.radius**2\n",
        "class Rectangle(Shape):\n",
        "    def __init__(self, color, side_length, side_breadth):\n",
        "        super().__init__(color)\n",
        "        self.side_length = side_length\n",
        "        self.side_breadth = side_breadth\n",
        "    def area(self):\n",
        "        return self.side_length * self.side_breadth\n",
        "circle = Circle(\"violet\", 5)\n",
        "rectangle = Rectangle(\"Indigo\", 4, 8)\n",
        "print(circle.area())\n",
        "print(rectangle.area())"
      ],
      "metadata": {
        "colab": {
          "base_uri": "https://localhost:8080/"
        },
        "id": "NPay5NItM1Jj",
        "outputId": "6b0ca5d7-2dcb-476e-8111-aae84c4bf927"
      },
      "execution_count": 10,
      "outputs": [
        {
          "output_type": "stream",
          "name": "stdout",
          "text": [
            "78.5\n",
            "32\n"
          ]
        }
      ]
    },
    {
      "cell_type": "code",
      "source": [
        "#Hybrid Inheritance\n",
        "class Vehicle:\n",
        "    def move(self):\n",
        "        print(\"vechiles moves\")\n",
        "class Car(Vehicle):\n",
        "    def drive(self):\n",
        "        print(\"Cars always drives\")\n",
        "class Boat(Vehicle):\n",
        "    def sail(self):\n",
        "        print(\"Boat always sails\")\n",
        "class AmphibiousVehicle(Car, Boat):\n",
        "    def amphibious_action(self):\n",
        "        print(\"Amphibious vehicle can both drive and sail\")\n",
        "amphibious_vehicle = AmphibiousVehicle()\n",
        "amphibious_vehicle.move()\n",
        "amphibious_vehicle.drive()\n",
        "amphibious_vehicle.sail()\n",
        "amphibious_vehicle.amphibious_action()"
      ],
      "metadata": {
        "colab": {
          "base_uri": "https://localhost:8080/"
        },
        "id": "Y7jLBmacOS0Q",
        "outputId": "56610a5f-50cd-42a2-fc43-d061fc84227e"
      },
      "execution_count": 11,
      "outputs": [
        {
          "output_type": "stream",
          "name": "stdout",
          "text": [
            "vechiles moves\n",
            "Cars always drives\n",
            "Boat always sails\n",
            "Amphibious vehicle can both drive and sail\n"
          ]
        }
      ]
    },
    {
      "cell_type": "code",
      "source": [
        "#Method overriding\n",
        "class Shape:\n",
        "    def area(self):\n",
        "        return 0\n",
        "    def perimeter(self):\n",
        "        return 0;\n",
        "class Circle(Shape):\n",
        "    def __init__(self, radius):\n",
        "        self.radius = radius\n",
        "    def area(self):\n",
        "        return 3.14 * self.radius ** 2\n",
        "    def perimeter(self):\n",
        "        return 2*3.14*self.radius\n",
        "class Rectangle(Shape):\n",
        "    def __init__(self, width, height):\n",
        "        self.width = width\n",
        "        self.height = height\n",
        "    def area(self):\n",
        "        return self.width * self.height\n",
        "    def perimeter(self):\n",
        "        return 2*(self.width + self.height)\n",
        "circle = Circle(10)\n",
        "rectangle = Rectangle(78, 4)\n",
        "print(\"Circle area:\", circle.area())\n",
        "print(\"Circle perimeter:\", circle.perimeter())\n",
        "print(\"Rectangle area:\", rectangle.area())\n",
        "print(\"Rectangle perimeter:\", rectangle.perimeter())\n"
      ],
      "metadata": {
        "colab": {
          "base_uri": "https://localhost:8080/"
        },
        "id": "mDAuK3hFO6gE",
        "outputId": "f1d0ec9e-d956-42f6-d998-aea726e04721"
      },
      "execution_count": 13,
      "outputs": [
        {
          "output_type": "stream",
          "name": "stdout",
          "text": [
            "Circle area: 314.0\n",
            "Circle perimeter: 62.800000000000004\n",
            "Rectangle area: 312\n",
            "Rectangle perimeter: 164\n"
          ]
        }
      ]
    },
    {
      "cell_type": "code",
      "source": [
        "#Super() Method\n",
        "class Animal:\n",
        "    def __init__(self, name, species):\n",
        "        self.name = name\n",
        "        self.species = species\n",
        "    def make_sound(self):\n",
        "        return \"Unknown\"\n",
        "class Lion(Animal):\n",
        "    def __init__(self, name, breed):\n",
        "        super().__init__(name, species=\"Lion\")\n",
        "        self.breed = breed\n",
        "    def make_sound(self):\n",
        "        return \"Roar!\"\n",
        "animal_instance = Animal(\"Generic\", \"Panthera leo\")\n",
        "lion_instance = Lion(\"King\", \"Congo Lion\")\n",
        "print(animal_instance.make_sound())\n",
        "print(lion_instance.make_sound())\n",
        "print(lion_instance.name)\n",
        "print(lion_instance.species)\n",
        "print(lion_instance.breed)\n"
      ],
      "metadata": {
        "colab": {
          "base_uri": "https://localhost:8080/"
        },
        "id": "DEI3MfuAPaEm",
        "outputId": "4851e9ab-1d6d-4eac-94a6-5f95b8720c2d"
      },
      "execution_count": 15,
      "outputs": [
        {
          "output_type": "stream",
          "name": "stdout",
          "text": [
            "Unknown\n",
            "Roar!\n",
            "King\n",
            "Lion\n",
            "Congo Lion\n"
          ]
        }
      ]
    },
    {
      "cell_type": "code",
      "source": [
        "MARKUP = 1.23\n",
        "class Product:\n",
        "    def __init__(self, name, cost_price):\n",
        "        self.name = name\n",
        "        self.cost_price = cost_price\n",
        "        self.selling_price = cost_price * MARKUP\n",
        "class Perishable(Product):\n",
        "    def __init__(self, name, cost_price, shelf_life):\n",
        "        super().__init__(name, cost_price)\n",
        "        self.shelf_life = shelf_life\n"
      ],
      "metadata": {
        "id": "HszdeKw2QmXI"
      },
      "execution_count": 17,
      "outputs": []
    },
    {
      "cell_type": "code",
      "source": [
        "#Super() with __str__ method\n",
        "class MyClass:\n",
        "    x = 0\n",
        "    y = \"\"\n",
        "    def __init__(self, Number, String):\n",
        "        self.x = Number\n",
        "        self.y = String\n",
        "    def __str__ (self):\n",
        "        return 'MyClass(x=' + str(self.x) + ' ,y=' + self.y + ')'\n",
        "myObject = MyClass(123456789, \"Hello WORLD\")\n",
        "print(myObject.__str__())\n",
        "print(myObject)\n",
        "print(str(myObject))\n",
        "print(myObject.__repr__())"
      ],
      "metadata": {
        "colab": {
          "base_uri": "https://localhost:8080/"
        },
        "id": "y_Z4sBl2R6tc",
        "outputId": "9944b125-17dd-42d4-892d-9112020643ef"
      },
      "execution_count": 19,
      "outputs": [
        {
          "output_type": "stream",
          "name": "stdout",
          "text": [
            "MyClass(x=123456789 ,y=Hello WORLD)\n",
            "MyClass(x=123456789 ,y=Hello WORLD)\n",
            "MyClass(x=123456789 ,y=Hello WORLD)\n",
            "<__main__.MyClass object at 0x78b5dc6db520>\n"
          ]
        }
      ]
    },
    {
      "cell_type": "code",
      "source": [],
      "metadata": {
        "id": "-UK1DdNTSQKl"
      },
      "execution_count": null,
      "outputs": []
    },
    {
      "cell_type": "code",
      "source": [
        "try:\n",
        "  x = int(input(\"number: \"))\n",
        "  y = int(input(\"another number: \"))\n",
        "  print(x/y)\n",
        "except ValueError:\n",
        "  print(\"only numbers\")\n",
        "except ZeroDivisionError:\n",
        "  print(\"Cannot be divided by zero\")\n",
        "except:\n",
        "  print(\"Unknown error\")"
      ],
      "metadata": {
        "colab": {
          "base_uri": "https://localhost:8080/"
        },
        "id": "NoYCLruVUDd1",
        "outputId": "afc32efd-a3bd-4dbb-9030-88d8d64eb413"
      },
      "execution_count": 21,
      "outputs": [
        {
          "output_type": "stream",
          "name": "stdout",
          "text": [
            "number: 1\n",
            "another number: 0\n",
            "Cannot be divided by zero\n"
          ]
        }
      ]
    },
    {
      "cell_type": "code",
      "source": [
        "try:\n",
        "  n = int(input(\"number: \"))\n",
        "  result = 10 / n\n",
        "except ValueError:\n",
        "  print(\"Invalid. enter a valid number.\")\n",
        "except ZeroDivisionError:\n",
        "  print(\"dividing with zero not allowed\")\n",
        "else:\n",
        "  print(f\"Result: {result}\")"
      ],
      "metadata": {
        "colab": {
          "base_uri": "https://localhost:8080/"
        },
        "id": "0wiRnvw_UVOX",
        "outputId": "0cc8d118-e68d-4ce3-f9ca-bee1053d3c5f"
      },
      "execution_count": 23,
      "outputs": [
        {
          "output_type": "stream",
          "name": "stdout",
          "text": [
            "number: 0\n",
            "dividing with zero not allowed\n"
          ]
        }
      ]
    },
    {
      "cell_type": "code",
      "source": [
        "try:\n",
        "    file = open(\"Day 3 Inheritance and exception 08/06/2024.ipynb.txt\", \"r\")\n",
        "    content = file.read()\n",
        "    print(content)\n",
        "except FileNotFoundError:\n",
        "    print(\"File not found.\")\n",
        "finally:\n",
        "    if file:\n",
        "        file.close()"
      ],
      "metadata": {
        "colab": {
          "base_uri": "https://localhost:8080/",
          "height": 211
        },
        "id": "pLEBM5x2U-Q9",
        "outputId": "04dd1140-2285-40c4-e5f2-30132a4b439f"
      },
      "execution_count": 25,
      "outputs": [
        {
          "output_type": "stream",
          "name": "stdout",
          "text": [
            "File not found.\n"
          ]
        },
        {
          "output_type": "error",
          "ename": "NameError",
          "evalue": "name 'file' is not defined",
          "traceback": [
            "\u001b[0;31m---------------------------------------------------------------------------\u001b[0m",
            "\u001b[0;31mNameError\u001b[0m                                 Traceback (most recent call last)",
            "\u001b[0;32m<ipython-input-25-40efb9e0a8c2>\u001b[0m in \u001b[0;36m<cell line: 1>\u001b[0;34m()\u001b[0m\n\u001b[1;32m      6\u001b[0m     \u001b[0mprint\u001b[0m\u001b[0;34m(\u001b[0m\u001b[0;34m\"File not found.\"\u001b[0m\u001b[0;34m)\u001b[0m\u001b[0;34m\u001b[0m\u001b[0;34m\u001b[0m\u001b[0m\n\u001b[1;32m      7\u001b[0m \u001b[0;32mfinally\u001b[0m\u001b[0;34m:\u001b[0m\u001b[0;34m\u001b[0m\u001b[0;34m\u001b[0m\u001b[0m\n\u001b[0;32m----> 8\u001b[0;31m     \u001b[0;32mif\u001b[0m \u001b[0mfile\u001b[0m\u001b[0;34m:\u001b[0m\u001b[0;34m\u001b[0m\u001b[0;34m\u001b[0m\u001b[0m\n\u001b[0m\u001b[1;32m      9\u001b[0m         \u001b[0mfile\u001b[0m\u001b[0;34m.\u001b[0m\u001b[0mclose\u001b[0m\u001b[0;34m(\u001b[0m\u001b[0;34m)\u001b[0m\u001b[0;34m\u001b[0m\u001b[0;34m\u001b[0m\u001b[0m\n",
            "\u001b[0;31mNameError\u001b[0m: name 'file' is not defined"
          ]
        }
      ]
    },
    {
      "cell_type": "code",
      "source": [],
      "metadata": {
        "id": "UMAI2KZPXUTa"
      },
      "execution_count": null,
      "outputs": []
    }
  ]
}