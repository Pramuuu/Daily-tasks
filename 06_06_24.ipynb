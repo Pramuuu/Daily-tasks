{
  "nbformat": 4,
  "nbformat_minor": 0,
  "metadata": {
    "colab": {
      "provenance": []
    },
    "kernelspec": {
      "name": "python3",
      "display_name": "Python 3"
    },
    "language_info": {
      "name": "python"
    }
  },
  "cells": [
    {
      "cell_type": "code",
      "source": [
        "name= input(\"enter your name: \")\n",
        "print(\"Hello\",name)\n",
        "print(\"Hello\",\"world\",sep=\",\",end = \"!\\n\")"
      ],
      "metadata": {
        "colab": {
          "base_uri": "https://localhost:8080/"
        },
        "id": "uo9EjRfEFn40",
        "outputId": "75e78034-25ae-43cf-fadc-20b5271fb510"
      },
      "execution_count": null,
      "outputs": [
        {
          "output_type": "stream",
          "name": "stdout",
          "text": [
            "enter your name: pramod\n",
            "Hello pramod\n",
            "Hello,world!\n"
          ]
        }
      ]
    },
    {
      "cell_type": "code",
      "source": [
        "name= input(\"enter your name: \")\n",
        "print(\"Hello\",name)\n",
        "print(\"Hello\",\"world\",end=\"!\\n\")"
      ],
      "metadata": {
        "colab": {
          "base_uri": "https://localhost:8080/"
        },
        "id": "UnT1llnSJMM6",
        "outputId": "6296dfec-fac1-4271-fd1c-7539163fe5cd"
      },
      "execution_count": null,
      "outputs": [
        {
          "output_type": "stream",
          "name": "stdout",
          "text": [
            "enter your name: pramod\n",
            "Hello pramod\n",
            "Hello world!\n"
          ]
        }
      ]
    },
    {
      "cell_type": "code",
      "source": [
        "#function to find max of three numbers\n",
        "def max_of_three(a,b,c):\n",
        "    if a>b and a>c:\n",
        "        return a\n",
        "    elif b>a and b>c:\n",
        "        return b\n",
        "    else:\n",
        "        return c\n",
        "print(max_of_three(5,6,3))"
      ],
      "metadata": {
        "colab": {
          "base_uri": "https://localhost:8080/"
        },
        "id": "U3KrH6a63Yee",
        "outputId": "9b6bea1d-3945-4070-f0c7-85b1367d017d"
      },
      "execution_count": null,
      "outputs": [
        {
          "output_type": "stream",
          "name": "stdout",
          "text": [
            "6\n"
          ]
        }
      ]
    },
    {
      "cell_type": "code",
      "source": [
        "#default argument\n",
        "def greeting(name=\"pramod\"):\n",
        "  print(\"hello\",name + \"!\")\n",
        "greeting()"
      ],
      "metadata": {
        "colab": {
          "base_uri": "https://localhost:8080/"
        },
        "id": "p7sd4Xso4sKE",
        "outputId": "2417ff2f-d8f5-44b7-9184-2e3467786e11"
      },
      "execution_count": null,
      "outputs": [
        {
          "output_type": "stream",
          "name": "stdout",
          "text": [
            "hello pramod!\n"
          ]
        }
      ]
    },
    {
      "cell_type": "code",
      "source": [
        "#variable arguments\n",
        "def num_sum(*nums):\n",
        "  return sum(nums)\n",
        "print(num_sum(2,-4,-8,9,12))"
      ],
      "metadata": {
        "colab": {
          "base_uri": "https://localhost:8080/"
        },
        "id": "9dg4wsyl5O9H",
        "outputId": "79d237d3-810e-434f-d467-69cba4ad3dc5"
      },
      "execution_count": null,
      "outputs": [
        {
          "output_type": "stream",
          "name": "stdout",
          "text": [
            "11\n"
          ]
        }
      ]
    },
    {
      "cell_type": "code",
      "source": [
        "#keyword arguments\n",
        "def info(name, age,**kwargs ):\n",
        "  print(f\"name: {name}, age: {age}\")\n",
        "  for key, value in kwargs.items():\n",
        "    print(f\"{key}: {value}\")\n",
        "info(\"Pramod\", 20, city=\"visakahapatnam\", job=\"Engineer\")"
      ],
      "metadata": {
        "colab": {
          "base_uri": "https://localhost:8080/"
        },
        "id": "3rbs0ltk5pXc",
        "outputId": "5f0a49ab-1d1c-445e-fe50-5dbae4e281fe"
      },
      "execution_count": null,
      "outputs": [
        {
          "output_type": "stream",
          "name": "stdout",
          "text": [
            "name: Pramod, age: 20\n",
            "city: visakahapatnam\n",
            "job: Engineer\n"
          ]
        }
      ]
    },
    {
      "cell_type": "code",
      "source": [
        "#lambda function\n",
        "add = lambda x,y: x+y\n",
        "print(add(8,12))"
      ],
      "metadata": {
        "colab": {
          "base_uri": "https://localhost:8080/"
        },
        "id": "pP4pxMS37NzH",
        "outputId": "275de4ae-7418-48ad-e82b-efb7d7972dba"
      },
      "execution_count": null,
      "outputs": [
        {
          "output_type": "stream",
          "name": "stdout",
          "text": [
            "20\n"
          ]
        }
      ]
    },
    {
      "cell_type": "code",
      "source": [
        "#recursion\n",
        "def factorial(n):\n",
        "  if n==0:\n",
        "    return 1\n",
        "  else:\n",
        "    return n* factorial(n-1)\n",
        "print(factorial(4))"
      ],
      "metadata": {
        "colab": {
          "base_uri": "https://localhost:8080/"
        },
        "id": "WnK0E7az7ha7",
        "outputId": "313195db-7524-4185-9623-4b00f7a40226"
      },
      "execution_count": null,
      "outputs": [
        {
          "output_type": "stream",
          "name": "stdout",
          "text": [
            "24\n"
          ]
        }
      ]
    },
    {
      "cell_type": "code",
      "source": [
        "#nested function\n",
        "def outer_function(x):\n",
        "  def inner_fuction(y):\n",
        "    return y*4\n",
        "    return inner_function(x)\n",
        "result = outer_function(9)\n",
        "print(result)"
      ],
      "metadata": {
        "colab": {
          "base_uri": "https://localhost:8080/"
        },
        "id": "CQEPHNVo8BdB",
        "outputId": "f0fa000a-3b73-4094-b7ea-ca2dede1355e"
      },
      "execution_count": null,
      "outputs": [
        {
          "output_type": "stream",
          "name": "stdout",
          "text": [
            "None\n"
          ]
        }
      ]
    },
    {
      "cell_type": "code",
      "source": [
        "#map function triple\n",
        "num=(1,2,3,4,5)\n",
        "output=map(lambda x:x+x+x,num)\n",
        "print(list(output))"
      ],
      "metadata": {
        "colab": {
          "base_uri": "https://localhost:8080/"
        },
        "id": "BUC65EyX8x2s",
        "outputId": "9d74554c-d588-4aff-9749-853079f2eb43"
      },
      "execution_count": null,
      "outputs": [
        {
          "output_type": "stream",
          "name": "stdout",
          "text": [
            "[3, 6, 9, 12, 15]\n"
          ]
        }
      ]
    },
    {
      "cell_type": "code",
      "source": [
        "#calculating the area\n",
        "def calculate_area(shape, dimensions):\n",
        "    if shape == \"rectangle\":\n",
        "        length, breadth = dimensions\n",
        "        return length * breadth\n",
        "    elif shape == \"circle\":\n",
        "        radius, = dimensions\n",
        "        return 3.14 * radius ** 2\n",
        "    else:\n",
        "        return \"Invalid shape\"\n",
        "def user_input():\n",
        "  print(\"1. Rectangle\")\n",
        "  print(\"2. Circle\")\n",
        "  choice = int(input(\"choice: \"))\n",
        "  if choice == 1:\n",
        "    shape=\"rectangle\"\n",
        "    length = float(input(\"\"))\n",
        "    breadth = float(input(\"\"))\n",
        "    dimensions = (length, breadth)\n",
        "  else:\n",
        "    choice == 2\n",
        "    shape = \"circle\"\n",
        "    radius = float(input(\"\"))\n",
        "    dimensions = (radius,)\n",
        "  return shape,dimensions\n",
        "if __name__ ==\"__main__\":\n",
        "  shape,dimensions = user_input()\n",
        "  area = calculate_area(shape,dimensions)\n",
        "  print(area)\n"
      ],
      "metadata": {
        "id": "q3w1tQph_kbQ",
        "colab": {
          "base_uri": "https://localhost:8080/"
        },
        "outputId": "6e678614-6c02-41a9-86db-b567feff9aa2"
      },
      "execution_count": null,
      "outputs": [
        {
          "output_type": "stream",
          "name": "stdout",
          "text": [
            "1. Rectangle\n",
            "2. Circle\n",
            "choice: 1\n",
            "2\n",
            "3\n",
            "6.0\n"
          ]
        }
      ]
    },
    {
      "cell_type": "code",
      "source": [
        "def reverse_words(text: str)->str:\n",
        "  words = text.split()\n",
        "  reversed_words = words[::-1]\n",
        "  reversed_text = \" \".join(reversed_words)\n",
        "  return reversed_text\n",
        "input_text = \"Hello world\"\n",
        "result = reverse_words(input_text)\n",
        "print(result)\n",
        "\n"
      ],
      "metadata": {
        "colab": {
          "base_uri": "https://localhost:8080/"
        },
        "id": "Iaoai214xkzP",
        "outputId": "ef838b73-bee8-41df-f560-614ec90416ff"
      },
      "execution_count": null,
      "outputs": [
        {
          "output_type": "stream",
          "name": "stdout",
          "text": [
            "world Hello\n"
          ]
        }
      ]
    },
    {
      "cell_type": "code",
      "source": [
        "def analyze_list(numbers):\n",
        "  list_of_numbers = int(input(\"\"))\n",
        "  max_list=[]\n",
        "  min_list=[]\n",
        "  average_list=[]\n",
        "  for i in range(numbers):\n",
        "    if i>i+1:\n"
      ],
      "metadata": {
        "id": "vUgXkTGh1Xsd"
      },
      "execution_count": null,
      "outputs": []
    },
    {
      "cell_type": "code",
      "source": [
        "def analyze_list(numbers):\n",
        "  min_value = min(numbers)\n",
        "  max_value = max(numbers)\n",
        "  average_value = sum(numbers) / len(numbers)\n",
        "  stat={\n",
        "      \"min\": min_value,\n",
        "      \"max\": max_value,\n",
        "      \"average\": average_value\n",
        "  }\n",
        "  return stat\n",
        "number = [1,2,3,4,5,6,7]\n",
        "result = analyze_list(number)\n",
        "print(result)"
      ],
      "metadata": {
        "colab": {
          "base_uri": "https://localhost:8080/"
        },
        "id": "33ZMwi8028oP",
        "outputId": "ffff233d-46fb-4875-8cfb-c9174142e38d"
      },
      "execution_count": null,
      "outputs": [
        {
          "output_type": "stream",
          "name": "stdout",
          "text": [
            "{'min': 1, 'max': 7, 'average': 4.0}\n"
          ]
        }
      ]
    },
    {
      "cell_type": "code",
      "source": [
        "def analyze_list(numbers):\n",
        "  min_value = min(numbers)\n",
        "  max_value = max(numbers)\n",
        "  average_value = sum(numbers) / len(numbers)\n",
        "  stat={\n",
        "      \"min\": min_value,\n",
        "      \"max\": max_value,\n",
        "      \"average\": average_value\n",
        "  }\n",
        "  return stat\n",
        "number = [1,1,3,3,4,7,7]\n",
        "result = analyze_list(number)\n",
        "print(result)"
      ],
      "metadata": {
        "colab": {
          "base_uri": "https://localhost:8080/"
        },
        "id": "lEdCP9VR34Od",
        "outputId": "d7c89bef-4e4e-41c0-8829-95f75024746b"
      },
      "execution_count": null,
      "outputs": [
        {
          "output_type": "stream",
          "name": "stdout",
          "text": [
            "{'min': 1, 'max': 7, 'average': 3.7142857142857144}\n"
          ]
        }
      ]
    },
    {
      "cell_type": "code",
      "source": [],
      "metadata": {
        "id": "kCu4dmFo4dqG"
      },
      "execution_count": null,
      "outputs": []
    }
  ]
}