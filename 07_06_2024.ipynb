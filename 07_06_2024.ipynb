{
  "nbformat": 4,
  "nbformat_minor": 0,
  "metadata": {
    "colab": {
      "provenance": []
    },
    "kernelspec": {
      "name": "python3",
      "display_name": "Python 3"
    },
    "language_info": {
      "name": "python"
    }
  },
  "cells": [
    {
      "cell_type": "code",
      "source": [
        "class Student:\n",
        "  student_id = 'k22fe'\n",
        "  student_name='pramod'\n",
        "  def display():\n",
        "    print(f'student_id: {Student.student_id}\\nStudent_name:{Student.student_name}')\n",
        "Student.display()"
      ],
      "metadata": {
        "colab": {
          "base_uri": "https://localhost:8080/"
        },
        "id": "q-wGbyXmcbp-",
        "outputId": "12c93781-35b2-44c0-eafe-9aa50ddf21d0"
      },
      "execution_count": null,
      "outputs": [
        {
          "output_type": "stream",
          "name": "stdout",
          "text": [
            "student_id: k22fe\n",
            "Student_name:pramod\n"
          ]
        }
      ]
    },
    {
      "cell_type": "code",
      "source": [
        "#class __init__ method\n",
        "#instance variables\n",
        "class Student:\n",
        "  def __init__(self,student_id, student_name):\n",
        "    self.student_id = student_id\n",
        "    self.student_class=None\n",
        "  def set_student_class(self,student_class):\n",
        "    self.student_class=student_class\n",
        "  def display_attributes(self):\n",
        "    attributes = vars(self)\n",
        "    for attr, value in attributes.items():\n",
        "      print(f'{attr}: {value}')\n",
        "student = Student('k22fe','pramod')\n",
        "student.set_student_class('cse')\n",
        "student.display_attributes()"
      ],
      "metadata": {
        "colab": {
          "base_uri": "https://localhost:8080/"
        },
        "id": "8HDCjlp-hNZ8",
        "outputId": "b6c2bab4-5309-49ef-fd89-12db3b616abf"
      },
      "execution_count": null,
      "outputs": [
        {
          "output_type": "stream",
          "name": "stdout",
          "text": [
            "student_id: k22fe\n",
            "student_class: cse\n"
          ]
        }
      ]
    },
    {
      "cell_type": "code",
      "source": [
        "# Python class to find a pair of elements (indices of the two numbers) from a given array whose sum equals a specific target number.\n",
        "class Solution:\n",
        "  def twoSum(self, nums, target):\n",
        "    store={}\n",
        "    for i, num in enumerate(nums):\n",
        "      if target - num in store:\n",
        "        return (store[target - num],i)\n",
        "      store[num]=i\n",
        "print(\"index1=%d, index2=%d\" % Solution().twoSum([10,20,30,10,60],30))\n",
        "\n",
        "\n"
      ],
      "metadata": {
        "colab": {
          "base_uri": "https://localhost:8080/"
        },
        "id": "z6LLxn61kTUm",
        "outputId": "b92f0e4b-6e5b-4f47-ca0e-553ae5ffc12d"
      },
      "execution_count": null,
      "outputs": [
        {
          "output_type": "stream",
          "name": "stdout",
          "text": [
            "index1=0, index2=1\n"
          ]
        }
      ]
    },
    {
      "cell_type": "code",
      "source": [
        "#real life problem\n",
        "#class BankAccount with attributes like account_number, balance, date_of_opening and customer_name, and methods like deposit, withdraw, and check_balance.\n",
        "class BankAccount:\n",
        "  def __init__(self,account_number,balance,date_of_opening,customer_name):\n",
        "    self.account_number=account_number\n",
        "    self.balance=balance\n",
        "    self.date_of_opening=date_of_opening\n",
        "    self.customer_name=customer_name\n",
        "  def deposit(self,amount):\n",
        "    self.balance += amount\n",
        "    print(f\"${amount} has been deposited successfully\")\n",
        "  def withdraw(self,amount):\n",
        "    if amount> self.balance:\n",
        "      print(\"Insufficient balance:\")\n",
        "    else:\n",
        "      self.balance -= amount\n",
        "      print(f\"${amount} has been withdrawn successfully\")\n",
        "  def check_balance(self):\n",
        "    print(f\"Current balance: ${self.balance}\")\n",
        "  def print_customer_details(self):\n",
        "    print(\"Name: \",self.customer_name)\n",
        "    print(\"Account Number:\", self.account_number)\n",
        "    print(\"Date of opening:\",self.date_of_opening)\n",
        "    print(f\"Balance: ${self.balance}\\n\")\n",
        "ac_no_1 = BankAccount(2345, \"01-01-2024\", 1000, \"pramod\")\n",
        "ac_no_2 = BankAccount(1234, \"11-03-2024\", 2000, \"mounik\")\n",
        "ac_no_3 = BankAccount(2312, \"12-01-2024\", 3000, \"sudheer\")\n",
        "print(\"Customer Details:\")\n",
        "ac_no_1.print_customer_details()\n",
        "ac_no_2.print_customer_details()\n",
        "ac_no_3.print_customer_details()\n",
        "\n",
        "\n",
        "\n"
      ],
      "metadata": {
        "colab": {
          "base_uri": "https://localhost:8080/"
        },
        "id": "AGU9RaD8nPq0",
        "outputId": "6875de92-97a1-4dfd-8cd7-4c3b93f240a0"
      },
      "execution_count": null,
      "outputs": [
        {
          "output_type": "stream",
          "name": "stdout",
          "text": [
            "Customer Details:\n",
            "Name:  pramod\n",
            "Account Number: 2345\n",
            "Date of opening: 1000\n",
            "Balance: $01-01-2024\n",
            "\n",
            "Name:  mounik\n",
            "Account Number: 1234\n",
            "Date of opening: 2000\n",
            "Balance: $11-03-2024\n",
            "\n",
            "Name:  sudheer\n",
            "Account Number: 2312\n",
            "Date of opening: 3000\n",
            "Balance: $12-01-2024\n",
            "\n"
          ]
        }
      ]
    },
    {
      "cell_type": "code",
      "source": [
        "#instance variables\n",
        "class Student:\n",
        "  def __init__(self,name,university_name):\n",
        "    self.name=name\n",
        "    self.university_name=university_name\n",
        "student1=Student(\"pramod\",\"lpu\")\n",
        "student2=Student(\"disilvanadh\",\"iit\")"
      ],
      "metadata": {
        "id": "Blw45AH9rgBh"
      },
      "execution_count": null,
      "outputs": []
    },
    {
      "cell_type": "code",
      "source": [
        "#class variables\n",
        "class Student:\n",
        "  student_class_var = 0\n",
        "  def __init__(self,value):\n",
        "    self.student_instance_var = value\n",
        "  def display(self):\n",
        "    print(\"\", Student.student_class_var)\n",
        "a=Student(1)\n",
        "b=Student(2)\n",
        "print(\" \", Student.student_class_var)\n",
        "print(\" \", a.student_class_var)\n",
        "Student.student_class_var = 1\n",
        "a.display()\n",
        "b.display()"
      ],
      "metadata": {
        "colab": {
          "base_uri": "https://localhost:8080/"
        },
        "id": "p3SF0RPZ9jST",
        "outputId": "1aa8f8b0-d575-4b17-bf2b-4377ae18816c"
      },
      "execution_count": null,
      "outputs": [
        {
          "output_type": "stream",
          "name": "stdout",
          "text": [
            "  0\n",
            "  0\n",
            " 1\n",
            " 1\n"
          ]
        }
      ]
    },
    {
      "cell_type": "code",
      "source": [
        "#class method\n",
        "class Example:\n",
        "  age=20\n",
        "  def printAge(cls):\n",
        "    print('My age is:', cls.age)\n",
        "Example.printAge = classmethod(Example.printAge)\n",
        "Example.printAge()"
      ],
      "metadata": {
        "colab": {
          "base_uri": "https://localhost:8080/"
        },
        "id": "aevxylvS_T61",
        "outputId": "f4bc276b-bc8f-4c8d-c110-fcda51830f45"
      },
      "execution_count": null,
      "outputs": [
        {
          "output_type": "stream",
          "name": "stdout",
          "text": [
            "My age is: 20\n"
          ]
        }
      ]
    },
    {
      "cell_type": "code",
      "source": [
        "#deconstructer / destructor\n",
        "class Myclass:\n",
        "  def __del__(self):\n",
        "    print(f\"{self.name} is being deleted\")"
      ],
      "metadata": {
        "id": "511WU_Y-Bauy"
      },
      "execution_count": null,
      "outputs": []
    },
    {
      "cell_type": "code",
      "source": [
        "class Car:\n",
        "  def __init__(self,make,model):\n",
        "    self.make=make\n",
        "    self.model = model\n",
        "  def engine(self):\n",
        "    print(f\"{self.make}{self.model} engine started\")\n",
        "  def drive(self):\n",
        "    print(f\"{self.make}{self.model} is driving\")\n",
        "car = Car(\"benz\",\"GLE COUPE\")\n",
        "car.engine()\n",
        "car.drive()\n",
        "print(car.make)\n",
        "print(car.model)"
      ],
      "metadata": {
        "colab": {
          "base_uri": "https://localhost:8080/"
        },
        "id": "Y5RbPMjwCUA9",
        "outputId": "84f48462-135a-4472-d63f-a525e3664411"
      },
      "execution_count": null,
      "outputs": [
        {
          "output_type": "stream",
          "name": "stdout",
          "text": [
            "benzGLE COUPE engine started\n",
            "benzGLE COUPE is driving\n",
            "benz\n",
            "GLE COUPE\n"
          ]
        }
      ]
    }
  ]
}